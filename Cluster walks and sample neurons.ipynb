{
 "cells": [
  {
   "cell_type": "code",
   "execution_count": 3,
   "metadata": {},
   "outputs": [],
   "source": [
    "import torch\n",
    "import pickle\n",
    "\n",
    "import numpy as np\n",
    "from copy import copy, deepcopy\n",
    "from utils.vmf_batch import vMF\n",
    "from models import PoolingClassifier\n",
    "from utils.rw_utils import load_neurons\n",
    "from utils.cluster_utils import _convert_cluster_results_dict_into_array, get_clustered_rws_agglom, tree_from_clustered_result\n",
    "from utils.sampling_utils import _fill_with_infty, decode_z, sample_rws\n",
    "\n",
    "from utils.training_utils import create_model\n",
    "\n",
    "## plotting ###\n",
    "\n",
    "import warnings\n",
    "warnings.filterwarnings(\"ignore\")\n",
    "\n",
    "import matplotlib.pyplot as plt\n",
    "import seaborn as sns\n",
    "\n",
    "%matplotlib inline"
   ]
  },
  {
   "cell_type": "code",
   "execution_count": 6,
   "metadata": {},
   "outputs": [],
   "source": [
    "#load in data\n",
    "neurons = load_neurons('./data/toy_data/3_populations/neurons/')"
   ]
  },
  {
   "cell_type": "code",
   "execution_count": 9,
   "metadata": {},
   "outputs": [],
   "source": [
    "z = neurons[0]"
   ]
  },
  {
   "cell_type": "code",
   "execution_count": 11,
   "metadata": {},
   "outputs": [
    {
     "data": {
      "text/html": [
       "<div>\n",
       "<style scoped>\n",
       "    .dataframe tbody tr th:only-of-type {\n",
       "        vertical-align: middle;\n",
       "    }\n",
       "\n",
       "    .dataframe tbody tr th {\n",
       "        vertical-align: top;\n",
       "    }\n",
       "\n",
       "    .dataframe thead th {\n",
       "        text-align: right;\n",
       "    }\n",
       "</style>\n",
       "<table border=\"1\" class=\"dataframe\">\n",
       "  <thead>\n",
       "    <tr style=\"text-align: right;\">\n",
       "      <th></th>\n",
       "      <th>n</th>\n",
       "      <th>type</th>\n",
       "      <th>x</th>\n",
       "      <th>y</th>\n",
       "      <th>z</th>\n",
       "      <th>radius</th>\n",
       "      <th>parent</th>\n",
       "    </tr>\n",
       "  </thead>\n",
       "  <tbody>\n",
       "    <tr>\n",
       "      <th>0</th>\n",
       "      <td>0</td>\n",
       "      <td>1</td>\n",
       "      <td>0.00</td>\n",
       "      <td>0.00</td>\n",
       "      <td>0.00</td>\n",
       "      <td>1.0</td>\n",
       "      <td>-1</td>\n",
       "    </tr>\n",
       "    <tr>\n",
       "      <th>1</th>\n",
       "      <td>1</td>\n",
       "      <td>3</td>\n",
       "      <td>0.46</td>\n",
       "      <td>-1.25</td>\n",
       "      <td>0.12</td>\n",
       "      <td>1.0</td>\n",
       "      <td>0</td>\n",
       "    </tr>\n",
       "    <tr>\n",
       "      <th>2</th>\n",
       "      <td>2</td>\n",
       "      <td>3</td>\n",
       "      <td>0.86</td>\n",
       "      <td>0.27</td>\n",
       "      <td>-0.14</td>\n",
       "      <td>1.0</td>\n",
       "      <td>1</td>\n",
       "    </tr>\n",
       "    <tr>\n",
       "      <th>3</th>\n",
       "      <td>3</td>\n",
       "      <td>3</td>\n",
       "      <td>1.24</td>\n",
       "      <td>1.86</td>\n",
       "      <td>1.03</td>\n",
       "      <td>1.0</td>\n",
       "      <td>2</td>\n",
       "    </tr>\n",
       "    <tr>\n",
       "      <th>4</th>\n",
       "      <td>4</td>\n",
       "      <td>3</td>\n",
       "      <td>1.70</td>\n",
       "      <td>0.57</td>\n",
       "      <td>1.92</td>\n",
       "      <td>1.0</td>\n",
       "      <td>3</td>\n",
       "    </tr>\n",
       "    <tr>\n",
       "      <th>...</th>\n",
       "      <td>...</td>\n",
       "      <td>...</td>\n",
       "      <td>...</td>\n",
       "      <td>...</td>\n",
       "      <td>...</td>\n",
       "      <td>...</td>\n",
       "      <td>...</td>\n",
       "    </tr>\n",
       "    <tr>\n",
       "      <th>195</th>\n",
       "      <td>195</td>\n",
       "      <td>3</td>\n",
       "      <td>-5.02</td>\n",
       "      <td>1.22</td>\n",
       "      <td>0.13</td>\n",
       "      <td>1.0</td>\n",
       "      <td>165</td>\n",
       "    </tr>\n",
       "    <tr>\n",
       "      <th>196</th>\n",
       "      <td>196</td>\n",
       "      <td>3</td>\n",
       "      <td>-4.59</td>\n",
       "      <td>-0.36</td>\n",
       "      <td>1.51</td>\n",
       "      <td>1.0</td>\n",
       "      <td>166</td>\n",
       "    </tr>\n",
       "    <tr>\n",
       "      <th>197</th>\n",
       "      <td>197</td>\n",
       "      <td>3</td>\n",
       "      <td>-4.82</td>\n",
       "      <td>-0.72</td>\n",
       "      <td>-0.36</td>\n",
       "      <td>1.0</td>\n",
       "      <td>167</td>\n",
       "    </tr>\n",
       "    <tr>\n",
       "      <th>198</th>\n",
       "      <td>198</td>\n",
       "      <td>3</td>\n",
       "      <td>-4.79</td>\n",
       "      <td>-2.25</td>\n",
       "      <td>2.75</td>\n",
       "      <td>1.0</td>\n",
       "      <td>167</td>\n",
       "    </tr>\n",
       "    <tr>\n",
       "      <th>199</th>\n",
       "      <td>199</td>\n",
       "      <td>3</td>\n",
       "      <td>-4.80</td>\n",
       "      <td>-2.15</td>\n",
       "      <td>1.88</td>\n",
       "      <td>1.0</td>\n",
       "      <td>167</td>\n",
       "    </tr>\n",
       "  </tbody>\n",
       "</table>\n",
       "<p>200 rows × 7 columns</p>\n",
       "</div>"
      ],
      "text/plain": [
       "       n  type     x     y     z  radius  parent\n",
       "0      0     1  0.00  0.00  0.00     1.0      -1\n",
       "1      1     3  0.46 -1.25  0.12     1.0       0\n",
       "2      2     3  0.86  0.27 -0.14     1.0       1\n",
       "3      3     3  1.24  1.86  1.03     1.0       2\n",
       "4      4     3  1.70  0.57  1.92     1.0       3\n",
       "..   ...   ...   ...   ...   ...     ...     ...\n",
       "195  195     3 -5.02  1.22  0.13     1.0     165\n",
       "196  196     3 -4.59 -0.36  1.51     1.0     166\n",
       "197  197     3 -4.82 -0.72 -0.36     1.0     167\n",
       "198  198     3 -4.79 -2.25  2.75     1.0     167\n",
       "199  199     3 -4.80 -2.15  1.88     1.0     167\n",
       "\n",
       "[200 rows x 7 columns]"
      ]
     },
     "execution_count": 11,
     "metadata": {},
     "output_type": "execute_result"
    }
   ],
   "source": [
    "z.to_swc()"
   ]
  },
  {
   "cell_type": "code",
   "execution_count": 3,
   "metadata": {},
   "outputs": [],
   "source": [
    "with open('./data/toy_data/3_populations/walk_representation_8.npy', 'rb') as f:\n",
    "    walk_representation = np.load(f)"
   ]
  },
  {
   "cell_type": "code",
   "execution_count": 4,
   "metadata": {},
   "outputs": [],
   "source": [
    "with open('./data/toy_data/3_populations/iterator/val_iterator.pkl', 'rb') as f:\n",
    "    val_iterator = pickle.load(f)\n",
    "with open('./data/toy_data/3_populations/iterator/test_iterator.pkl', 'rb') as f:\n",
    "    test_iterator = pickle.load(f)"
   ]
  },
  {
   "cell_type": "code",
   "execution_count": 5,
   "metadata": {},
   "outputs": [],
   "source": [
    "SEED = 17\n",
    "# get data\n",
    "np.random.seed(SEED)\n",
    "torch.random.manual_seed(SEED)\n",
    "src_data, trg_data, seq_len, indices, labels = list(test_iterator)[0]\n",
    "rw_i = np.round(trg_data, 2)"
   ]
  },
  {
   "cell_type": "code",
   "execution_count": 6,
   "metadata": {},
   "outputs": [
    {
     "name": "stdout",
     "output_type": "stream",
     "text": [
      "KLD: 45.709938049316406\n"
     ]
    }
   ],
   "source": [
    "device = torch.device('cuda' if torch.cuda.is_available() else 'cpu')\n",
    "\n",
    "config = dict(input_dim =3, embed_dim=32, hidden_dim=32, latent_dim=32, num_layers = 2, kappa=500, dropout=.1)\n",
    "\n",
    "model = create_model(config, device)"
   ]
  },
  {
   "cell_type": "code",
   "execution_count": 7,
   "metadata": {},
   "outputs": [
    {
     "ename": "FileNotFoundError",
     "evalue": "[Errno 2] No such file or directory: './models/3_populations/emb32_hid32_lat32_dp0.1_k500_max_frac1.0_run1_best.pt'",
     "output_type": "error",
     "traceback": [
      "\u001b[0;31m---------------------------------------------------------------------------\u001b[0m",
      "\u001b[0;31mFileNotFoundError\u001b[0m                         Traceback (most recent call last)",
      "\u001b[0;32m<ipython-input-7-21908d251481>\u001b[0m in \u001b[0;36m<module>\u001b[0;34m()\u001b[0m\n\u001b[0;32m----> 1\u001b[0;31m \u001b[0mstate_dict\u001b[0m \u001b[0;34m=\u001b[0m \u001b[0mtorch\u001b[0m\u001b[0;34m.\u001b[0m\u001b[0mload\u001b[0m\u001b[0;34m(\u001b[0m\u001b[0;34m'./models/3_populations/emb32_hid32_lat32_dp0.1_k500_max_frac1.0_run1_best.pt'\u001b[0m\u001b[0;34m)\u001b[0m\u001b[0;34m\u001b[0m\u001b[0;34m\u001b[0m\u001b[0m\n\u001b[0m\u001b[1;32m      2\u001b[0m \u001b[0mmodel\u001b[0m\u001b[0;34m.\u001b[0m\u001b[0mload_state_dict\u001b[0m\u001b[0;34m(\u001b[0m\u001b[0mstate_dict\u001b[0m\u001b[0;34m[\u001b[0m\u001b[0;34m'model_state_dict'\u001b[0m\u001b[0;34m]\u001b[0m\u001b[0;34m)\u001b[0m\u001b[0;34m\u001b[0m\u001b[0;34m\u001b[0m\u001b[0m\n\u001b[1;32m      3\u001b[0m \u001b[0mmodel\u001b[0m\u001b[0;34m.\u001b[0m\u001b[0meval\u001b[0m\u001b[0;34m(\u001b[0m\u001b[0;34m)\u001b[0m\u001b[0;34m\u001b[0m\u001b[0;34m\u001b[0m\u001b[0m\n\u001b[1;32m      4\u001b[0m \u001b[0;32mwith\u001b[0m \u001b[0mtorch\u001b[0m\u001b[0;34m.\u001b[0m\u001b[0mno_grad\u001b[0m\u001b[0;34m(\u001b[0m\u001b[0;34m)\u001b[0m\u001b[0;34m:\u001b[0m\u001b[0;34m\u001b[0m\u001b[0;34m\u001b[0m\u001b[0m\n\u001b[1;32m      5\u001b[0m     \u001b[0mbs\u001b[0m\u001b[0;34m,\u001b[0m \u001b[0mn_walks\u001b[0m\u001b[0;34m,\u001b[0m \u001b[0mwalk_length\u001b[0m\u001b[0;34m,\u001b[0m \u001b[0minput_dim\u001b[0m \u001b[0;34m=\u001b[0m \u001b[0msrc_data\u001b[0m\u001b[0;34m.\u001b[0m\u001b[0mshape\u001b[0m\u001b[0;34m\u001b[0m\u001b[0;34m\u001b[0m\u001b[0m\n",
      "\u001b[0;32m/packages/7x/anaconda3/5.3.0/lib/python3.7/site-packages/torch/serialization.py\u001b[0m in \u001b[0;36mload\u001b[0;34m(f, map_location, pickle_module, **pickle_load_args)\u001b[0m\n\u001b[1;32m    379\u001b[0m             \u001b[0;34m(\u001b[0m\u001b[0msys\u001b[0m\u001b[0;34m.\u001b[0m\u001b[0mversion_info\u001b[0m\u001b[0;34m[\u001b[0m\u001b[0;36m0\u001b[0m\u001b[0;34m]\u001b[0m \u001b[0;34m==\u001b[0m \u001b[0;36m2\u001b[0m \u001b[0;32mand\u001b[0m \u001b[0misinstance\u001b[0m\u001b[0;34m(\u001b[0m\u001b[0mf\u001b[0m\u001b[0;34m,\u001b[0m \u001b[0municode\u001b[0m\u001b[0;34m)\u001b[0m\u001b[0;34m)\u001b[0m\u001b[0;34m:\u001b[0m\u001b[0;34m\u001b[0m\u001b[0;34m\u001b[0m\u001b[0m\n\u001b[1;32m    380\u001b[0m         \u001b[0mnew_fd\u001b[0m \u001b[0;34m=\u001b[0m \u001b[0;32mTrue\u001b[0m\u001b[0;34m\u001b[0m\u001b[0;34m\u001b[0m\u001b[0m\n\u001b[0;32m--> 381\u001b[0;31m         \u001b[0mf\u001b[0m \u001b[0;34m=\u001b[0m \u001b[0mopen\u001b[0m\u001b[0;34m(\u001b[0m\u001b[0mf\u001b[0m\u001b[0;34m,\u001b[0m \u001b[0;34m'rb'\u001b[0m\u001b[0;34m)\u001b[0m\u001b[0;34m\u001b[0m\u001b[0;34m\u001b[0m\u001b[0m\n\u001b[0m\u001b[1;32m    382\u001b[0m     \u001b[0;32melif\u001b[0m \u001b[0;34m(\u001b[0m\u001b[0msys\u001b[0m\u001b[0;34m.\u001b[0m\u001b[0mversion_info\u001b[0m\u001b[0;34m[\u001b[0m\u001b[0;36m0\u001b[0m\u001b[0;34m]\u001b[0m \u001b[0;34m==\u001b[0m \u001b[0;36m3\u001b[0m \u001b[0;32mand\u001b[0m \u001b[0misinstance\u001b[0m\u001b[0;34m(\u001b[0m\u001b[0mf\u001b[0m\u001b[0;34m,\u001b[0m \u001b[0mpathlib\u001b[0m\u001b[0;34m.\u001b[0m\u001b[0mPath\u001b[0m\u001b[0;34m)\u001b[0m\u001b[0;34m)\u001b[0m\u001b[0;34m:\u001b[0m\u001b[0;34m\u001b[0m\u001b[0;34m\u001b[0m\u001b[0m\n\u001b[1;32m    383\u001b[0m         \u001b[0mnew_fd\u001b[0m \u001b[0;34m=\u001b[0m \u001b[0;32mTrue\u001b[0m\u001b[0;34m\u001b[0m\u001b[0;34m\u001b[0m\u001b[0m\n",
      "\u001b[0;31mFileNotFoundError\u001b[0m: [Errno 2] No such file or directory: './models/3_populations/emb32_hid32_lat32_dp0.1_k500_max_frac1.0_run1_best.pt'"
     ]
    }
   ],
   "source": [
    "state_dict = torch.load('./models/3_populations/emb32_hid32_lat32_dp0.1_k500_max_frac1.0_run1_best.pt')\n",
    "model.load_state_dict(state_dict['model_state_dict'])\n",
    "model.eval()\n",
    "with torch.no_grad():\n",
    "    bs, n_walks, walk_length, input_dim = src_data.shape\n",
    "    src = src_data.view(-1,walk_length,input_dim).transpose(0,1).to(device)\n",
    "    # src = [walk length , bs * n_walks, input_dim]\n",
    "    trg = trg_data.view(-1,walk_length,input_dim).transpose(0,1).to(device)\n",
    "    seq_len = seq_len.view(-1).to(device)\n",
    "    output = model(src, seq_len, trg, 0)"
   ]
  },
  {
   "cell_type": "code",
   "execution_count": null,
   "metadata": {},
   "outputs": [],
   "source": [
    "with open('./models/3_populations/losses_emb32_hid32_lat32_dp0.1_k500_max_frac1.0_1.npy', 'rb') as f:\n",
    "    l1 = np.load(f)"
   ]
  },
  {
   "cell_type": "code",
   "execution_count": null,
   "metadata": {},
   "outputs": [],
   "source": [
    "np.min(l1[:,2] - l1[:,3])"
   ]
  },
  {
   "cell_type": "markdown",
   "metadata": {},
   "source": [
    "## sample neurons"
   ]
  },
  {
   "cell_type": "code",
   "execution_count": null,
   "metadata": {},
   "outputs": [],
   "source": [
    "rw_0 = _fill_with_infty(rw_i.reshape(-1,walk_length,3).transpose(0,1), seq_len.reshape(-1))\n",
    "rw_i = rw_0.transpose(0,1).reshape(-1,n_walks,walk_length, 3)"
   ]
  },
  {
   "cell_type": "code",
   "execution_count": null,
   "metadata": {},
   "outputs": [],
   "source": [
    "indices_0 = np.where(labels == 0)[0]\n",
    "indices_1 = np.where(labels == 1)[0]\n",
    "indices_2 = np.where(labels == 2)[0]"
   ]
  },
  {
   "cell_type": "code",
   "execution_count": null,
   "metadata": {},
   "outputs": [],
   "source": [
    "sns.set_context(\"notebook\")"
   ]
  },
  {
   "cell_type": "code",
   "execution_count": null,
   "metadata": {},
   "outputs": [],
   "source": [
    "np.random.seed(SEED)\n",
    "random_indices = np.array([np.random.choice(indices_0, size=2),\n",
    "                                 np.random.choice(indices_1, size=2),\n",
    "                                 np.random.choice(indices_2, size=2)])\n",
    "random_indices = random_indices.flatten()"
   ]
  },
  {
   "cell_type": "code",
   "execution_count": 20,
   "metadata": {},
   "outputs": [
    {
     "name": "stdout",
     "output_type": "stream",
     "text": [
      "KLD: 18.465579986572266\n"
     ]
    },
    {
     "ename": "NameError",
     "evalue": "name 'get_no_intersections' is not defined",
     "output_type": "error",
     "traceback": [
      "\u001b[0;31m---------------------------------------------------------------------------\u001b[0m",
      "\u001b[0;31mNameError\u001b[0m                                 Traceback (most recent call last)",
      "\u001b[0;32m<ipython-input-20-ef4341e10e80>\u001b[0m in \u001b[0;36m<module>\u001b[0;34m()\u001b[0m\n\u001b[1;32m     10\u001b[0m \u001b[0;32mfor\u001b[0m \u001b[0mix\u001b[0m \u001b[0;32min\u001b[0m \u001b[0mrandom_indices\u001b[0m\u001b[0;34m:\u001b[0m\u001b[0;34m\u001b[0m\u001b[0;34m\u001b[0m\u001b[0m\n\u001b[1;32m     11\u001b[0m     \u001b[0mrw_rep\u001b[0m \u001b[0;34m=\u001b[0m \u001b[0mrw_i\u001b[0m\u001b[0;34m[\u001b[0m\u001b[0mix\u001b[0m\u001b[0;34m]\u001b[0m\u001b[0;34m\u001b[0m\u001b[0;34m\u001b[0m\u001b[0m\n\u001b[0;32m---> 12\u001b[0;31m     \u001b[0mno_intersection\u001b[0m \u001b[0;34m=\u001b[0m \u001b[0mget_no_intersections\u001b[0m\u001b[0;34m(\u001b[0m\u001b[0mrw_rep\u001b[0m\u001b[0;34m)\u001b[0m\u001b[0;34m\u001b[0m\u001b[0;34m\u001b[0m\u001b[0m\n\u001b[0m\u001b[1;32m     13\u001b[0m     \u001b[0;31m# get the encoded random walks. This only works if I have passed the data through already\u001b[0m\u001b[0;34m\u001b[0m\u001b[0;34m\u001b[0m\u001b[0;34m\u001b[0m\u001b[0m\n\u001b[1;32m     14\u001b[0m     \u001b[0mmus\u001b[0m \u001b[0;34m=\u001b[0m \u001b[0mmodel\u001b[0m\u001b[0;34m.\u001b[0m\u001b[0mh\u001b[0m\u001b[0;34m[\u001b[0m\u001b[0mix\u001b[0m\u001b[0;34m*\u001b[0m\u001b[0mn_walks\u001b[0m\u001b[0;34m:\u001b[0m \u001b[0mix\u001b[0m\u001b[0;34m*\u001b[0m\u001b[0mn_walks\u001b[0m\u001b[0;34m+\u001b[0m\u001b[0mn_walks\u001b[0m\u001b[0;34m]\u001b[0m\u001b[0;34m\u001b[0m\u001b[0;34m\u001b[0m\u001b[0m\n",
      "\u001b[0;31mNameError\u001b[0m: name 'get_no_intersections' is not defined"
     ]
    },
    {
     "data": {
      "image/png": "[encoded data removed]",
      "text/plain": [
       "<Figure size 864x432 with 18 Axes>"
      ]
     },
     "metadata": {
      "needs_background": "light"
     },
     "output_type": "display_data"
    }
   ],
   "source": [
    "# this was obtained with threshold .5 and merging\n",
    "fig, axes = plt.subplots(3,6, sharex=True, sharey=True, figsize=(12,6))\n",
    "axes = axes.flatten()\n",
    "\n",
    "colors = sns.color_palette('pink', n_colors=4)\n",
    "\n",
    "vmf = vMF(LATENT_DIM, kappa=500)\n",
    "np.random.seed(SEED)\n",
    "k = 0\n",
    "for ix in random_indices:                   \n",
    "    rw_rep = rw_i[ix]\n",
    "    no_intersection = get_no_intersections(rw_rep)\n",
    "    # get the encoded random walks. This only works if I have passed the data through already\n",
    "    mus = model.h[ix*n_walks: ix*n_walks+n_walks]\n",
    "    original_seq_len = seq_len[ix*n_walks: ix*n_walks+n_walks].cpu()\n",
    "    decoded_rws = sample_rws(model,vmf, mus, orig_seq_len=original_seq_len, \n",
    "                             n_samples=2, max_trg_len=walk_length, min_angle=np.pi/2.4)\n",
    "    \n",
    "    # cluster the rws\n",
    "    clustered_rws = []\n",
    "    clustered_results = []\n",
    "    for rws in decoded_rws:\n",
    "        clus_res, clus_rws = get_clustered_rws_agglom(rws,dist_thresh=.5 )\n",
    "        clustered_rws.append(clus_rws.reshape((1,)+clus_rws.shape))\n",
    "        clustered_results.append(clus_res)\n",
    "    clustered_rws = np.vstack(clustered_rws)\n",
    "    # reduce to trees\n",
    "    new_neurons = []\n",
    "    for clus_res in clustered_results:\n",
    "        N = tree_from_clustered_result(clus_res)\n",
    "        new_neurons.append(N)\n",
    "    \n",
    "    if k == 0 or k ==3:\n",
    "        c= colors[0]\n",
    "    elif k == 6 or k ==9:\n",
    "        c= colors[1]\n",
    "    elif k == 12 or k ==15:\n",
    "        c= colors[2]    \n",
    "    \n",
    "    neurons[indices[ix]].draw_2D(ax=axes[k], dendrite_color=c, projection='xy')\n",
    "\n",
    "    axes[k].axis('off')\n",
    "\n",
    "    for l in range(k+1,k+3):\n",
    "        \n",
    "        sampled_rws = decoded_rws[l-k-1]\n",
    "        axes[l].plot(sampled_rws[:,:,0].T, sampled_rws[:,:,1].T, c='darkgrey')\n",
    "        axes[l].axis('off')\n",
    "        axes[l].set_aspect('equal')\n",
    "        new_neurons[l-k-1].draw_2D(projection='xy', dendrite_color='k', ax=axes[l])\n",
    "    k += 3\n",
    "fig.subplots_adjust(hspace=-.1, wspace=-.1)\n",
    "#plt.savefig('./pics/ICML/v3/Fig5/toy_data_reconstructions.svg', format='svg')"
   ]
  },
  {
   "cell_type": "markdown",
   "metadata": {},
   "source": [
    "# On real data"
   ]
  },
  {
   "cell_type": "code",
   "execution_count": null,
   "metadata": {},
   "outputs": [],
   "source": [
    "neurons = load_neurons('./data/M1_exc_data/neurons/', sort=False)\n",
    "\n",
    "colors =['#338b5f', \n",
    "        '#0d5d7f',\n",
    "        '#55b7a6']"
   ]
  },
  {
   "cell_type": "code",
   "execution_count": null,
   "metadata": {},
   "outputs": [],
   "source": [
    "with open('./data/M1_exc_data/walks/walk_representation.npy', 'rb') as f:\n",
    "    walk_representation = np.load(f)\n",
    "\n",
    "with open('./data/M1_exc_data/iterator/m_labels/train_iterator.pkl', 'rb') as f:\n",
    "    train_iterator = pickle.load(f)\n",
    "with open('./data/M1_exc_data/iterator/m_labels/val_iterator.pkl', 'rb') as f:\n",
    "    val_iterator = pickle.load(f)\n",
    "with open('./data/M1_exc_data/iterator/m_labels/test_iterator.pkl', 'rb') as f:\n",
    "    test_iterator = pickle.load(f)"
   ]
  },
  {
   "cell_type": "code",
   "execution_count": null,
   "metadata": {},
   "outputs": [],
   "source": [
    "SEED = 17\n",
    "# get data\n",
    "np.random.seed(SEED)\n",
    "torch.manual_seed(SEED)\n",
    "src_data, trg_data, seq_len, indices, labels = list(val_iterator)[0]\n",
    "rw_i = np.round(trg_data, 2)\n",
    "\n",
    "N, n_walks, walk_length, input_dim = src_data.shape"
   ]
  },
  {
   "cell_type": "code",
   "execution_count": null,
   "metadata": {},
   "outputs": [],
   "source": [
    "device = torch.device('cuda' if torch.cuda.is_available() else 'cpu')\n",
    "\n",
    "config = dict(input_dim =3, embed_dim=32, hidden_dim=32, latent_dim=32, num_layers = 2, kappa=500, dropout=.1)\n",
    "\n",
    "model = create_model(config, device)\n",
    "\n",
    "LATENT_DIM = config['latent_dim']\n",
    "\n",
    "# model with the best validation loss \n",
    "state_dict = torch.load('./models/M1_exc/m_label/finetuned_vae_k500_frac1.0_best_run2.pt', map_location=torch.device('cpu'))\n",
    "model.load_state_dict(state_dict['model_state_dict'])\n"
   ]
  },
  {
   "cell_type": "code",
   "execution_count": null,
   "metadata": {},
   "outputs": [],
   "source": [
    "with torch.no_grad():\n",
    "    bs, n_walks, walk_length, input_dim = src_data.shape\n",
    "    src = src_data.view(-1,walk_length,input_dim).transpose(0,1).to(device)\n",
    "    # src = [walk length , bs * n_walks, input_dim]\n",
    "    trg = trg_data.view(-1,walk_length,input_dim).transpose(0,1).to(device)\n",
    "    seq_len = seq_len.view(-1).to(device)\n",
    "    output = model(src, seq_len, trg, 0)"
   ]
  },
  {
   "cell_type": "code",
   "execution_count": null,
   "metadata": {},
   "outputs": [],
   "source": [
    "rw_0 = _fill_with_infty(rw_i.reshape(-1,walk_length,input_dim).transpose(0,1), seq_len.reshape(-1))\n",
    "rw_i = rw_0.transpose(0,1).reshape(-1,n_walks,walk_length, input_dim)"
   ]
  },
  {
   "cell_type": "code",
   "execution_count": null,
   "metadata": {},
   "outputs": [],
   "source": [
    "indices_0 = np.where(labels == 0)[0]\n",
    "indices_1 = np.where(labels == 1)[0]\n",
    "indices_2 = np.where(labels == 2)[0]"
   ]
  },
  {
   "cell_type": "code",
   "execution_count": null,
   "metadata": {},
   "outputs": [],
   "source": [
    "# sample one neuron and check how it looks\n",
    "model.eval()\n",
    "vmf = vMF(LATENT_DIM, kappa=500)\n",
    "ix =8\n",
    "rw_rep = rw_i[ix]\n",
    "walk_length=32\n",
    "\n",
    "# get the encoded random walks. This only works if I have passed the data through already\n",
    "mus = model.h[ix*n_walks: ix*n_walks+n_walks]\n",
    "orig_seq_len = seq_len[ix*n_walks: ix*n_walks+n_walks].cpu()\n",
    "decoded_rws = sample_rws(model, vmf, mus, orig_seq_len=orig_seq_len,\n",
    "                         n_samples=3, max_trg_len=walk_length, min_angle=np.pi/2.4)\n",
    "\n",
    "# cluster the rws\n",
    "clustered_rws = []\n",
    "clustered_results = []\n",
    "stems = len(neurons[ix].edges(1))\n",
    "for rws in decoded_rws:\n",
    "    clus_res, clus_rws = get_clustered_rws_agglom(rws, dist_thresh=.4)\n",
    "#     clus_res = cluster_rws_soma2tip(rws, stems,dist_thresh=1.2)\n",
    "    clus_rws = _convert_cluster_results_dict_into_array(rws.shape, clus_res)\n",
    "    clustered_rws.append(clus_rws.reshape((1,)+clus_rws.shape))\n",
    "    clustered_results.append(clus_res)\n",
    "clustered_rws = np.vstack(clustered_rws)\n",
    "# reduce to trees\n",
    "new_neurons = []\n",
    "for clus_res in clustered_results:\n",
    "    N = tree_from_clustered_result(clus_res)\n",
    "    new_neurons.append(N)\n",
    "    \n",
    "    \n",
    "fig, axes = plt.subplots(1,4, sharex=True, sharey=True, figsize=(16,4))\n",
    "neurons[indices[ix]].draw_2D(ax=axes[0], dendrite_color='k', projection='xz')\n",
    "axes[0].plot(rw_rep[:,:,0].T, rw_rep[:,:,2].T, c='darkgrey')\n",
    "axes[0].axis('off')\n",
    "axes[0].set_aspect('equal')\n",
    "\n",
    "for l in range(1,4):    \n",
    "    sampled_rws = decoded_rws[l-1]\n",
    "    axes[l].plot(sampled_rws[:,:,0].T, sampled_rws[:,:,2].T, c='darkgrey')\n",
    "    axes[l].axis('off')\n",
    "    new_neurons[l-1].draw_2D(projection='xz', dendrite_color='k', ax=axes[l])\n",
    "    axes[l].set_aspect('equal')\n",
    "fig.subplots_adjust( wspace=-.1)"
   ]
  },
  {
   "cell_type": "code",
   "execution_count": null,
   "metadata": {},
   "outputs": [],
   "source": [
    "### Code for plotting single examples\n",
    "\n",
    "fig, axes = plt.subplots(1,2, sharex=True, sharey=True, figsize=(4,4))\n",
    "l = 1\n",
    "neurons[indices[ix]].draw_2D(ax=axes[0], dendrite_color=colors[l], projection='xz')\n",
    "axes[0].axis('off')\n",
    "axes[0].set_aspect('equal')\n",
    "\n",
    "inset_axis = axes[0].inset_axes([.7,.8,.5,.5])\n",
    "neurons[indices[ix]].draw_2D(ax=inset_axis, dendrite_color=colors[l], projection='xy', linewidth=2)\n",
    "inset_axis.axis('off')\n",
    "inset_axis.set_aspect('equal')\n",
    "\n",
    "d_ix = 0\n",
    "sampled_rws = decoded_rws[d_ix]\n",
    "axes[1].plot(sampled_rws[:,:,0].T, sampled_rws[:,:,2].T, c='darkgrey')\n",
    "axes[1].axis('off')\n",
    "new_neurons[d_ix].draw_2D(projection='xz', dendrite_color='k', ax=axes[1],linewidth=2)\n",
    "axes[1].set_aspect('equal')\n",
    "\n",
    "inset_axis_sample = axes[1].inset_axes([.7,.8,.5,.5])\n",
    "# inset_axis_sample.plot(sampled_rws[:,:,0].T, sampled_rws[:,:,2].T, c='darkgrey')\n",
    "new_neurons[d_ix].draw_2D(ax=inset_axis_sample, dendrite_color='k', projection='xy',linewidth=2)\n",
    "inset_axis_sample.axis('off')\n",
    "inset_axis_sample.set_aspect('equal')\n",
    "\n",
    "fig.subplots_adjust( wspace=-.1)\n",
    "plt.tight_layout()\n",
    "plt.savefig('./pics/ICML/camera-ready/Fig6/untufted_example_1.svg')"
   ]
  },
  {
   "cell_type": "code",
   "execution_count": null,
   "metadata": {},
   "outputs": [],
   "source": [
    "torch.cuda.empty_cache()"
   ]
  },
  {
   "cell_type": "code",
   "execution_count": null,
   "metadata": {},
   "outputs": [],
   "source": [
    "# plotting 2 examples per class\n",
    "np.random.seed(SEED-10)\n",
    "# np.random.seed(SEED-2)\n",
    "random_indices = np.array([np.random.choice(indices_0, size=2, replace=False),\n",
    "                                 np.random.choice(indices_1, size=2,replace=False),\n",
    "                                 np.random.choice(indices_2, size=2,replace=False)])\n",
    "random_indices = random_indices.flatten()\n",
    "random_indices\n",
    "\n",
    "colors =['#338b5f', \n",
    "        '#0d5d7f',\n",
    "        '#55b7a6']\n",
    "\n",
    "fig, axes = plt.subplots(3,6, sharex=True, sharey=True, figsize=(18,9))\n",
    "axes = axes.flatten()\n",
    "model.eval()\n",
    "vmf = vMF(LATENT_DIM, kappa=500)\n",
    "\n",
    "k = 0\n",
    "for ix in random_indices:                   \n",
    "    rw_rep = rw_i[ix]\n",
    "\n",
    "    # get the encoded random walks. This only works if I have passed the data through already\n",
    "    mus = model.h[ix*n_walks: ix*n_walks+n_walks]\n",
    "    decoded_rws = sample_rws(model, vmf, mus, n_samples=2, max_trg_len=walk_length, min_angle=np.pi/2.4)\n",
    "    \n",
    "    # cluster the rws\n",
    "    clustered_rws = []\n",
    "    clustered_results = []\n",
    "    for rws in decoded_rws:\n",
    "        clus_res, clus_rws = get_clustered_rws_agglom(rws, dist_thresh=.4)\n",
    "        clustered_rws.append(clus_rws.reshape((1,)+clus_rws.shape))\n",
    "        clustered_results.append(clus_res)\n",
    "    clustered_rws = np.vstack(clustered_rws)\n",
    "    # reduce to trees\n",
    "    new_neurons = []\n",
    "    for clus_res in clustered_results:\n",
    "        N = tree_from_clustered_result(clus_res)\n",
    "        new_neurons.append(N)\n",
    "    \n",
    "    if k == 0 or k ==3:\n",
    "        c= colors[0]\n",
    "    elif k == 6 or k ==9:\n",
    "        c= colors[1]\n",
    "    elif k == 12 or k ==15:\n",
    "        c= colors[2]  \n",
    "    \n",
    "    neurons[indices[ix]].draw_2D(ax=axes[k], dendrite_color=c, projection='xz')\n",
    "    #_ = axes[k].plot(rw_rep[:,:,0].T, rw_rep[:,:,2].T, c='grey', alpha=.1)\n",
    "    axes[k].axis('off')\n",
    "\n",
    "    for l in range(k+1,k+3):\n",
    "        \n",
    "        sampled_rws = decoded_rws[l-k-1]\n",
    "        axes[l].plot(sampled_rws[:,:,0].T, sampled_rws[:,:,2].T, c='darkgrey')\n",
    "        axes[l].axis('off')\n",
    "        axes[l].set_aspect('equal')\n",
    "        new_neurons[l-k-1].draw_2D(projection='xz', dendrite_color='k', ax=axes[l])\n",
    "    k += 3\n",
    "fig.subplots_adjust(hspace=-.1, wspace=-.2)\n",
    "# plt.savefig('./pics/ICML/v4/Fig6/pyr_data_reconstructions.svg', format='svg')"
   ]
  },
  {
   "cell_type": "markdown",
   "metadata": {},
   "source": [
    "# Inhibitory neurons - fine tuned"
   ]
  },
  {
   "cell_type": "code",
   "execution_count": null,
   "metadata": {},
   "outputs": [],
   "source": [
    "torch.cuda.empty_cache()\n",
    "colors = ['#fd9e2b', '#e0285d', '#aa369a', '#fda389']\n",
    "\n",
    "part = 'axon'\n",
    "neurons = load_neurons('./data/M1_inh_data/neurons/%s/'%part, sort=False)"
   ]
  },
  {
   "cell_type": "code",
   "execution_count": null,
   "metadata": {},
   "outputs": [],
   "source": [
    "with open('./data/M1_inh_data/walks/%s/walk_representation_32.npy'%part, 'rb') as f:\n",
    "    walk_representation = np.load(f)\n",
    "\n",
    "with open('./data/M1_inh_data/iterator/%s/train_iterator_32.pkl'%part, 'rb') as f:\n",
    "    train_iterator = pickle.load(f)\n",
    "with open('./data/M1_inh_data/iterator/%s/val_iterator_32.pkl'%part, 'rb') as f:\n",
    "    val_iterator = pickle.load(f)\n",
    "with open('./data/M1_inh_data/iterator/%s/test_iterator_32.pkl'%part, 'rb') as f:\n",
    "    test_iterator = pickle.load(f)"
   ]
  },
  {
   "cell_type": "code",
   "execution_count": null,
   "metadata": {},
   "outputs": [],
   "source": [
    "SEED = 17\n",
    "\n",
    "# get data\n",
    "np.random.seed(SEED)\n",
    "torch.manual_seed(SEED)\n",
    "src_data, trg_data, seq_len, indices, labels = list(val_iterator)[0]\n",
    "rw_i = np.round(trg_data, 2)\n",
    "\n",
    "N, n_walks, walk_length, input_dim = src_data.shape\n",
    "device = torch.device('cuda' if torch.cuda.is_available() else 'cpu')\n",
    "\n",
    "config = dict(input_dim =3, embed_dim=32, hidden_dim=32, latent_dim=32, num_layers = 2, kappa=500, dropout=.1)\n",
    "\n",
    "model = create_model(config, device)\n",
    "\n",
    "LATENT_DIM = config['latent_dim']\n",
    "\n",
    "# model with the best validation mse loss \n",
    "state_dict = torch.load('./models/M1_inh/finetuned/%s/finetuned_vae_frac0.5_best_run2.pt'%part)\n",
    "model.load_state_dict(state_dict['model_state_dict'])"
   ]
  },
  {
   "cell_type": "code",
   "execution_count": null,
   "metadata": {},
   "outputs": [],
   "source": [
    "# pass the data through the model so we can sample new examples in the the latent space\n",
    "with torch.no_grad():\n",
    "    bs, n_walks, walk_length, input_dim = src_data.shape\n",
    "    src = src_data.view(-1,walk_length,input_dim).transpose(0,1).to(device)\n",
    "    # src = [walk length , bs * n_walks, input_dim]\n",
    "    trg = trg_data.view(-1,walk_length,input_dim).transpose(0,1).to(device)\n",
    "    seq_len = seq_len.view(-1).to(device)\n",
    "    output = model(src, seq_len, trg, 0)\n",
    "    \n",
    "rw_0 = _fill_with_infty(rw_i.reshape(-1,walk_length,input_dim).transpose(0,1), seq_len.reshape(-1))\n",
    "rw_i = rw_0.transpose(0,1).reshape(-1,n_walks,walk_length, input_dim)"
   ]
  },
  {
   "cell_type": "code",
   "execution_count": null,
   "metadata": {},
   "outputs": [],
   "source": [
    "indices_0 = np.where(labels == 0)[0]\n",
    "indices_1 = np.where(labels == 1)[0]\n",
    "indices_2 = np.where(labels == 2)[0]\n",
    "indices_3 = np.where(labels == 3)[0]\n",
    "\n",
    "np.random.seed(SEED-2)\n",
    "random_indices = np.array([np.random.choice(indices_0, size=2, replace=False),\n",
    "                                 np.random.choice(indices_1, size=2,replace=False),\n",
    "                                 np.random.choice(indices_2, size=2,replace=False), \n",
    "                                np.random.choice(indices_3, size=2,replace=False)])\n",
    "random_indices = random_indices.flatten()"
   ]
  },
  {
   "cell_type": "code",
   "execution_count": null,
   "metadata": {},
   "outputs": [],
   "source": [
    "np.where(labels == 3)[0]"
   ]
  },
  {
   "cell_type": "code",
   "execution_count": null,
   "metadata": {
    "code_folding": [
     37
    ],
    "scrolled": false
   },
   "outputs": [],
   "source": [
    "# sample one neuron and check how it looks\n",
    "model.eval()\n",
    "vmf = vMF(LATENT_DIM, kappa=500)\n",
    "ix = 48\n",
    "rw_rep = rw_i[ix]\n",
    "walk_length=32\n",
    "# get the encoded random walks. This only works if I have passed the data through already\n",
    "mus = model.h[ix*n_walks: ix*n_walks+n_walks]\n",
    "orig_seq_len = seq_len[ix*n_walks: ix*n_walks+n_walks].cpu()\n",
    "decoded_rws = sample_rws(model, vmf, mus, orig_seq_len=orig_seq_len,\n",
    "                         n_samples=3, max_trg_len=walk_length, min_angle=np.pi/2.4)\n",
    "\n",
    "# cluster the rws\n",
    "clustered_rws = []\n",
    "clustered_results = []\n",
    "for rws in decoded_rws:\n",
    "    clus_res, clus_rws = get_clustered_rws_agglom(rws, dist_thresh=.3)\n",
    "    clustered_rws.append(clus_rws.reshape((1,)+clus_rws.shape))\n",
    "    clustered_results.append(clus_res)\n",
    "clustered_rws = np.vstack(clustered_rws)\n",
    "# reduce to trees\n",
    "new_neurons = []\n",
    "for clus_res in clustered_results:\n",
    "    N = tree_from_clustered_result(clus_res)\n",
    "    new_neurons.append(N)\n",
    "    \n",
    "    \n",
    "fig, axes = plt.subplots(1,4, sharex=True, sharey=True, figsize=(16,4))\n",
    "neurons[indices[ix]].draw_2D(ax=axes[0], dendrite_color='k', projection='xz')\n",
    "axes[0].plot(rw_rep[:,:,0].T, rw_rep[:,:,2].T, c='darkgrey')\n",
    "axes[0].axis('off')\n",
    "axes[0].set_aspect('equal')\n",
    "\n",
    "for l in range(1,4):    \n",
    "    sampled_rws = decoded_rws[l-1]\n",
    "    axes[l].plot(sampled_rws[:,:,0].T, sampled_rws[:,:,2].T, c='darkgrey')\n",
    "    axes[l].axis('off')\n",
    "    new_neurons[l-1].draw_2D(projection='xz', dendrite_color='k', ax=axes[l])\n",
    "    axes[l].set_aspect('equal')\n",
    "fig.subplots_adjust( wspace=-.1)"
   ]
  },
  {
   "cell_type": "code",
   "execution_count": null,
   "metadata": {},
   "outputs": [],
   "source": [
    "fig, axes = plt.subplots(1,2, sharex=True, sharey=True, figsize=(4,4))\n",
    "l = 3\n",
    "neurons[indices[ix]].draw_2D(ax=axes[0], axon_color=colors[l], projection='xz')\n",
    "axes[0].axis('off')\n",
    "axes[0].set_aspect('equal')\n",
    "\n",
    "inset_axis = axes[0].inset_axes([.9,.7,.5,.5])\n",
    "neurons[indices[ix]].draw_2D(ax=inset_axis, axon_color=colors[l], projection='xy')\n",
    "inset_axis.axis('off')\n",
    "# inset_axis.set_aspect('equal')\n",
    "\n",
    "d_ix = 0\n",
    "sampled_rws = decoded_rws[d_ix]\n",
    "axes[1].plot(sampled_rws[:,:,0].T, sampled_rws[:,:,2].T, c='darkgrey')\n",
    "axes[1].axis('off')\n",
    "new_neurons[d_ix].draw_2D(projection='xz', dendrite_color='k', ax=axes[1])\n",
    "axes[1].set_aspect('equal')\n",
    "\n",
    "inset_axis_sample = axes[1].inset_axes([.9,.7,.5,.5])\n",
    "# inset_axis_sample.plot(sampled_rws[:,:,0].T, sampled_rws[:,:,2].T, c='darkgrey')\n",
    "new_neurons[d_ix].draw_2D(ax=inset_axis_sample, dendrite_color='k', projection='xy')\n",
    "inset_axis_sample.axis('off')\n",
    "inset_axis_sample.set_aspect('equal')\n",
    "\n",
    "# fig.subplots_adjust( wspace=-.1)\n",
    "plt.savefig('./pics/ICML/camera-ready/Fig6/lamp5_example2.svg')"
   ]
  },
  {
   "cell_type": "code",
   "execution_count": null,
   "metadata": {},
   "outputs": [],
   "source": [
    "colors = ['#fd9e2b', '#e0285d', '#aa369a', '#fda389']\n",
    "fig, axes = plt.subplots(4,6, sharex=True, sharey=True, figsize=(24,9))\n",
    "axes = axes.flatten()\n",
    "model.eval()\n",
    "vmf_500 = vMF(LATENT_DIM, kappa=500)\n",
    "\n",
    "k = 0\n",
    "for ix in random_indices:                   \n",
    "    rw_rep = rw_i[ix]\n",
    "\n",
    "    # get the encoded random walks. This only works if I have passed the data through already\n",
    "    mus = model.h[ix*n_walks: ix*n_walks+n_walks]\n",
    "    decoded_rws = sample_rws(vmf_500, mus, n_samples=2, max_trg_len=walk_length, min_angle=np.pi/2.4)\n",
    "    \n",
    "    # cluster the rws\n",
    "    clustered_rws = []\n",
    "    clustered_results = []\n",
    "    for rws in decoded_rws:\n",
    "        clus_res, clus_rws = get_clustered_rws_agglom(rws, dist_thresh=.25)\n",
    "        clustered_rws.append(clus_rws.reshape((1,)+clus_rws.shape))\n",
    "        clustered_results.append(clus_res)\n",
    "    clustered_rws = np.vstack(clustered_rws)\n",
    "    # reduce to trees\n",
    "    new_neurons = []\n",
    "    for clus_res in clustered_results:\n",
    "        N = tree_from_clustered_result(clus_res)\n",
    "        new_neurons.append(N)\n",
    "    \n",
    "    if k == 0 or k ==3:\n",
    "        c= colors[0]\n",
    "    elif k == 6 or k ==9:\n",
    "        c= colors[1]\n",
    "    elif k == 12 or k ==15:\n",
    "        c= colors[2]  \n",
    "    \n",
    "    neurons[indices[ix]].draw_2D(ax=axes[k], axon_color=c, projection='xz')\n",
    "    axes[k].axis('off')\n",
    "\n",
    "    for l in range(k+1,k+3):\n",
    "        \n",
    "        sampled_rws = decoded_rws[l-k-1]\n",
    "        axes[l].plot(sampled_rws[:,:,0].T, sampled_rws[:,:,2].T, c='darkgrey')\n",
    "        axes[l].axis('off')\n",
    "        new_neurons[l-k-1].draw_2D(projection='xz', dendrite_color='k', ax=axes[l])\n",
    "    k += 3\n",
    "fig.subplots_adjust(hspace=-.2, wspace=-.2)"
   ]
  },
  {
   "cell_type": "markdown",
   "metadata": {},
   "source": [
    "# Farrow - fine tuned"
   ]
  },
  {
   "cell_type": "code",
   "execution_count": 8,
   "metadata": {},
   "outputs": [],
   "source": [
    "import os"
   ]
  },
  {
   "cell_type": "code",
   "execution_count": 10,
   "metadata": {},
   "outputs": [
    {
     "name": "stdout",
     "output_type": "stream",
     "text": [
      "0002_00535_4L_C01_01-checkpoint.swc\n",
      "0001_00535_1L_C01_01-checkpoint.swc\n"
     ]
    }
   ],
   "source": [
    "part = 'soma_centered'\n",
    "neurons = np.array(load_neurons('./data/Farrow_data/neurons/%s/'%part, sort=False))\n",
    "\n",
    "# get the neuron files in the right order\n",
    "root, _, files = list(os.walk('./data/Farrow_data/neurons/%s/'%part))[0]\n",
    "files = np.array(files)\n",
    "file_ix = files.argsort()\n",
    "neurons = neurons[file_ix]\n",
    "\n",
    "with open('./data/Farrow_data/walks/%s/walk_representation.npy'%part, 'rb') as f:\n",
    "    walk_representation = np.load(f)\n",
    "\n",
    "with open('./data/Farrow_data/iterator/%s/train_iterator.pkl'%part, 'rb') as f:\n",
    "    train_iterator = pickle.load(f)\n",
    "with open('./data/Farrow_data/iterator/%s/val_iterator.pkl'%part, 'rb') as f:\n",
    "    val_iterator = pickle.load(f)\n",
    "with open('./data/Farrow_data/iterator/%s/test_iterator.pkl'%part, 'rb') as f:\n",
    "    test_iterator = pickle.load(f)"
   ]
  },
  {
   "cell_type": "code",
   "execution_count": 12,
   "metadata": {},
   "outputs": [
    {
     "name": "stdout",
     "output_type": "stream",
     "text": [
      "KLD: 18.465579986572266\n"
     ]
    },
    {
     "data": {
      "text/plain": [
       "<All keys matched successfully>"
      ]
     },
     "execution_count": 12,
     "metadata": {},
     "output_type": "execute_result"
    }
   ],
   "source": [
    "SEED = 17\n",
    "\n",
    "# get data\n",
    "np.random.seed(SEED)\n",
    "torch.manual_seed(SEED)\n",
    "src_data, trg_data, seq_len, indices, labels = list(test_iterator)[0]\n",
    "rw_i = np.round(trg_data, 2)\n",
    "\n",
    "N, n_walks, walk_length, input_dim = src_data.shape\n",
    "device = torch.device('cuda' if torch.cuda.is_available() else 'cpu')\n",
    "\n",
    "config = dict(input_dim =3, embed_dim=16, hidden_dim=16, latent_dim=8, num_layers = 2, kappa=500, dropout=.1)\n",
    "\n",
    "model = create_model(config, device)\n",
    "\n",
    "LATENT_DIM = config['latent_dim']\n",
    "\n",
    "# model with the best validation mse loss \n",
    "state_dict = torch.load('./models/Farrow/finetuned/%s/finetuned_vae_frac1.0_best_run1.pt'%part)\n",
    "model.load_state_dict(state_dict['model_state_dict'])"
   ]
  },
  {
   "cell_type": "code",
   "execution_count": 13,
   "metadata": {},
   "outputs": [
    {
     "data": {
      "text/plain": [
       "(array([-100,    0,    1,    2,    3,    4,    5,    6,    7,    8,    9,\n",
       "          10,   11,   12,   13]),\n",
       " array([ 6, 20,  1,  2,  5,  5, 15,  2,  9,  5,  5,  4,  8, 11,  2]))"
      ]
     },
     "execution_count": 13,
     "metadata": {},
     "output_type": "execute_result"
    }
   ],
   "source": [
    "np.unique(labels, return_counts = True)"
   ]
  },
  {
   "cell_type": "code",
   "execution_count": 14,
   "metadata": {},
   "outputs": [],
   "source": [
    "rw_0 = _fill_with_infty(rw_i.reshape(-1,walk_length,input_dim).transpose(0,1), seq_len.reshape(-1))\n",
    "rw_i = rw_0.transpose(0,1).reshape(-1,n_walks,walk_length, input_dim)\n",
    "\n",
    "indices_0 = np.where(labels == 0)[0]\n",
    "indices_1 = np.where(labels == 4)[0]\n",
    "indices_2 = np.where(labels == 5)[0]\n",
    "indices_3 = np.where(labels == 12)[0]\n",
    "\n",
    "np.random.seed(SEED)\n",
    "\n",
    "random_indices = np.array([np.random.choice(indices_0, size=2, replace=False),\n",
    "                                 np.random.choice(indices_1, size=2,replace=False),\n",
    "                                 np.random.choice(indices_2, size=2,replace=False), \n",
    "                                np.random.choice(indices_3, size=2,replace=False)])\n",
    "random_indices = random_indices.flatten()"
   ]
  },
  {
   "cell_type": "code",
   "execution_count": 15,
   "metadata": {},
   "outputs": [],
   "source": [
    "with torch.no_grad():\n",
    "    bs, n_walks, walk_length, input_dim = src_data.shape\n",
    "    src = src_data.view(-1,walk_length,input_dim).transpose(0,1).to(device)\n",
    "    # src = [walk length , bs * n_walks, input_dim]\n",
    "    trg = trg_data.view(-1,walk_length,input_dim).transpose(0,1).to(device)\n",
    "    seq_len = seq_len.view(-1).to(device)\n",
    "    output = model(src, seq_len, trg, 0)"
   ]
  },
  {
   "cell_type": "code",
   "execution_count": 4,
   "metadata": {},
   "outputs": [
    {
     "ename": "NameError",
     "evalue": "name 'model' is not defined",
     "output_type": "error",
     "traceback": [
      "\u001b[0;31m---------------------------------------------------------------------------\u001b[0m",
      "\u001b[0;31mNameError\u001b[0m                                 Traceback (most recent call last)",
      "\u001b[0;32m<ipython-input-4-c6000357ba7b>\u001b[0m in \u001b[0;36m<module>\u001b[0;34m()\u001b[0m\n\u001b[1;32m      2\u001b[0m \u001b[0mfig\u001b[0m\u001b[0;34m,\u001b[0m \u001b[0maxes\u001b[0m \u001b[0;34m=\u001b[0m \u001b[0mplt\u001b[0m\u001b[0;34m.\u001b[0m\u001b[0msubplots\u001b[0m\u001b[0;34m(\u001b[0m\u001b[0;36m4\u001b[0m\u001b[0;34m,\u001b[0m\u001b[0;36m6\u001b[0m\u001b[0;34m,\u001b[0m \u001b[0msharex\u001b[0m\u001b[0;34m=\u001b[0m\u001b[0;32mTrue\u001b[0m\u001b[0;34m,\u001b[0m \u001b[0msharey\u001b[0m\u001b[0;34m=\u001b[0m\u001b[0;32mTrue\u001b[0m\u001b[0;34m,\u001b[0m \u001b[0mfigsize\u001b[0m\u001b[0;34m=\u001b[0m\u001b[0;34m(\u001b[0m\u001b[0;36m24\u001b[0m\u001b[0;34m,\u001b[0m\u001b[0;36m9\u001b[0m\u001b[0;34m)\u001b[0m\u001b[0;34m)\u001b[0m\u001b[0;34m\u001b[0m\u001b[0;34m\u001b[0m\u001b[0m\n\u001b[1;32m      3\u001b[0m \u001b[0maxes\u001b[0m \u001b[0;34m=\u001b[0m \u001b[0maxes\u001b[0m\u001b[0;34m.\u001b[0m\u001b[0mflatten\u001b[0m\u001b[0;34m(\u001b[0m\u001b[0;34m)\u001b[0m\u001b[0;34m\u001b[0m\u001b[0;34m\u001b[0m\u001b[0m\n\u001b[0;32m----> 4\u001b[0;31m \u001b[0mmodel\u001b[0m\u001b[0;34m.\u001b[0m\u001b[0meval\u001b[0m\u001b[0;34m(\u001b[0m\u001b[0;34m)\u001b[0m\u001b[0;34m\u001b[0m\u001b[0;34m\u001b[0m\u001b[0m\n\u001b[0m\u001b[1;32m      5\u001b[0m \u001b[0mvmf\u001b[0m \u001b[0;34m=\u001b[0m \u001b[0mvMF\u001b[0m\u001b[0;34m(\u001b[0m\u001b[0mLATENT_DIM\u001b[0m\u001b[0;34m,\u001b[0m \u001b[0mkappa\u001b[0m\u001b[0;34m=\u001b[0m\u001b[0;36m500\u001b[0m\u001b[0;34m)\u001b[0m\u001b[0;34m\u001b[0m\u001b[0;34m\u001b[0m\u001b[0m\n\u001b[1;32m      6\u001b[0m \u001b[0;34m\u001b[0m\u001b[0m\n",
      "\u001b[0;31mNameError\u001b[0m: name 'model' is not defined"
     ]
    },
    {
     "data": {
      "image/png": "[encoded data removed]",
      "text/plain": [
       "<Figure size 1728x648 with 24 Axes>"
      ]
     },
     "metadata": {
      "needs_background": "light"
     },
     "output_type": "display_data"
    }
   ],
   "source": [
    "colors = sns.color_palette('icefire', n_colors=15)\n",
    "fig, axes = plt.subplots(4,6, sharex=True, sharey=True, figsize=(24,9))\n",
    "axes = axes.flatten()\n",
    "model.eval()\n",
    "vmf = vMF(LATENT_DIM, kappa=500)\n",
    "\n",
    "k = 0\n",
    "for ix in random_indices:                   \n",
    "    rw_rep = rw_i[ix]\n",
    "\n",
    "    # get the encoded random walks. This only works if I have passed the data through already\n",
    "    mus = model.h[ix*n_walks: ix*n_walks+n_walks]\n",
    "    orig_seq_len = seq_len[ix*n_walks: ix*n_walks+n_walks].cpu()\n",
    "    decoded_rws = sample_rws(model, vmf, mus, orig_seq_len=orig_seq_len ,\n",
    "                             n_samples=2, max_trg_len=walk_length, min_angle=np.pi/2.4, init_state=trg[0,ix*n_walks])\n",
    "    \n",
    "    # cluster the rws\n",
    "    clustered_rws = []\n",
    "    clustered_results = []\n",
    "    for rws in decoded_rws:\n",
    "        clus_res, clus_rws = get_clustered_rws_agglom(rws, dist_thresh=.25)\n",
    "        clustered_rws.append(clus_rws.reshape((1,)+clus_rws.shape))\n",
    "        clustered_results.append(clus_res)\n",
    "    clustered_rws = np.vstack(clustered_rws)\n",
    "    # reduce to trees\n",
    "    new_neurons = []\n",
    "    for clus_res in clustered_results:\n",
    "        N = tree_from_clustered_result(clus_res)\n",
    "        new_neurons.append(N)\n",
    "    \n",
    "    if k == 0 or k ==3:\n",
    "        c= colors[0]\n",
    "    elif k == 6 or k ==9:\n",
    "        c= colors[2]\n",
    "    elif k == 12 or k ==15:\n",
    "        c= colors[4]  \n",
    "    elif k == 18 or k ==21:\n",
    "        c= colors[6]\n",
    "    \n",
    "    neurons[indices[ix]].draw_2D(ax=axes[k], dendrite_color=c, projection='xy')\n",
    "    axes[k].axis('off')\n",
    "    axes[k].set_aspect('equal')\n",
    "    \n",
    "    for l in range(k+1,k+3):\n",
    "        \n",
    "        sampled_rws = decoded_rws[l-k-1]\n",
    "        axes[l].plot(sampled_rws[:,:,0].T, sampled_rws[:,:,1].T, c='darkgrey')\n",
    "        axes[l].axis('off')\n",
    "        axes[l].set_aspect('equal')\n",
    "        new_neurons[l-k-1].draw_2D(projection='xy', dendrite_color='k', ax=axes[l])\n",
    "    k += 3\n",
    "fig.subplots_adjust(hspace=-.1, wspace=-.2)"
   ]
  },
  {
   "cell_type": "code",
   "execution_count": 5,
   "metadata": {},
   "outputs": [
    {
     "ename": "NameError",
     "evalue": "name 'neurons' is not defined",
     "output_type": "error",
     "traceback": [
      "\u001b[0;31m---------------------------------------------------------------------------\u001b[0m",
      "\u001b[0;31mNameError\u001b[0m                                 Traceback (most recent call last)",
      "\u001b[0;32m<ipython-input-5-f89dc410c8a3>\u001b[0m in \u001b[0;36m<module>\u001b[0;34m()\u001b[0m\n\u001b[0;32m----> 1\u001b[0;31m \u001b[0mneurons\u001b[0m\u001b[0;34m\u001b[0m\u001b[0;34m\u001b[0m\u001b[0m\n\u001b[0m",
      "\u001b[0;31mNameError\u001b[0m: name 'neurons' is not defined"
     ]
    }
   ],
   "source": [
    "neurons"
   ]
  },
  {
   "cell_type": "code",
   "execution_count": 1,
   "metadata": {},
   "outputs": [
    {
     "ename": "NameError",
     "evalue": "name 'new_neurons' is not defined",
     "output_type": "error",
     "traceback": [
      "\u001b[0;31m---------------------------------------------------------------------------\u001b[0m",
      "\u001b[0;31mNameError\u001b[0m                                 Traceback (most recent call last)",
      "\u001b[0;32m<ipython-input-1-9b92e4475c0b>\u001b[0m in \u001b[0;36m<module>\u001b[0;34m()\u001b[0m\n\u001b[0;32m----> 1\u001b[0;31m \u001b[0mnew_neurons\u001b[0m\u001b[0;34m\u001b[0m\u001b[0;34m\u001b[0m\u001b[0m\n\u001b[0m",
      "\u001b[0;31mNameError\u001b[0m: name 'new_neurons' is not defined"
     ]
    }
   ],
   "source": [
    "new_neurons"
   ]
  },
  {
   "cell_type": "code",
   "execution_count": null,
   "metadata": {},
   "outputs": [],
   "source": []
  }
 ],
 "metadata": {
  "kernelspec": {
   "display_name": "Py3-basic",
   "language": "python",
   "name": "python3"
  },
  "language_info": {
   "codemirror_mode": {
    "name": "ipython",
    "version": 3
   },
   "file_extension": ".py",
   "mimetype": "text/x-python",
   "name": "python",
   "nbconvert_exporter": "python",
   "pygments_lexer": "ipython3",
   "version": "3.7.2"
  }
 },
 "nbformat": 4,
 "nbformat_minor": 4
}
