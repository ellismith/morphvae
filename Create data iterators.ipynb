{
 "cells": [
  {
   "cell_type": "code",
   "execution_count": 6,
   "metadata": {},
   "outputs": [],
   "source": [
    "import torch\n",
    "import pickle\n",
    "import numpy as np\n",
    "\n",
    "from utils.training_utils import create_Seq2SeqDataset\n",
    "from torch.utils.data.sampler import SubsetRandomSampler\n",
    "from torchvision.transforms import Lambda"
   ]
  },
  {
   "cell_type": "code",
   "execution_count": 7,
   "metadata": {},
   "outputs": [],
   "source": [
    "SEED = 17\n",
    "device = torch.device('cuda' if torch.cuda.is_available() else 'cpu')"
   ]
  },
  {
   "cell_type": "code",
   "execution_count": 8,
   "metadata": {},
   "outputs": [],
   "source": [
    "# Load in the walk representation\n",
    "folder = '3_populations'\n",
    "with open('./data/toy_data/%s/walk_representation_16.npy'%folder, 'rb') as f:\n",
    "    walk_representation = np.load(f)"
   ]
  },
  {
   "cell_type": "code",
   "execution_count": 9,
   "metadata": {},
   "outputs": [],
   "source": [
    "def scale(X,scale=(.1,3)):\n",
    "    a = scale[0]\n",
    "    b = scale[1]\n",
    "    s = a + (b-a)*torch.rand(1)\n",
    "    return X*s\n",
    "\n",
    "rand_scaling = Lambda(scale) "
   ]
  },
  {
   "cell_type": "code",
   "execution_count": 10,
   "metadata": {},
   "outputs": [],
   "source": [
    "# create Seq2Seq data set\n",
    "MASKING_ELEMENT = 0\n",
    "#true_labels = torch.Tensor([0]*300 + [1]*300 + [2]*300 + [3]*300 + [4]*300).to(torch.long) # when 5 population data is loaded\n",
    "true_labels = torch.Tensor([0]*400 + [1]*400 + [2]*400).to(torch.long)\n",
    "\n",
    "transform = rand_scaling\n",
    "SeqDS_scaled = create_Seq2SeqDataset(walk_representation, true_labels, MASKING_ELEMENT, transform=transform)\n",
    "SeqDS_nonscaled = create_Seq2SeqDataset(walk_representation, true_labels, MASKING_ELEMENT, transform=None)\n",
    "\n",
    "mask = walk_representation[:,:,:,0] != np.infty*-1\n",
    "seq_lengths = torch.Tensor(mask.sum(axis=2))"
   ]
  },
  {
   "cell_type": "markdown",
   "metadata": {},
   "source": [
    "### create scaled and unscaled iterator"
   ]
  },
  {
   "cell_type": "code",
   "execution_count": 11,
   "metadata": {},
   "outputs": [],
   "source": [
    "np.random.seed(17)\n",
    "BATCH_SIZE = 128\n",
    "N, n_walks, walk_length, output_dim = walk_representation.shape\n",
    "\n",
    "N_train = 750\n",
    "N_val = 250\n",
    "train_index = np.random.choice(range(N), size=N_train, replace=False)\n",
    "val_index = np.random.choice(list(set(range(N)) - set(train_index)), size=N_val, replace=False)\n",
    "test_index = list(set(range(N)) - set(train_index) -set(val_index))\n",
    "\n",
    "train_sampler = SubsetRandomSampler(train_index)\n",
    "val_sampler = SubsetRandomSampler(val_index)\n",
    "test_sampler = SubsetRandomSampler(test_index)\n",
    "\n",
    "\n",
    "train_iterator = torch.utils.data.DataLoader(SeqDS_nonscaled, batch_size=BATCH_SIZE, \n",
    "                                               sampler=train_sampler)\n",
    "val_iterator = torch.utils.data.DataLoader(SeqDS_nonscaled, batch_size=len(val_index), \n",
    "                                           sampler=val_sampler)\n",
    "test_iterator= torch.utils.data.DataLoader(SeqDS_nonscaled, batch_size=len(test_index), \n",
    "                                           sampler=test_sampler)\n",
    "\n",
    "\n",
    "# save the iterator\n",
    "prefix = ''\n",
    "with open('./data/toy_data/%s/iterator/%sval_iterator.pkl'%(folder, prefix), 'wb') as f:\n",
    "    pickle.dump(val_iterator, f)\n",
    "    \n",
    "with open('./data/toy_data/%s/iterator/%stest_iterator.pkl'%(folder, prefix), 'wb') as f:\n",
    "    pickle.dump(test_iterator, f)\n",
    "with open('./data/toy_data/%s/iterator/%strain_iterator.pkl'%(folder, prefix), 'wb') as f:\n",
    "    pickle.dump(train_iterator, f)\n",
    "\n",
    "    \n",
    "train_iterator = torch.utils.data.DataLoader(SeqDS_scaled, batch_size=BATCH_SIZE, \n",
    "                                               sampler=train_sampler)\n",
    "val_iterator = torch.utils.data.DataLoader(SeqDS_scaled, batch_size=BATCH_SIZE, \n",
    "                                           sampler=val_sampler)\n",
    "test_iterator= torch.utils.data.DataLoader(SeqDS_scaled, batch_size=BATCH_SIZE, \n",
    "                                           sampler=test_sampler)\n",
    "# save the iterator\n",
    "prefix = 'scaling_'\n",
    "with open('./data/toy_data/%s/iterator/%sval_iterator.pkl'%(folder, prefix), 'wb') as f:\n",
    "    pickle.dump(val_iterator, f)\n",
    "    \n",
    "with open('./data/toy_data/%s/iterator/%stest_iterator.pkl'%(folder, prefix), 'wb') as f:\n",
    "    pickle.dump(test_iterator, f)\n",
    "with open('./data/toy_data/%s/iterator/%strain_iterator.pkl'%(folder, prefix), 'wb') as f:\n",
    "    pickle.dump(train_iterator, f)"
   ]
  },
  {
   "cell_type": "markdown",
   "metadata": {},
   "source": [
    "### Create iterators with different amount training samples"
   ]
  },
  {
   "cell_type": "code",
   "execution_count": 12,
   "metadata": {},
   "outputs": [],
   "source": [
    "np.random.seed(17)\n",
    "BATCH_SIZE = 128\n",
    "N, n_walks, walk_length, output_dim = walk_representation.shape\n",
    "\n",
    "N_train = 750\n",
    "N_val = 250\n",
    "train_index = np.random.choice(range(N), size=N_train, replace=False)\n",
    "val_index = np.random.choice(list(set(range(N)) - set(train_index)), size=N_val, replace=False)\n",
    "test_index = list(set(range(N)) - set(train_index) -set(val_index))\n",
    "\n",
    "\n",
    "val_sampler = SubsetRandomSampler(val_index)\n",
    "test_sampler = SubsetRandomSampler(test_index)\n",
    "\n",
    "val_iterator = torch.utils.data.DataLoader(SeqDS_nonscaled, batch_size=len(val_index), \n",
    "                                           sampler=val_sampler)\n",
    "test_iterator= torch.utils.data.DataLoader(SeqDS_nonscaled, batch_size=len(test_index), \n",
    "                                           sampler=test_sampler)\n",
    "\n",
    "# save the iterator\n",
    "prefix = ''\n",
    "\n",
    "for n_samples in [150,300,450,600,750]:\n",
    "    train_sampler = SubsetRandomSampler(train_index[:n_samples])\n",
    "\n",
    "    train_iterator = torch.utils.data.DataLoader(SeqDS_nonscaled, batch_size=BATCH_SIZE, \n",
    "                                               sampler=train_sampler)\n",
    "\n",
    "    with open('./data/toy_data/%s/iterator/%strain_iterator_n%i.pkl'%(folder, prefix,n_samples), 'wb') as f:\n",
    "        pickle.dump(train_iterator, f)"
   ]
  },
  {
   "cell_type": "markdown",
   "metadata": {},
   "source": [
    "### Create iterators with shuffled labels\n"
   ]
  },
  {
   "cell_type": "code",
   "execution_count": 13,
   "metadata": {},
   "outputs": [],
   "source": [
    "# create Seq2Seq data set\n",
    "MASKING_ELEMENT = 0\n",
    "true_labels = torch.Tensor(np.random.permutation([0]*400 + [1]*400 + [2]*400)).to(torch.long)\n",
    "SeqDS = create_Seq2SeqDataset(walk_representation, true_labels, MASKING_ELEMENT, transform=None)\n",
    "\n",
    "mask = walk_representation[:,:,:,0] != np.infty*-1\n",
    "seq_lengths = torch.Tensor(mask.sum(axis=2))"
   ]
  },
  {
   "cell_type": "code",
   "execution_count": 14,
   "metadata": {},
   "outputs": [],
   "source": [
    "np.random.seed(17)\n",
    "BATCH_SIZE = 128\n",
    "N, n_walks, walk_length, output_dim = walk_representation.shape\n",
    "\n",
    "N_train = 750\n",
    "N_val = 250\n",
    "train_index = np.random.choice(range(N), size=N_train, replace=False)\n",
    "val_index = np.random.choice(list(set(range(N)) - set(train_index)), size=N_val, replace=False)\n",
    "test_index = list(set(range(N)) - set(train_index) -set(val_index))\n",
    "\n",
    "train_sampler = SubsetRandomSampler(train_index)\n",
    "val_sampler = SubsetRandomSampler(val_index)\n",
    "test_sampler = SubsetRandomSampler(test_index)\n",
    "\n",
    "train_iterator = torch.utils.data.DataLoader(SeqDS_nonscaled, batch_size=BATCH_SIZE, \n",
    "                                                 sampler=train_sampler)\n",
    "val_iterator = torch.utils.data.DataLoader(SeqDS_nonscaled, batch_size=len(val_index), \n",
    "                                           sampler=val_sampler)\n",
    "test_iterator= torch.utils.data.DataLoader(SeqDS_nonscaled, batch_size=len(test_index), \n",
    "                                           sampler=test_sampler)\n",
    "\n",
    "# save the iterator\n",
    "prefix = 'shuffled_'\n",
    "with open('./data/toy_data/%s/iterator/%sval_iterator.pkl'%(folder, prefix), 'wb') as f:\n",
    "    pickle.dump(val_iterator, f)\n",
    "    \n",
    "with open('./data/toy_data/%s/iterator/%stest_iterator.pkl'%(folder, prefix), 'wb') as f:\n",
    "    pickle.dump(test_iterator, f)\n",
    "\n",
    "with open('./data/toy_data/%s/iterator/%strain_iterator.pkl'%(folder, prefix), 'wb') as f:\n",
    "    pickle.dump(train_iterator, f)"
   ]
  },
  {
   "cell_type": "markdown",
   "metadata": {},
   "source": [
    "# Create iterator for M1 EXC data"
   ]
  },
  {
   "cell_type": "code",
   "execution_count": 15,
   "metadata": {},
   "outputs": [],
   "source": [
    "import pandas as pd"
   ]
  },
  {
   "cell_type": "code",
   "execution_count": 16,
   "metadata": {},
   "outputs": [
    {
     "data": {
      "text/html": [
       "<div>\n",
       "<style scoped>\n",
       "    .dataframe tbody tr th:only-of-type {\n",
       "        vertical-align: middle;\n",
       "    }\n",
       "\n",
       "    .dataframe tbody tr th {\n",
       "        vertical-align: top;\n",
       "    }\n",
       "\n",
       "    .dataframe thead th {\n",
       "        text-align: right;\n",
       "    }\n",
       "</style>\n",
       "<table border=\"1\" class=\"dataframe\">\n",
       "  <thead>\n",
       "    <tr style=\"text-align: right;\">\n",
       "      <th></th>\n",
       "      <th>cell id</th>\n",
       "      <th>RNA family</th>\n",
       "      <th>sample name</th>\n",
       "      <th>m-type</th>\n",
       "    </tr>\n",
       "    <tr>\n",
       "      <th>m-type2</th>\n",
       "      <th></th>\n",
       "      <th></th>\n",
       "      <th></th>\n",
       "      <th></th>\n",
       "    </tr>\n",
       "  </thead>\n",
       "  <tbody>\n",
       "    <tr>\n",
       "      <th>other</th>\n",
       "      <td>33</td>\n",
       "      <td>33</td>\n",
       "      <td>33</td>\n",
       "      <td>33</td>\n",
       "    </tr>\n",
       "    <tr>\n",
       "      <th>tufted</th>\n",
       "      <td>135</td>\n",
       "      <td>135</td>\n",
       "      <td>135</td>\n",
       "      <td>135</td>\n",
       "    </tr>\n",
       "    <tr>\n",
       "      <th>untufted</th>\n",
       "      <td>107</td>\n",
       "      <td>107</td>\n",
       "      <td>107</td>\n",
       "      <td>107</td>\n",
       "    </tr>\n",
       "  </tbody>\n",
       "</table>\n",
       "</div>"
      ],
      "text/plain": [
       "          cell id  RNA family  sample name  m-type\n",
       "m-type2                                           \n",
       "other          33          33           33      33\n",
       "tufted        135         135          135     135\n",
       "untufted      107         107          107     107"
      ]
     },
     "execution_count": 16,
     "metadata": {},
     "output_type": "execute_result"
    }
   ],
   "source": [
    "folder = 'M1_exc_data'\n",
    "meta_data = pd.read_csv('./data/%s/meta_data_m_type_label.csv'%folder)\n",
    "meta_data.groupby('m-type2').count()"
   ]
  },
  {
   "cell_type": "code",
   "execution_count": 17,
   "metadata": {},
   "outputs": [
    {
     "data": {
      "text/plain": [
       "'./data/M1_exc_data/iterator/'"
      ]
     },
     "execution_count": 17,
     "metadata": {},
     "output_type": "execute_result"
    }
   ],
   "source": [
    "'./data/M1_exc_data/iterator/'"
   ]
  },
  {
   "cell_type": "code",
   "execution_count": 18,
   "metadata": {
    "code_folding": []
   },
   "outputs": [],
   "source": [
    "folder = 'M1_exc_data'\n",
    "MASKING_ELEMENT = 0\n",
    "BATCH_SIZE = 128\n",
    "N_train = 160\n",
    "N_val = 55\n",
    "no_label = -100\n",
    "transform = None\n",
    "\n",
    "meta_data = pd.read_csv('./data/%s/meta_data_m_type_label.csv'%folder)\n",
    "\n",
    "# get true labels\n",
    "labels = meta_data['m-type2'].values\n",
    "labels[labels == 'tufted'] = 0\n",
    "labels[labels == 'untufted'] = 1\n",
    "labels[labels == 'other'] = 2 #no_label\n",
    "\n",
    "true_labels = torch.Tensor(labels.astype(int)).to(torch.long)\n",
    "\n",
    "part = 'm_labels'\n",
    "with open('./data/%s/walks/walk_representation.npy'%(folder), 'rb') as f:\n",
    "    walk_representation = np.load(f)\n",
    "    \n",
    "    # create SeqDS\n",
    "    SeqDS = create_Seq2SeqDataset(walk_representation, true_labels, MASKING_ELEMENT, transform=transform)\n",
    "\n",
    "    mask = walk_representation[:,:,:,0] != np.infty*-1\n",
    "    seq_lengths = torch.Tensor(mask.sum(axis=2))\n",
    "    \n",
    "    np.random.seed(17)\n",
    "    N, n_walks, walk_length, output_dim = walk_representation.shape\n",
    "\n",
    "    train_index = np.random.choice(range(N), size=N_train, replace=False)\n",
    "    val_index = np.random.choice(list(set(range(N)) - set(train_index)), size=N_val, replace=False)\n",
    "    test_index = list(set(range(N)) - set(train_index) -set(val_index))\n",
    "\n",
    "    train_sampler = SubsetRandomSampler(train_index)\n",
    "    val_sampler = SubsetRandomSampler(val_index)\n",
    "    test_sampler = SubsetRandomSampler(test_index)\n",
    "    \n",
    "\n",
    "    train_iterator = torch.utils.data.DataLoader(SeqDS, batch_size=BATCH_SIZE, \n",
    "                                               sampler=train_sampler)\n",
    "\n",
    "    val_iterator = torch.utils.data.DataLoader(SeqDS, batch_size=len(val_index), \n",
    "                                               sampler=val_sampler)\n",
    "    test_iterator= torch.utils.data.DataLoader(SeqDS, batch_size=len(test_index), \n",
    "                                               sampler=test_sampler)\n",
    "    \n",
    "    with open('./data/%s/iterator/%s/train_iterator.pkl'%(folder, part), 'wb') as f:\n",
    "        pickle.dump(train_iterator, f)\n",
    "    \n",
    "    with open('./data/%s/iterator/%s/val_iterator.pkl'%(folder, part), 'wb') as f:\n",
    "        pickle.dump(val_iterator, f)\n",
    "    \n",
    "    with open('./data/%s/iterator/%s/test_iterator.pkl'%(folder, part), 'wb') as f:\n",
    "        pickle.dump(test_iterator, f)"
   ]
  },
  {
   "cell_type": "markdown",
   "metadata": {},
   "source": [
    "### RNA label"
   ]
  },
  {
   "cell_type": "code",
   "execution_count": 19,
   "metadata": {},
   "outputs": [],
   "source": [
    "import pandas as pd"
   ]
  },
  {
   "cell_type": "code",
   "execution_count": 20,
   "metadata": {},
   "outputs": [],
   "source": [
    "folder = 'M1_exc_data'\n",
    "MASKING_ELEMENT = 0\n",
    "BATCH_SIZE = 128\n",
    "N_train = 160\n",
    "N_val = 55\n",
    "no_label = -100\n",
    "transform = None\n",
    "\n",
    "meta_data = pd.read_csv('./data/%s/meta_data_m_type_label.csv'%folder)\n",
    "\n",
    "# get true labels\n",
    "labels = meta_data['RNA family'].values\n",
    "labels[labels == 'IT'] = 0\n",
    "labels[labels == 'CT'] = 1\n",
    "labels[labels == 'PT'] = 2\n",
    "labels[labels == 'NP'] = no_label\n",
    "labels[labels == 'low quality'] = no_label\n",
    "\n",
    "true_labels = torch.Tensor(labels.astype(int)).to(torch.long)\n",
    "\n",
    "\n",
    "with open('./data/%s/walks/walk_representation.npy'%folder, 'rb') as f:\n",
    "    walk_representation = np.load(f)\n",
    "    \n",
    "# create SeqDS\n",
    "SeqDS = create_Seq2SeqDataset(walk_representation, true_labels, MASKING_ELEMENT, transform=transform)\n",
    "\n",
    "mask = walk_representation[:,:,:,0] != np.infty*-1\n",
    "seq_lengths = torch.Tensor(mask.sum(axis=2))\n",
    "    \n",
    "np.random.seed(17)\n",
    "N, n_walks, walk_length, output_dim = walk_representation.shape\n",
    "\n",
    "train_index = np.random.choice(range(N), size=N_train, replace=False)\n",
    "val_index = np.random.choice(list(set(range(N)) - set(train_index)), size=N_val, replace=False)\n",
    "test_index = list(set(range(N)) - set(train_index) -set(val_index))\n",
    "\n",
    "train_sampler = SubsetRandomSampler(train_index)\n",
    "val_sampler = SubsetRandomSampler(val_index)\n",
    "test_sampler = SubsetRandomSampler(test_index)\n",
    "\n",
    "\n",
    "train_iterator = torch.utils.data.DataLoader(SeqDS, batch_size=BATCH_SIZE, \n",
    "                                             sampler=train_sampler)\n",
    "\n",
    "val_iterator = torch.utils.data.DataLoader(SeqDS, batch_size=len(val_index), \n",
    "                                           sampler=val_sampler)\n",
    "test_iterator= torch.utils.data.DataLoader(SeqDS, batch_size=len(test_index), \n",
    "                                           sampler=test_sampler)\n",
    "\n",
    "part = 'rna_labels'\n",
    "with open('./data/%s/iterator/%s/train_iterator.pkl'%(folder, part), 'wb') as f:\n",
    "    pickle.dump(train_iterator, f)\n",
    "\n",
    "with open('./data/%s/iterator/%s/val_iterator.pkl'%(folder, part), 'wb') as f:\n",
    "    pickle.dump(val_iterator, f)\n",
    "\n",
    "with open('./data/%s/iterator/%s/test_iterator.pkl'%(folder, part), 'wb') as f:\n",
    "    pickle.dump(test_iterator, f)"
   ]
  },
  {
   "cell_type": "code",
   "execution_count": 21,
   "metadata": {},
   "outputs": [
    {
     "data": {
      "text/plain": [
       "array([-100, 0, 1, 2], dtype=object)"
      ]
     },
     "execution_count": 21,
     "metadata": {},
     "output_type": "execute_result"
    }
   ],
   "source": [
    "np.unique(meta_data['RNA family'].values)"
   ]
  },
  {
   "cell_type": "code",
   "execution_count": 22,
   "metadata": {},
   "outputs": [
    {
     "name": "stdout",
     "output_type": "stream",
     "text": [
      "[ 3.0 , 21.0 ]\n"
     ]
    }
   ],
   "source": [
    "from utils.rw_utils import get_possible_paths, load_neurons\n",
    "\n",
    "neurons = load_neurons('./data/M1_exc_data/neurons/', sort=False)\n",
    "path_lengths = []\n",
    "for n in neurons:\n",
    "    path_lengths += [len(p) for p in get_possible_paths(n)]\n",
    "print(\"[\", np.percentile(path_lengths,5), \",\", np.percentile(path_lengths,95), \"]\")"
   ]
  },
  {
   "cell_type": "markdown",
   "metadata": {},
   "source": [
    "# Create iterator for M1 INH data"
   ]
  },
  {
   "cell_type": "code",
   "execution_count": 23,
   "metadata": {},
   "outputs": [],
   "source": [
    "import pandas as pd"
   ]
  },
  {
   "cell_type": "code",
   "execution_count": 24,
   "metadata": {},
   "outputs": [
    {
     "data": {
      "text/html": [
       "<div>\n",
       "<style scoped>\n",
       "    .dataframe tbody tr th:only-of-type {\n",
       "        vertical-align: middle;\n",
       "    }\n",
       "\n",
       "    .dataframe tbody tr th {\n",
       "        vertical-align: top;\n",
       "    }\n",
       "\n",
       "    .dataframe thead th {\n",
       "        text-align: right;\n",
       "    }\n",
       "</style>\n",
       "<table border=\"1\" class=\"dataframe\">\n",
       "  <thead>\n",
       "    <tr style=\"text-align: right;\">\n",
       "      <th></th>\n",
       "      <th>Number</th>\n",
       "      <th>Cell</th>\n",
       "      <th>Inferred layer</th>\n",
       "      <th>Cre</th>\n",
       "      <th>RNA type</th>\n",
       "      <th>Soma depth (µm)</th>\n",
       "      <th>len(full)</th>\n",
       "      <th>len(resampled_40)</th>\n",
       "      <th>len(resampled_10)</th>\n",
       "      <th>longest_path(resampled_10)</th>\n",
       "      <th>longest_path(resampled_40)</th>\n",
       "      <th>len(resampled_50)</th>\n",
       "      <th>longest_path(resampled_50)</th>\n",
       "      <th>len(resampled_60)</th>\n",
       "      <th>longest_path(resampled_60)</th>\n",
       "      <th>len(R)</th>\n",
       "      <th>longest_path(R)</th>\n",
       "      <th>x-extent</th>\n",
       "      <th>y-extent</th>\n",
       "      <th>z-extent</th>\n",
       "    </tr>\n",
       "    <tr>\n",
       "      <th>RNA family</th>\n",
       "      <th></th>\n",
       "      <th></th>\n",
       "      <th></th>\n",
       "      <th></th>\n",
       "      <th></th>\n",
       "      <th></th>\n",
       "      <th></th>\n",
       "      <th></th>\n",
       "      <th></th>\n",
       "      <th></th>\n",
       "      <th></th>\n",
       "      <th></th>\n",
       "      <th></th>\n",
       "      <th></th>\n",
       "      <th></th>\n",
       "      <th></th>\n",
       "      <th></th>\n",
       "      <th></th>\n",
       "      <th></th>\n",
       "      <th></th>\n",
       "    </tr>\n",
       "  </thead>\n",
       "  <tbody>\n",
       "    <tr>\n",
       "      <th>Lamp5</th>\n",
       "      <td>47</td>\n",
       "      <td>47</td>\n",
       "      <td>47</td>\n",
       "      <td>47</td>\n",
       "      <td>47</td>\n",
       "      <td>47</td>\n",
       "      <td>47</td>\n",
       "      <td>47</td>\n",
       "      <td>47</td>\n",
       "      <td>47</td>\n",
       "      <td>47</td>\n",
       "      <td>47</td>\n",
       "      <td>47</td>\n",
       "      <td>47</td>\n",
       "      <td>47</td>\n",
       "      <td>47</td>\n",
       "      <td>47</td>\n",
       "      <td>47</td>\n",
       "      <td>47</td>\n",
       "      <td>47</td>\n",
       "    </tr>\n",
       "    <tr>\n",
       "      <th>Pvalb</th>\n",
       "      <td>145</td>\n",
       "      <td>145</td>\n",
       "      <td>145</td>\n",
       "      <td>145</td>\n",
       "      <td>145</td>\n",
       "      <td>145</td>\n",
       "      <td>145</td>\n",
       "      <td>145</td>\n",
       "      <td>145</td>\n",
       "      <td>145</td>\n",
       "      <td>145</td>\n",
       "      <td>145</td>\n",
       "      <td>145</td>\n",
       "      <td>145</td>\n",
       "      <td>145</td>\n",
       "      <td>145</td>\n",
       "      <td>145</td>\n",
       "      <td>145</td>\n",
       "      <td>145</td>\n",
       "      <td>145</td>\n",
       "    </tr>\n",
       "    <tr>\n",
       "      <th>Sncg</th>\n",
       "      <td>6</td>\n",
       "      <td>6</td>\n",
       "      <td>6</td>\n",
       "      <td>6</td>\n",
       "      <td>6</td>\n",
       "      <td>6</td>\n",
       "      <td>6</td>\n",
       "      <td>6</td>\n",
       "      <td>6</td>\n",
       "      <td>6</td>\n",
       "      <td>6</td>\n",
       "      <td>6</td>\n",
       "      <td>6</td>\n",
       "      <td>6</td>\n",
       "      <td>6</td>\n",
       "      <td>6</td>\n",
       "      <td>6</td>\n",
       "      <td>6</td>\n",
       "      <td>6</td>\n",
       "      <td>6</td>\n",
       "    </tr>\n",
       "    <tr>\n",
       "      <th>Sst</th>\n",
       "      <td>108</td>\n",
       "      <td>108</td>\n",
       "      <td>108</td>\n",
       "      <td>108</td>\n",
       "      <td>108</td>\n",
       "      <td>108</td>\n",
       "      <td>108</td>\n",
       "      <td>108</td>\n",
       "      <td>108</td>\n",
       "      <td>108</td>\n",
       "      <td>108</td>\n",
       "      <td>108</td>\n",
       "      <td>108</td>\n",
       "      <td>108</td>\n",
       "      <td>108</td>\n",
       "      <td>108</td>\n",
       "      <td>108</td>\n",
       "      <td>108</td>\n",
       "      <td>108</td>\n",
       "      <td>108</td>\n",
       "    </tr>\n",
       "    <tr>\n",
       "      <th>Vip</th>\n",
       "      <td>63</td>\n",
       "      <td>63</td>\n",
       "      <td>63</td>\n",
       "      <td>63</td>\n",
       "      <td>63</td>\n",
       "      <td>63</td>\n",
       "      <td>63</td>\n",
       "      <td>63</td>\n",
       "      <td>63</td>\n",
       "      <td>63</td>\n",
       "      <td>63</td>\n",
       "      <td>63</td>\n",
       "      <td>63</td>\n",
       "      <td>63</td>\n",
       "      <td>63</td>\n",
       "      <td>63</td>\n",
       "      <td>63</td>\n",
       "      <td>63</td>\n",
       "      <td>63</td>\n",
       "      <td>63</td>\n",
       "    </tr>\n",
       "    <tr>\n",
       "      <th>n.a.</th>\n",
       "      <td>3</td>\n",
       "      <td>3</td>\n",
       "      <td>3</td>\n",
       "      <td>3</td>\n",
       "      <td>1</td>\n",
       "      <td>3</td>\n",
       "      <td>1</td>\n",
       "      <td>1</td>\n",
       "      <td>1</td>\n",
       "      <td>1</td>\n",
       "      <td>1</td>\n",
       "      <td>1</td>\n",
       "      <td>1</td>\n",
       "      <td>1</td>\n",
       "      <td>1</td>\n",
       "      <td>1</td>\n",
       "      <td>1</td>\n",
       "      <td>1</td>\n",
       "      <td>1</td>\n",
       "      <td>1</td>\n",
       "    </tr>\n",
       "  </tbody>\n",
       "</table>\n",
       "</div>"
      ],
      "text/plain": [
       "            Number  Cell  Inferred layer  Cre  RNA type  Soma depth (µm)  \\\n",
       "RNA family                                                                 \n",
       "Lamp5           47    47              47   47        47               47   \n",
       "Pvalb          145   145             145  145       145              145   \n",
       "Sncg             6     6               6    6         6                6   \n",
       "Sst            108   108             108  108       108              108   \n",
       "Vip             63    63              63   63        63               63   \n",
       "n.a.             3     3               3    3         1                3   \n",
       "\n",
       "            len(full)  len(resampled_40)  len(resampled_10)  \\\n",
       "RNA family                                                    \n",
       "Lamp5              47                 47                 47   \n",
       "Pvalb             145                145                145   \n",
       "Sncg                6                  6                  6   \n",
       "Sst               108                108                108   \n",
       "Vip                63                 63                 63   \n",
       "n.a.                1                  1                  1   \n",
       "\n",
       "            longest_path(resampled_10)  longest_path(resampled_40)  \\\n",
       "RNA family                                                           \n",
       "Lamp5                               47                          47   \n",
       "Pvalb                              145                         145   \n",
       "Sncg                                 6                           6   \n",
       "Sst                                108                         108   \n",
       "Vip                                 63                          63   \n",
       "n.a.                                 1                           1   \n",
       "\n",
       "            len(resampled_50)  longest_path(resampled_50)  len(resampled_60)  \\\n",
       "RNA family                                                                     \n",
       "Lamp5                      47                          47                 47   \n",
       "Pvalb                     145                         145                145   \n",
       "Sncg                        6                           6                  6   \n",
       "Sst                       108                         108                108   \n",
       "Vip                        63                          63                 63   \n",
       "n.a.                        1                           1                  1   \n",
       "\n",
       "            longest_path(resampled_60)  len(R)  longest_path(R)  x-extent  \\\n",
       "RNA family                                                                  \n",
       "Lamp5                               47      47               47        47   \n",
       "Pvalb                              145     145              145       145   \n",
       "Sncg                                 6       6                6         6   \n",
       "Sst                                108     108              108       108   \n",
       "Vip                                 63      63               63        63   \n",
       "n.a.                                 1       1                1         1   \n",
       "\n",
       "            y-extent  z-extent  \n",
       "RNA family                      \n",
       "Lamp5             47        47  \n",
       "Pvalb            145       145  \n",
       "Sncg               6         6  \n",
       "Sst              108       108  \n",
       "Vip               63        63  \n",
       "n.a.               1         1  "
      ]
     },
     "execution_count": 24,
     "metadata": {},
     "output_type": "execute_result"
    }
   ],
   "source": [
    "\n",
    "meta_data = pd.read_csv('./data/M1_inh_data/meta_data.csv')\n",
    "meta_data.groupby('RNA family').count()"
   ]
  },
  {
   "cell_type": "code",
   "execution_count": 25,
   "metadata": {},
   "outputs": [],
   "source": [
    "folder = 'M1_inh_data'\n",
    "MASKING_ELEMENT = 0\n",
    "N_train = 248\n",
    "N_val = 62\n",
    "no_label = -100\n",
    "transform = None#rand_scaling\n",
    "\n",
    "meta_data = pd.read_csv('./data/%s/meta_data.csv'%folder)\n",
    "\n",
    "# get true labels\n",
    "labels = meta_data['RNA family'].values\n",
    "labels[labels == 'n.a.'] = no_label\n",
    "labels[labels == 'Sncg'] = 'Vip'\n",
    "labels[labels == 'Sst'] = 0\n",
    "labels[labels == 'Pvalb'] = 1\n",
    "labels[labels == 'Vip'] = 2\n",
    "labels[labels == 'Lamp5'] = 3\n",
    "\n",
    "true_labels = torch.Tensor(labels.astype(int)).to(torch.long)\n",
    "\n",
    "for part, walk_length in [('axon', 32)]:\n",
    "    with open('./data/%s/walks/%s/walk_representation_%i.npy'%(folder, part, walk_length), 'rb') as f:\n",
    "        walk_representation = np.load(f)\n",
    "    \n",
    "    if walk_length == 32:\n",
    "        BATCH_SIZE = 128\n",
    "    elif walk_length == 64:\n",
    "        BATCH_SIZE = 64\n",
    "        \n",
    "    # create SeqDS\n",
    "    SeqDS = create_Seq2SeqDataset(walk_representation, true_labels, MASKING_ELEMENT, transform=transform)\n",
    "\n",
    "    mask = walk_representation[:,:,:,0] != np.infty*-1\n",
    "    seq_lengths = torch.Tensor(mask.sum(axis=2))\n",
    "    \n",
    "    np.random.seed(17)\n",
    "    N, n_walks, walk_length, output_dim = walk_representation.shape\n",
    "\n",
    "    train_index = np.random.choice(range(N), size=N_train, replace=False)\n",
    "    val_index = np.random.choice(list(set(range(N)) - set(train_index)), size=N_val, replace=False)\n",
    "    test_index = list(set(range(N)) - set(train_index) -set(val_index))\n",
    "\n",
    "    train_sampler = SubsetRandomSampler(train_index)\n",
    "    val_sampler = SubsetRandomSampler(val_index)\n",
    "    test_sampler = SubsetRandomSampler(test_index)\n",
    "    \n",
    "\n",
    "    train_iterator = torch.utils.data.DataLoader(SeqDS, batch_size=BATCH_SIZE, \n",
    "                                               sampler=train_sampler)\n",
    "\n",
    "    val_iterator = torch.utils.data.DataLoader(SeqDS, batch_size=len(val_index), \n",
    "                                               sampler=val_sampler)\n",
    "    test_iterator= torch.utils.data.DataLoader(SeqDS, batch_size=len(test_index), \n",
    "                                               sampler=test_sampler)\n",
    "    \n",
    "    with open('./data/%s/iterator/%s/train_iterator_%i.pkl'%(folder, part, walk_length), 'wb') as f:\n",
    "        pickle.dump(train_iterator, f)\n",
    "    \n",
    "    with open('./data/%s/iterator/%s/val_iterator_%i.pkl'%(folder, part, walk_length), 'wb') as f:\n",
    "        pickle.dump(val_iterator, f)\n",
    "    \n",
    "    with open('./data/%s/iterator/%s/test_iterator_%i.pkl'%(folder, part, walk_length), 'wb') as f:\n",
    "        pickle.dump(test_iterator, f)"
   ]
  },
  {
   "cell_type": "code",
   "execution_count": 26,
   "metadata": {},
   "outputs": [
    {
     "name": "stdout",
     "output_type": "stream",
     "text": [
      "[ 9.0 , 38.0 ]\n"
     ]
    }
   ],
   "source": [
    "from utils.rw_utils import get_possible_paths, load_neurons\n",
    "\n",
    "neurons = load_neurons('./data/M1_inh_data/neurons/axon/', sort=False)\n",
    "path_lengths = []\n",
    "for n in neurons:\n",
    "    path_lengths += [len(p) for p in get_possible_paths(n)]\n",
    "print(\"[\", np.percentile(path_lengths,5), \",\", np.percentile(path_lengths,95), \"]\")"
   ]
  },
  {
   "cell_type": "markdown",
   "metadata": {},
   "source": [
    "# Create iterator for Farrow data"
   ]
  },
  {
   "cell_type": "code",
   "execution_count": 27,
   "metadata": {},
   "outputs": [],
   "source": [
    "import pandas as pd"
   ]
  },
  {
   "cell_type": "code",
   "execution_count": 47,
   "metadata": {},
   "outputs": [],
   "source": [
    "folder = 'Farrow_data'\n",
    "MASKING_ELEMENT = 0\n",
    "N_train = 400\n",
    "N_val = 99\n",
    "no_label = -100\n",
    "transform = None\n",
    "\n",
    "meta_data = pd.read_csv('./data/%s/meta_data_labeled_cells.csv'%folder, index_col=0)\n",
    "\n",
    "# get true labels\n",
    "labels = meta_data['cluster'].values -1\n",
    "labels[labels < 0] = no_label\n",
    "true_labels = torch.Tensor(labels.astype(int)).to(torch.long)"
   ]
  },
  {
   "cell_type": "code",
   "execution_count": 48,
   "metadata": {
    "scrolled": false
   },
   "outputs": [
    {
     "data": {
      "text/plain": [
       "(array([-100,    0,    1,    2,    3,    4,    5,    6,    7,    8,    9,\n",
       "          10,   11,   12,   13]),\n",
       " array([ 49, 121,  29,  11,  17,  44,  91,  20,  37,  19,  36,  21,  30,\n",
       "         44,  30]))"
      ]
     },
     "execution_count": 48,
     "metadata": {},
     "output_type": "execute_result"
    }
   ],
   "source": [
    "np.unique(true_labels, return_counts=True)"
   ]
  },
  {
   "cell_type": "code",
   "execution_count": 49,
   "metadata": {
    "code_folding": []
   },
   "outputs": [],
   "source": [
    "BATCH_SIZE = 128\n",
    "for c in [('soma_centered')]:\n",
    "    \n",
    "    for transform, prefix in [(None, ''), (transform, 'scaling_')]:\n",
    "        with open('./data/%s/walks/%s/walk_representation.npy'%(folder, c), 'rb') as f:\n",
    "            walk_representation = np.load(f)\n",
    "\n",
    "        # create SeqDS\n",
    "        SeqDS = create_Seq2SeqDataset(walk_representation, true_labels, MASKING_ELEMENT, transform=transform)\n",
    "\n",
    "        mask = walk_representation[:,:,:,0] != np.infty*-1\n",
    "        seq_lengths = torch.Tensor(mask.sum(axis=2))\n",
    "\n",
    "        np.random.seed(17)\n",
    "        N, n_walks, walk_length, output_dim = walk_representation.shape\n",
    "\n",
    "        train_index = np.random.choice(range(N), size=N_train, replace=False)\n",
    "        val_index = np.random.choice(list(set(range(N)) - set(train_index)), size=N_val, replace=False)\n",
    "        test_index = list(set(range(N)) - set(train_index) -set(val_index))\n",
    "\n",
    "        train_sampler = SubsetRandomSampler(train_index)\n",
    "        val_sampler = SubsetRandomSampler(val_index)\n",
    "        test_sampler = SubsetRandomSampler(test_index)\n",
    "\n",
    "\n",
    "        train_iterator = torch.utils.data.DataLoader(SeqDS, batch_size=BATCH_SIZE, \n",
    "                                                   sampler=train_sampler)\n",
    "\n",
    "        val_iterator = torch.utils.data.DataLoader(SeqDS, batch_size=len(val_index), \n",
    "                                                   sampler=val_sampler)\n",
    "        test_iterator= torch.utils.data.DataLoader(SeqDS, batch_size=len(test_index), \n",
    "                                                   sampler=test_sampler)\n",
    "\n",
    "        with open('./data/%s/iterator/%s/%strain_iterator.pkl'%(folder, c, prefix), 'wb') as f:\n",
    "            pickle.dump(train_iterator, f)\n",
    "\n",
    "        with open('./data/%s/iterator/%s/%sval_iterator.pkl'%(folder, c, prefix), 'wb') as f:\n",
    "            pickle.dump(val_iterator, f)\n",
    "\n",
    "        with open('./data/%s/iterator/%s/%stest_iterator.pkl'%(folder, c, prefix), 'wb') as f:\n",
    "            pickle.dump(test_iterator, f)"
   ]
  },
  {
   "cell_type": "code",
   "execution_count": 31,
   "metadata": {},
   "outputs": [],
   "source": [
    "import os\n",
    "from utils.rw_utils import load_neurons\n",
    "\n",
    "neurons = load_neurons('./data/Farrow_data/neurons/soma_centered/', sort=False)\n",
    "\n",
    "root, _, files = list(os.walk('./data/Farrow_data/neurons/soma_centered/'))[0]\n",
    "sort_index = np.array(files).argsort()\n",
    "\n",
    "neurons = np.array(neurons)[sort_index]"
   ]
  },
  {
   "cell_type": "code",
   "execution_count": 32,
   "metadata": {},
   "outputs": [
    {
     "name": "stdout",
     "output_type": "stream",
     "text": [
      "[ 5.0 , 22.0 ]\n"
     ]
    }
   ],
   "source": [
    "from utils.rw_utils import get_possible_paths\n",
    "\n",
    "path_lengths = []\n",
    "for n in neurons:\n",
    "    path_lengths += [len(p) for p in get_possible_paths(n)]\n",
    "print(\"[\", np.percentile(path_lengths,5), \",\", np.percentile(path_lengths,95), \"]\")"
   ]
  },
  {
   "cell_type": "markdown",
   "metadata": {},
   "source": [
    "# Create iterator for urban data"
   ]
  },
  {
   "cell_type": "code",
   "execution_count": 43,
   "metadata": {},
   "outputs": [],
   "source": [
    "folder = 'urban_data'\n",
    "MASKING_ELEMENT = 0\n",
    "N_train = 400\n",
    "N_val = 99\n",
    "no_label = -100\n",
    "transform = None\n"
   ]
  },
  {
   "cell_type": "code",
   "execution_count": 44,
   "metadata": {},
   "outputs": [],
   "source": [
    "import multiprocessing\n",
    "import numpy as np\n",
    "\n",
    "from utils.rw_utils import get_rw_representation, get_walk_representation"
   ]
  },
  {
   "cell_type": "code",
   "execution_count": 50,
   "metadata": {},
   "outputs": [
    {
     "ename": "FileNotFoundError",
     "evalue": "[Errno 2] No such file or directory: './data/urban_data/walks/soma_centered/walk_representation_8.npy'",
     "output_type": "error",
     "traceback": [
      "\u001b[0;31m---------------------------------------------------------------------------\u001b[0m",
      "\u001b[0;31mFileNotFoundError\u001b[0m                         Traceback (most recent call last)",
      "\u001b[1;32m/home/ellismith/morphvae/Create data iterators.ipynb Cell 38'\u001b[0m in \u001b[0;36m<cell line: 9>\u001b[0;34m()\u001b[0m\n\u001b[1;32m     <a href='vscode-notebook-cell://ssh-remote%2Bspike/home/ellismith/morphvae/Create%20data%20iterators.ipynb#ch0000041vscode-remote?line=11'>12</a>\u001b[0m     rw_list \u001b[39m+\u001b[39m\u001b[39m=\u001b[39m pool\u001b[39m.\u001b[39mmap(get_rw_representation, neurons)\n\u001b[1;32m     <a href='vscode-notebook-cell://ssh-remote%2Bspike/home/ellismith/morphvae/Create%20data%20iterators.ipynb#ch0000041vscode-remote?line=12'>13</a>\u001b[0m RW_representation \u001b[39m=\u001b[39m np\u001b[39m.\u001b[39marray([e[\u001b[39m0\u001b[39m] \u001b[39mfor\u001b[39;00m e \u001b[39min\u001b[39;00m rw_list])\n\u001b[0;32m---> <a href='vscode-notebook-cell://ssh-remote%2Bspike/home/ellismith/morphvae/Create%20data%20iterators.ipynb#ch0000041vscode-remote?line=14'>15</a>\u001b[0m \u001b[39mwith\u001b[39;00m \u001b[39mopen\u001b[39;49m(\u001b[39m'\u001b[39;49m\u001b[39m./data/urban_data/walks/soma_centered/walk_representation_\u001b[39;49m\u001b[39m%i\u001b[39;49;00m\u001b[39m.npy\u001b[39;49m\u001b[39m'\u001b[39;49m\u001b[39m%\u001b[39;49mwalk_length, \u001b[39m'\u001b[39;49m\u001b[39mwb\u001b[39;49m\u001b[39m'\u001b[39;49m) \u001b[39mas\u001b[39;00m f:\n\u001b[1;32m     <a href='vscode-notebook-cell://ssh-remote%2Bspike/home/ellismith/morphvae/Create%20data%20iterators.ipynb#ch0000041vscode-remote?line=15'>16</a>\u001b[0m     \u001b[39m#np.save(f, walk_representation)\u001b[39;00m\n\u001b[1;32m     <a href='vscode-notebook-cell://ssh-remote%2Bspike/home/ellismith/morphvae/Create%20data%20iterators.ipynb#ch0000041vscode-remote?line=16'>17</a>\u001b[0m     np\u001b[39m.\u001b[39msave(f, RW_representation)\n",
      "\u001b[0;31mFileNotFoundError\u001b[0m: [Errno 2] No such file or directory: './data/urban_data/walks/soma_centered/walk_representation_8.npy'"
     ]
    }
   ],
   "source": [
    "# sample RANDOM walks\n",
    "\n",
    "np.random.seed(17)\n",
    "\n",
    "n_walks=256\n",
    "N = len(neurons)\n",
    "NUM_CORES = 15\n",
    "\n",
    "for walk_length in [8,16,32]:\n",
    "    rw_list = []\n",
    "    with multiprocessing.Pool(NUM_CORES) as pool:\n",
    "        rw_list += pool.map(get_rw_representation, neurons)\n",
    "    RW_representation = np.array([e[0] for e in rw_list])\n",
    "    \n",
    "    with open('./data/urban_data/walks/soma_centered/walk_representation_%i.npy'%walk_length, 'wb') as f:\n",
    "        #np.save(f, walk_representation)\n",
    "        np.save(f, RW_representation)"
   ]
  },
  {
   "cell_type": "code",
   "execution_count": 36,
   "metadata": {},
   "outputs": [
    {
     "data": {
      "text/plain": [
       "'urban_data'"
      ]
     },
     "execution_count": 36,
     "metadata": {},
     "output_type": "execute_result"
    }
   ],
   "source": [
    "PATH = './data/urban_data/walks/'\n",
    "#os.makedirs(PATH, exist_ok=True)folder"
   ]
  },
  {
   "cell_type": "code",
   "execution_count": 45,
   "metadata": {},
   "outputs": [
    {
     "ename": "FileNotFoundError",
     "evalue": "[Errno 2] No such file or directory: './data/urban_data/walks/soma_centered/walk_representation.npy'",
     "output_type": "error",
     "traceback": [
      "\u001b[0;31m---------------------------------------------------------------------------\u001b[0m",
      "\u001b[0;31mFileNotFoundError\u001b[0m                         Traceback (most recent call last)",
      "\u001b[1;32m/home/ellismith/morphvae/Create data iterators.ipynb Cell 41'\u001b[0m in \u001b[0;36m<cell line: 2>\u001b[0;34m()\u001b[0m\n\u001b[1;32m      <a href='vscode-notebook-cell://ssh-remote%2Bspike/home/ellismith/morphvae/Create%20data%20iterators.ipynb#ch0000036vscode-remote?line=1'>2</a>\u001b[0m \u001b[39mfor\u001b[39;00m c \u001b[39min\u001b[39;00m [(\u001b[39m'\u001b[39m\u001b[39msoma_centered\u001b[39m\u001b[39m'\u001b[39m)]:\n\u001b[1;32m      <a href='vscode-notebook-cell://ssh-remote%2Bspike/home/ellismith/morphvae/Create%20data%20iterators.ipynb#ch0000036vscode-remote?line=3'>4</a>\u001b[0m     \u001b[39mfor\u001b[39;00m transform, prefix \u001b[39min\u001b[39;00m [(\u001b[39mNone\u001b[39;00m, \u001b[39m'\u001b[39m\u001b[39m'\u001b[39m), (transform, \u001b[39m'\u001b[39m\u001b[39mscaling_\u001b[39m\u001b[39m'\u001b[39m)]:\n\u001b[0;32m----> <a href='vscode-notebook-cell://ssh-remote%2Bspike/home/ellismith/morphvae/Create%20data%20iterators.ipynb#ch0000036vscode-remote?line=4'>5</a>\u001b[0m         \u001b[39mwith\u001b[39;00m \u001b[39mopen\u001b[39;49m(\u001b[39m'\u001b[39;49m\u001b[39m./data/\u001b[39;49m\u001b[39m%s\u001b[39;49;00m\u001b[39m/walks/\u001b[39;49m\u001b[39m%s\u001b[39;49;00m\u001b[39m/walk_representation.npy\u001b[39;49m\u001b[39m'\u001b[39;49m\u001b[39m%\u001b[39;49m(folder, c), \u001b[39m'\u001b[39;49m\u001b[39mrb\u001b[39;49m\u001b[39m'\u001b[39;49m) \u001b[39mas\u001b[39;00m f:\n\u001b[1;32m      <a href='vscode-notebook-cell://ssh-remote%2Bspike/home/ellismith/morphvae/Create%20data%20iterators.ipynb#ch0000036vscode-remote?line=5'>6</a>\u001b[0m             walk_representation \u001b[39m=\u001b[39m np\u001b[39m.\u001b[39mload(f)\n\u001b[1;32m      <a href='vscode-notebook-cell://ssh-remote%2Bspike/home/ellismith/morphvae/Create%20data%20iterators.ipynb#ch0000036vscode-remote?line=7'>8</a>\u001b[0m         \u001b[39m# create SeqDS\u001b[39;00m\n",
      "\u001b[0;31mFileNotFoundError\u001b[0m: [Errno 2] No such file or directory: './data/urban_data/walks/soma_centered/walk_representation.npy'"
     ]
    }
   ],
   "source": [
    "BATCH_SIZE = 128\n",
    "for c in [('soma_centered')]:\n",
    "    \n",
    "    for transform, prefix in [(None, ''), (transform, 'scaling_')]:\n",
    "        with open('./data/%s/walks/%s/walk_representation.npy'%(folder, c), 'rb') as f:\n",
    "            walk_representation = np.load(f)\n",
    "\n",
    "        # create SeqDS\n",
    "        SeqDS = create_Seq2SeqDataset(walk_representation, true_labels, MASKING_ELEMENT, transform=transform)\n",
    "\n",
    "        mask = walk_representation[:,:,:,0] != np.infty*-1\n",
    "        seq_lengths = torch.Tensor(mask.sum(axis=2))\n",
    "\n",
    "        np.random.seed(17)\n",
    "        N, n_walks, walk_length, output_dim = walk_representation.shape\n",
    "\n",
    "        train_index = np.random.choice(range(N), size=N_train, replace=False)\n",
    "        val_index = np.random.choice(list(set(range(N)) - set(train_index)), size=N_val, replace=False)\n",
    "        test_index = list(set(range(N)) - set(train_index) -set(val_index))\n",
    "\n",
    "        train_sampler = SubsetRandomSampler(train_index)\n",
    "        val_sampler = SubsetRandomSampler(val_index)\n",
    "        test_sampler = SubsetRandomSampler(test_index)\n",
    "\n",
    "\n",
    "        train_iterator = torch.utils.data.DataLoader(SeqDS, batch_size=BATCH_SIZE, \n",
    "                                                   sampler=train_sampler)\n",
    "\n",
    "        val_iterator = torch.utils.data.DataLoader(SeqDS, batch_size=len(val_index), \n",
    "                                                   sampler=val_sampler)\n",
    "        test_iterator= torch.utils.data.DataLoader(SeqDS, batch_size=len(test_index), \n",
    "                                                   sampler=test_sampler)\n",
    "\n",
    "        with open('./data/%s/iterator/%s/%strain_iterator.pkl'%(folder, c, prefix), 'wb') as f:\n",
    "            pickle.dump(train_iterator, f)\n",
    "\n",
    "        with open('./data/%s/iterator/%s/%sval_iterator.pkl'%(folder, c, prefix), 'wb') as f:\n",
    "            pickle.dump(val_iterator, f)\n",
    "\n",
    "        with open('./data/%s/iterator/%s/%stest_iterator.pkl'%(folder, c, prefix), 'wb') as f:\n",
    "            pickle.dump(test_iterator, f)"
   ]
  },
  {
   "cell_type": "code",
   "execution_count": null,
   "metadata": {},
   "outputs": [],
   "source": []
  }
 ],
 "metadata": {
  "kernelspec": {
   "display_name": "Python 3",
   "language": "python",
   "name": "python3"
  },
  "language_info": {
   "codemirror_mode": {
    "name": "ipython",
    "version": 3
   },
   "file_extension": ".py",
   "mimetype": "text/x-python",
   "name": "python",
   "nbconvert_exporter": "python",
   "pygments_lexer": "ipython3",
   "version": "3.9.4"
  }
 },
 "nbformat": 4,
 "nbformat_minor": 4
}
