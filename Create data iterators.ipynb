{
 "cells": [
  {
   "cell_type": "code",
   "execution_count": 16,
   "metadata": {},
   "outputs": [],
   "source": [
    "import torch\n",
    "import pickle\n",
    "import numpy as np\n",
    "\n",
    "from utils.training_utils import create_Seq2SeqDataset\n",
    "from torch.utils.data.sampler import SubsetRandomSampler\n",
    "from torchvision.transforms import Lambda"
   ]
  },
  {
   "cell_type": "code",
   "execution_count": 2,
   "metadata": {},
   "outputs": [],
   "source": [
    "SEED = 17\n",
    "device = torch.device('cuda' if torch.cuda.is_available() else 'cpu')"
   ]
  },
  {
   "cell_type": "code",
   "execution_count": 3,
   "metadata": {},
   "outputs": [],
   "source": [
    "# Load in the walk representation\n",
    "folder = '3_populations'\n",
    "with open('./data/toy_data/%s/walk_representation_16.npy'%folder, 'rb') as f:\n",
    "    walk_representation = np.load(f)"
   ]
  },
  {
   "cell_type": "code",
   "execution_count": 3,
   "metadata": {},
   "outputs": [],
   "source": [
    "def scale(X,scale=(.1,3)):\n",
    "    a = scale[0]\n",
    "    b = scale[1]\n",
    "    s = a + (b-a)*torch.rand(1)\n",
    "    return X*s\n",
    "\n",
    "rand_scaling = Lambda(scale) "
   ]
  },
  {
   "cell_type": "code",
   "execution_count": 5,
   "metadata": {},
   "outputs": [
    {
     "name": "stdout",
     "output_type": "stream",
     "text": [
      "(1200, 256, 16, 3)\n",
      "(1200, 256, 16, 3)\n"
     ]
    }
   ],
   "source": [
    "# create Seq2Seq data set\n",
    "MASKING_ELEMENT = 0\n",
    "#true_labels = torch.Tensor([0]*300 + [1]*300 + [2]*300 + [3]*300 + [4]*300).to(torch.long) # when 5 population data is loaded\n",
    "true_labels = torch.Tensor([0]*400 + [1]*400 + [2]*400).to(torch.long)\n",
    "\n",
    "transform = rand_scaling\n",
    "SeqDS_scaled = create_Seq2SeqDataset(walk_representation, true_labels, MASKING_ELEMENT, transform=transform)\n",
    "SeqDS_nonscaled = create_Seq2SeqDataset(walk_representation, true_labels, MASKING_ELEMENT, transform=None)\n",
    "\n",
    "mask = walk_representation[:,:,:,0] != np.infty*-1\n",
    "seq_lengths = torch.Tensor(mask.sum(axis=2))"
   ]
  },
  {
   "cell_type": "markdown",
   "metadata": {},
   "source": [
    "### create scaled and unscaled iterator"
   ]
  },
  {
   "cell_type": "code",
   "execution_count": 6,
   "metadata": {},
   "outputs": [],
   "source": [
    "np.random.seed(17)\n",
    "BATCH_SIZE = 128\n",
    "N, n_walks, walk_length, output_dim = walk_representation.shape\n",
    "\n",
    "N_train = 750\n",
    "N_val = 250\n",
    "train_index = np.random.choice(range(N), size=N_train, replace=False)\n",
    "val_index = np.random.choice(list(set(range(N)) - set(train_index)), size=N_val, replace=False)\n",
    "test_index = list(set(range(N)) - set(train_index) -set(val_index))\n",
    "\n",
    "train_sampler = SubsetRandomSampler(train_index)\n",
    "val_sampler = SubsetRandomSampler(val_index)\n",
    "test_sampler = SubsetRandomSampler(test_index)\n",
    "\n",
    "\n",
    "train_iterator = torch.utils.data.DataLoader(SeqDS_nonscaled, batch_size=BATCH_SIZE, \n",
    "                                               sampler=train_sampler)\n",
    "val_iterator = torch.utils.data.DataLoader(SeqDS_nonscaled, batch_size=len(val_index), \n",
    "                                           sampler=val_sampler)\n",
    "test_iterator= torch.utils.data.DataLoader(SeqDS_nonscaled, batch_size=len(test_index), \n",
    "                                           sampler=test_sampler)\n",
    "\n",
    "\n",
    "# save the iterator\n",
    "prefix = ''\n",
    "with open('./data/toy_data/%s/iterator/%sval_iterator.pkl'%(folder, prefix), 'wb') as f:\n",
    "    pickle.dump(val_iterator, f)\n",
    "    \n",
    "with open('./data/toy_data/%s/iterator/%stest_iterator.pkl'%(folder, prefix), 'wb') as f:\n",
    "    pickle.dump(test_iterator, f)\n",
    "with open('./data/toy_data/%s/iterator/%strain_iterator.pkl'%(folder, prefix), 'wb') as f:\n",
    "    pickle.dump(train_iterator, f)\n",
    "\n",
    "    \n",
    "train_iterator = torch.utils.data.DataLoader(SeqDS_scaled, batch_size=BATCH_SIZE, \n",
    "                                               sampler=train_sampler)\n",
    "val_iterator = torch.utils.data.DataLoader(SeqDS_scaled, batch_size=BATCH_SIZE, \n",
    "                                           sampler=val_sampler)\n",
    "test_iterator= torch.utils.data.DataLoader(SeqDS_scaled, batch_size=BATCH_SIZE, \n",
    "                                           sampler=test_sampler)\n",
    "# save the iterator\n",
    "prefix = 'scaling_'\n",
    "with open('./data/toy_data/%s/iterator/%sval_iterator.pkl'%(folder, prefix), 'wb') as f:\n",
    "    pickle.dump(val_iterator, f)\n",
    "    \n",
    "with open('./data/toy_data/%s/iterator/%stest_iterator.pkl'%(folder, prefix), 'wb') as f:\n",
    "    pickle.dump(test_iterator, f)\n",
    "with open('./data/toy_data/%s/iterator/%strain_iterator.pkl'%(folder, prefix), 'wb') as f:\n",
    "    pickle.dump(train_iterator, f)"
   ]
  },
  {
   "cell_type": "markdown",
   "metadata": {},
   "source": [
    "### Create iterators with different amount training samples"
   ]
  },
  {
   "cell_type": "code",
   "execution_count": null,
   "metadata": {},
   "outputs": [],
   "source": [
    "np.random.seed(17)\n",
    "BATCH_SIZE = 128\n",
    "N, n_walks, walk_length, output_dim = walk_representation.shape\n",
    "\n",
    "N_train = 750\n",
    "N_val = 250\n",
    "train_index = np.random.choice(range(N), size=N_train, replace=False)\n",
    "val_index = np.random.choice(list(set(range(N)) - set(train_index)), size=N_val, replace=False)\n",
    "test_index = list(set(range(N)) - set(train_index) -set(val_index))\n",
    "\n",
    "\n",
    "val_sampler = SubsetRandomSampler(val_index)\n",
    "test_sampler = SubsetRandomSampler(test_index)\n",
    "\n",
    "val_iterator = torch.utils.data.DataLoader(SeqDS_nonscaled, batch_size=len(val_index), \n",
    "                                           sampler=val_sampler)\n",
    "test_iterator= torch.utils.data.DataLoader(SeqDS_nonscaled, batch_size=len(test_index), \n",
    "                                           sampler=test_sampler)\n",
    "\n",
    "# save the iterator\n",
    "prefix = ''\n",
    "\n",
    "for n_samples in [150,300,450,600,750]:\n",
    "    train_sampler = SubsetRandomSampler(train_index[:n_samples])\n",
    "\n",
    "    train_iterator = torch.utils.data.DataLoader(SeqDS_nonscaled, batch_size=BATCH_SIZE, \n",
    "                                               sampler=train_sampler)\n",
    "\n",
    "    with open('./data/toy_data/%s/iterator/%strain_iterator_n%i.pkl'%(folder, prefix,n_samples), 'wb') as f:\n",
    "        pickle.dump(train_iterator, f)"
   ]
  },
  {
   "cell_type": "markdown",
   "metadata": {},
   "source": [
    "### Create iterators with shuffled labels\n"
   ]
  },
  {
   "cell_type": "code",
   "execution_count": 15,
   "metadata": {},
   "outputs": [
    {
     "name": "stdout",
     "output_type": "stream",
     "text": [
      "(599, 256, 32, 3)\n"
     ]
    }
   ],
   "source": [
    "# create Seq2Seq data set\n",
    "MASKING_ELEMENT = 0\n",
    "true_labels = torch.Tensor(np.random.permutation([0]*400 + [1]*400 + [2]*400)).to(torch.long)\n",
    "SeqDS = create_Seq2SeqDataset(walk_representation, true_labels, MASKING_ELEMENT, transform=None)\n",
    "\n",
    "mask = walk_representation[:,:,:,0] != np.infty*-1\n",
    "seq_lengths = torch.Tensor(mask.sum(axis=2))"
   ]
  },
  {
   "cell_type": "code",
   "execution_count": null,
   "metadata": {},
   "outputs": [],
   "source": [
    "np.random.seed(17)\n",
    "BATCH_SIZE = 128\n",
    "N, n_walks, walk_length, output_dim = walk_representation.shape\n",
    "\n",
    "N_train = 750\n",
    "N_val = 250\n",
    "train_index = np.random.choice(range(N), size=N_train, replace=False)\n",
    "val_index = np.random.choice(list(set(range(N)) - set(train_index)), size=N_val, replace=False)\n",
    "test_index = list(set(range(N)) - set(train_index) -set(val_index))\n",
    "\n",
    "train_sampler = SubsetRandomSampler(train_index)\n",
    "val_sampler = SubsetRandomSampler(val_index)\n",
    "test_sampler = SubsetRandomSampler(test_index)\n",
    "\n",
    "train_iterator = torch.utils.data.DataLoader(SeqDS_nonscaled, batch_size=BATCH_SIZE, \n",
    "                                                 sampler=train_sampler)\n",
    "val_iterator = torch.utils.data.DataLoader(SeqDS_nonscaled, batch_size=len(val_index), \n",
    "                                           sampler=val_sampler)\n",
    "test_iterator= torch.utils.data.DataLoader(SeqDS_nonscaled, batch_size=len(test_index), \n",
    "                                           sampler=test_sampler)\n",
    "\n",
    "# save the iterator\n",
    "prefix = 'shuffled_'\n",
    "with open('./data/toy_data/%s/iterator/%sval_iterator.pkl'%(folder, prefix), 'wb') as f:\n",
    "    pickle.dump(val_iterator, f)\n",
    "    \n",
    "with open('./data/toy_data/%s/iterator/%stest_iterator.pkl'%(folder, prefix), 'wb') as f:\n",
    "    pickle.dump(test_iterator, f)\n",
    "\n",
    "with open('./data/toy_data/%s/iterator/%strain_iterator.pkl'%(folder, prefix), 'wb') as f:\n",
    "    pickle.dump(train_iterator, f)"
   ]
  },
  {
   "cell_type": "markdown",
   "metadata": {},
   "source": [
    "# Create iterator for M1 EXC data"
   ]
  },
  {
   "cell_type": "code",
   "execution_count": 5,
   "metadata": {},
   "outputs": [],
   "source": [
    "import pandas as pd"
   ]
  },
  {
   "cell_type": "code",
   "execution_count": null,
   "metadata": {},
   "outputs": [],
   "source": [
    "folder = 'M1_exc_data'\n",
    "meta_data = pd.read_csv('./data/%s/meta_data_m_type_label.csv'%folder)\n",
    "meta_data.groupby('m-type2').count()"
   ]
  },
  {
   "cell_type": "code",
   "execution_count": null,
   "metadata": {},
   "outputs": [],
   "source": [
    "'./data/M1_exc_data/iterator/'"
   ]
  },
  {
   "cell_type": "code",
   "execution_count": null,
   "metadata": {
    "code_folding": []
   },
   "outputs": [],
   "source": [
    "folder = 'M1_exc_data'\n",
    "MASKING_ELEMENT = 0\n",
    "BATCH_SIZE = 128\n",
    "N_train = 160\n",
    "N_val = 55\n",
    "no_label = -100\n",
    "transform = None\n",
    "\n",
    "meta_data = pd.read_csv('./data/%s/meta_data_m_type_label.csv'%folder)\n",
    "\n",
    "# get true labels\n",
    "labels = meta_data['m-type2'].values\n",
    "labels[labels == 'tufted'] = 0\n",
    "labels[labels == 'untufted'] = 1\n",
    "labels[labels == 'other'] = 2 #no_label\n",
    "\n",
    "true_labels = torch.Tensor(labels.astype(int)).to(torch.long)\n",
    "\n",
    "part = 'm_labels'\n",
    "with open('./data/%s/walks/walk_representation.npy'%(folder), 'rb') as f:\n",
    "    walk_representation = np.load(f)\n",
    "    \n",
    "    # create SeqDS\n",
    "    SeqDS = create_Seq2SeqDataset(walk_representation, true_labels, MASKING_ELEMENT, transform=transform)\n",
    "\n",
    "    mask = walk_representation[:,:,:,0] != np.infty*-1\n",
    "    seq_lengths = torch.Tensor(mask.sum(axis=2))\n",
    "    \n",
    "    np.random.seed(17)\n",
    "    N, n_walks, walk_length, output_dim = walk_representation.shape\n",
    "\n",
    "    train_index = np.random.choice(range(N), size=N_train, replace=False)\n",
    "    val_index = np.random.choice(list(set(range(N)) - set(train_index)), size=N_val, replace=False)\n",
    "    test_index = list(set(range(N)) - set(train_index) -set(val_index))\n",
    "\n",
    "    train_sampler = SubsetRandomSampler(train_index)\n",
    "    val_sampler = SubsetRandomSampler(val_index)\n",
    "    test_sampler = SubsetRandomSampler(test_index)\n",
    "    \n",
    "\n",
    "    train_iterator = torch.utils.data.DataLoader(SeqDS, batch_size=BATCH_SIZE, \n",
    "                                               sampler=train_sampler)\n",
    "\n",
    "    val_iterator = torch.utils.data.DataLoader(SeqDS, batch_size=len(val_index), \n",
    "                                               sampler=val_sampler)\n",
    "    test_iterator= torch.utils.data.DataLoader(SeqDS, batch_size=len(test_index), \n",
    "                                               sampler=test_sampler)\n",
    "    \n",
    "    with open('./data/%s/iterator/%s/train_iterator.pkl'%(folder, part), 'wb') as f:\n",
    "        pickle.dump(train_iterator, f)\n",
    "    \n",
    "    with open('./data/%s/iterator/%s/val_iterator.pkl'%(folder, part), 'wb') as f:\n",
    "        pickle.dump(val_iterator, f)\n",
    "    \n",
    "    with open('./data/%s/iterator/%s/test_iterator.pkl'%(folder, part), 'wb') as f:\n",
    "        pickle.dump(test_iterator, f)"
   ]
  },
  {
   "cell_type": "markdown",
   "metadata": {},
   "source": [
    "### RNA label"
   ]
  },
  {
   "cell_type": "code",
   "execution_count": null,
   "metadata": {},
   "outputs": [],
   "source": [
    "import pandas as pd"
   ]
  },
  {
   "cell_type": "code",
   "execution_count": null,
   "metadata": {},
   "outputs": [],
   "source": [
    "folder = 'M1_exc_data'\n",
    "MASKING_ELEMENT = 0\n",
    "BATCH_SIZE = 128\n",
    "N_train = 160\n",
    "N_val = 55\n",
    "no_label = -100\n",
    "transform = None\n",
    "\n",
    "meta_data = pd.read_csv('./data/%s/meta_data_m_type_label.csv'%folder)\n",
    "\n",
    "# get true labels\n",
    "labels = meta_data['RNA family'].values\n",
    "labels[labels == 'IT'] = 0\n",
    "labels[labels == 'CT'] = 1\n",
    "labels[labels == 'PT'] = 2\n",
    "labels[labels == 'NP'] = no_label\n",
    "labels[labels == 'low quality'] = no_label\n",
    "\n",
    "true_labels = torch.Tensor(labels.astype(int)).to(torch.long)\n",
    "\n",
    "\n",
    "with open('./data/%s/walks/walk_representation.npy'%folder, 'rb') as f:\n",
    "    walk_representation = np.load(f)\n",
    "    \n",
    "# create SeqDS\n",
    "SeqDS = create_Seq2SeqDataset(walk_representation, true_labels, MASKING_ELEMENT, transform=transform)\n",
    "\n",
    "mask = walk_representation[:,:,:,0] != np.infty*-1\n",
    "seq_lengths = torch.Tensor(mask.sum(axis=2))\n",
    "    \n",
    "np.random.seed(17)\n",
    "N, n_walks, walk_length, output_dim = walk_representation.shape\n",
    "\n",
    "train_index = np.random.choice(range(N), size=N_train, replace=False)\n",
    "val_index = np.random.choice(list(set(range(N)) - set(train_index)), size=N_val, replace=False)\n",
    "test_index = list(set(range(N)) - set(train_index) -set(val_index))\n",
    "\n",
    "train_sampler = SubsetRandomSampler(train_index)\n",
    "val_sampler = SubsetRandomSampler(val_index)\n",
    "test_sampler = SubsetRandomSampler(test_index)\n",
    "\n",
    "\n",
    "train_iterator = torch.utils.data.DataLoader(SeqDS, batch_size=BATCH_SIZE, \n",
    "                                             sampler=train_sampler)\n",
    "\n",
    "val_iterator = torch.utils.data.DataLoader(SeqDS, batch_size=len(val_index), \n",
    "                                           sampler=val_sampler)\n",
    "test_iterator= torch.utils.data.DataLoader(SeqDS, batch_size=len(test_index), \n",
    "                                           sampler=test_sampler)\n",
    "\n",
    "part = 'rna_labels'\n",
    "with open('./data/%s/iterator/%s/train_iterator.pkl'%(folder, part), 'wb') as f:\n",
    "    pickle.dump(train_iterator, f)\n",
    "\n",
    "with open('./data/%s/iterator/%s/val_iterator.pkl'%(folder, part), 'wb') as f:\n",
    "    pickle.dump(val_iterator, f)\n",
    "\n",
    "with open('./data/%s/iterator/%s/test_iterator.pkl'%(folder, part), 'wb') as f:\n",
    "    pickle.dump(test_iterator, f)"
   ]
  },
  {
   "cell_type": "code",
   "execution_count": null,
   "metadata": {},
   "outputs": [],
   "source": [
    "np.unique(meta_data['RNA family'].values)"
   ]
  },
  {
   "cell_type": "code",
   "execution_count": null,
   "metadata": {},
   "outputs": [],
   "source": [
    "from utils.rw_utils import get_possible_paths, load_neurons\n",
    "\n",
    "neurons = load_neurons('./data/M1_exc_data/neurons/', sort=False)\n",
    "path_lengths = []\n",
    "for n in neurons:\n",
    "    path_lengths += [len(p) for p in get_possible_paths(n)]\n",
    "print(\"[\", np.percentile(path_lengths,5), \",\", np.percentile(path_lengths,95), \"]\")"
   ]
  },
  {
   "cell_type": "markdown",
   "metadata": {},
   "source": [
    "# Create iterator for M1 INH data"
   ]
  },
  {
   "cell_type": "code",
   "execution_count": null,
   "metadata": {},
   "outputs": [],
   "source": [
    "\n",
    "meta_data = pd.read_csv('./data/M1_inh_data/meta_data.csv')\n",
    "meta_data.groupby('RNA family').count()"
   ]
  },
  {
   "cell_type": "code",
   "execution_count": null,
   "metadata": {},
   "outputs": [],
   "source": [
    "folder = 'M1_inh_data'\n",
    "MASKING_ELEMENT = 0\n",
    "N_train = 248\n",
    "N_val = 62\n",
    "no_label = -100\n",
    "transform = None#rand_scaling\n",
    "\n",
    "meta_data = pd.read_csv('./data/%s/meta_data.csv'%folder)\n",
    "\n",
    "# get true labels\n",
    "labels = meta_data['RNA family'].values\n",
    "labels[labels == 'n.a.'] = no_label\n",
    "labels[labels == 'Sncg'] = 'Vip'\n",
    "labels[labels == 'Sst'] = 0\n",
    "labels[labels == 'Pvalb'] = 1\n",
    "labels[labels == 'Vip'] = 2\n",
    "labels[labels == 'Lamp5'] = 3\n",
    "\n",
    "true_labels = torch.Tensor(labels.astype(int)).to(torch.long)\n",
    "\n",
    "for part, walk_length in [('axon', 32)]:\n",
    "    with open('./data/%s/walks/%s/walk_representation_%i.npy'%(folder, part, walk_length), 'rb') as f:\n",
    "        walk_representation = np.load(f)\n",
    "    \n",
    "    if walk_length == 32:\n",
    "        BATCH_SIZE = 128\n",
    "    elif walk_length == 64:\n",
    "        BATCH_SIZE = 64\n",
    "        \n",
    "    # create SeqDS\n",
    "    SeqDS = create_Seq2SeqDataset(walk_representation, true_labels, MASKING_ELEMENT, transform=transform)\n",
    "\n",
    "    mask = walk_representation[:,:,:,0] != np.infty*-1\n",
    "    seq_lengths = torch.Tensor(mask.sum(axis=2))\n",
    "    \n",
    "    np.random.seed(17)\n",
    "    N, n_walks, walk_length, output_dim = walk_representation.shape\n",
    "\n",
    "    train_index = np.random.choice(range(N), size=N_train, replace=False)\n",
    "    val_index = np.random.choice(list(set(range(N)) - set(train_index)), size=N_val, replace=False)\n",
    "    test_index = list(set(range(N)) - set(train_index) -set(val_index))\n",
    "\n",
    "    train_sampler = SubsetRandomSampler(train_index)\n",
    "    val_sampler = SubsetRandomSampler(val_index)\n",
    "    test_sampler = SubsetRandomSampler(test_index)\n",
    "    \n",
    "\n",
    "    train_iterator = torch.utils.data.DataLoader(SeqDS, batch_size=BATCH_SIZE, \n",
    "                                               sampler=train_sampler)\n",
    "\n",
    "    val_iterator = torch.utils.data.DataLoader(SeqDS, batch_size=len(val_index), \n",
    "                                               sampler=val_sampler)\n",
    "    test_iterator= torch.utils.data.DataLoader(SeqDS, batch_size=len(test_index), \n",
    "                                               sampler=test_sampler)\n",
    "    \n",
    "    with open('./data/%s/iterator/%s/train_iterator_%i.pkl'%(folder, part, walk_length), 'wb') as f:\n",
    "        pickle.dump(train_iterator, f)\n",
    "    \n",
    "    with open('./data/%s/iterator/%s/val_iterator_%i.pkl'%(folder, part, walk_length), 'wb') as f:\n",
    "        pickle.dump(val_iterator, f)\n",
    "    \n",
    "    with open('./data/%s/iterator/%s/test_iterator_%i.pkl'%(folder, part, walk_length), 'wb') as f:\n",
    "        pickle.dump(test_iterator, f)"
   ]
  },
  {
   "cell_type": "code",
   "execution_count": null,
   "metadata": {},
   "outputs": [],
   "source": [
    "from utils.rw_utils import get_possible_paths, load_neurons\n",
    "\n",
    "neurons = load_neurons('./data/M1_inh_data/neurons/axon/', sort=False)\n",
    "path_lengths = []\n",
    "for n in neurons:\n",
    "    path_lengths += [len(p) for p in get_possible_paths(n)]\n",
    "print(\"[\", np.percentile(path_lengths,5), \",\", np.percentile(path_lengths,95), \"]\")"
   ]
  },
  {
   "cell_type": "markdown",
   "metadata": {},
   "source": [
    "# Create iterator for Farrow data"
   ]
  },
  {
   "cell_type": "code",
   "execution_count": 5,
   "metadata": {},
   "outputs": [],
   "source": [
    "import pandas as pd"
   ]
  },
  {
   "cell_type": "code",
   "execution_count": 16,
   "metadata": {},
   "outputs": [],
   "source": [
    "folder = 'Farrow_data'\n",
    "MASKING_ELEMENT = 0\n",
    "N_train = 400\n",
    "N_val = 99\n",
    "no_label = -100\n",
    "transform = None\n",
    "\n",
    "meta_data = pd.read_csv('./data/%s/meta_data_labeled_cells.csv'%folder, index_col=0)\n",
    "\n",
    "# get true labels\n",
    "labels = meta_data['cluster'].values -1\n",
    "labels[labels < 0] = no_label\n",
    "true_labels = torch.Tensor(labels.astype(int)).to(torch.long)"
   ]
  },
  {
   "cell_type": "code",
   "execution_count": 17,
   "metadata": {
    "scrolled": false
   },
   "outputs": [
    {
     "data": {
      "text/plain": [
       "(array([-100,    0,    1,    2,    3,    4,    5,    6,    7,    8,    9,\n",
       "          10,   11,   12,   13]),\n",
       " array([ 49, 121,  29,  11,  17,  44,  91,  20,  37,  19,  36,  21,  30,\n",
       "         44,  30]))"
      ]
     },
     "execution_count": 17,
     "metadata": {},
     "output_type": "execute_result"
    }
   ],
   "source": [
    "np.unique(true_labels, return_counts=True)"
   ]
  },
  {
   "cell_type": "code",
   "execution_count": 18,
   "metadata": {
    "code_folding": []
   },
   "outputs": [],
   "source": [
    "BATCH_SIZE = 128\n",
    "for c in [('soma_centered')]:\n",
    "    \n",
    "    for transform, prefix in [(None, ''), (transform, 'scaling_')]:\n",
    "        with open('./data/%s/walks/%s/walk_representation.npy'%(folder, c), 'rb') as f:\n",
    "            walk_representation = np.load(f)\n",
    "            \n",
    "        # create SeqDS\n",
    "        SeqDS = create_Seq2SeqDataset(walk_representation, true_labels, MASKING_ELEMENT, transform=transform)\n",
    "\n",
    "        mask = walk_representation[:,:,:,0] != np.infty*-1\n",
    "        seq_lengths = torch.Tensor(mask.sum(axis=2))\n",
    "\n",
    "        np.random.seed(17)\n",
    "        N, n_walks, walk_length, output_dim = walk_representation.shape\n",
    "\n",
    "        train_index = np.random.choice(range(N), size=N_train, replace=False)\n",
    "        val_index = np.random.choice(list(set(range(N)) - set(train_index)), size=N_val, replace=False)\n",
    "        test_index = list(set(range(N)) - set(train_index) -set(val_index))\n",
    "\n",
    "        train_sampler = SubsetRandomSampler(train_index)\n",
    "        val_sampler = SubsetRandomSampler(val_index)\n",
    "        test_sampler = SubsetRandomSampler(test_index)\n",
    "\n",
    "\n",
    "        train_iterator = torch.utils.data.DataLoader(SeqDS, batch_size=BATCH_SIZE, \n",
    "                                                   sampler=train_sampler)\n",
    "\n",
    "        val_iterator = torch.utils.data.DataLoader(SeqDS, batch_size=len(val_index), \n",
    "                                                   sampler=val_sampler)\n",
    "        test_iterator= torch.utils.data.DataLoader(SeqDS, batch_size=len(test_index), \n",
    "                                                   sampler=test_sampler)\n",
    "\n",
    "        with open('./data/%s/iterator/%s/%strain_iterator.pkl'%(folder, c, prefix), 'wb') as f:\n",
    "            pickle.dump(train_iterator, f)\n",
    "\n",
    "        with open('./data/%s/iterator/%s/%sval_iterator.pkl'%(folder, c, prefix), 'wb') as f:\n",
    "            pickle.dump(val_iterator, f)\n",
    "\n",
    "        with open('./data/%s/iterator/%s/%stest_iterator.pkl'%(folder, c, prefix), 'wb') as f:\n",
    "            pickle.dump(test_iterator, f)"
   ]
  },
  {
   "cell_type": "code",
   "execution_count": 17,
   "metadata": {},
   "outputs": [],
   "source": [
    "with open('./data/urban_data/walks/soma_centered/walk_representation_16.npy', 'rb') as f:\n",
    "    walk_representation = np.load(f)\n",
    "\n"
   ]
  },
  {
   "cell_type": "code",
   "execution_count": 19,
   "metadata": {},
   "outputs": [],
   "source": [
    "import os\n",
    "from utils.rw_utils import load_neurons\n",
    "\n",
    "neurons = load_neurons('./data/Farrow_data/neurons/soma_centered/', sort=False)\n",
    "\n",
    "root, _, files = list(os.walk('./data/Farrow_data/neurons/soma_centered/'))[0]\n",
    "sort_index = np.array(files).argsort()\n",
    "\n",
    "neurons = np.array(neurons)[sort_index]"
   ]
  },
  {
   "cell_type": "code",
   "execution_count": 21,
   "metadata": {},
   "outputs": [
    {
     "name": "stdout",
     "output_type": "stream",
     "text": [
      "[ 5.0 , 22.0 ]\n"
     ]
    }
   ],
   "source": [
    "from utils.rw_utils import get_possible_paths\n",
    "\n",
    "path_lengths = []\n",
    "for n in neurons:\n",
    "    path_lengths += [len(p) for p in get_possible_paths(n)]\n",
    "print(\"[\", np.percentile(path_lengths,5), \",\", np.percentile(path_lengths,95), \"]\")"
   ]
  },
  {
   "cell_type": "markdown",
   "metadata": {},
   "source": [
    "# Create iterator for urban data"
   ]
  },
  {
   "cell_type": "code",
   "execution_count": 19,
   "metadata": {},
   "outputs": [],
   "source": [
    "import pandas as pd\n",
    "\n",
    "folder = 'Farrow_data'\n",
    "MASKING_ELEMENT = 0\n",
    "N_train = 400\n",
    "N_val = 99\n",
    "no_label = -100\n",
    "transform = None\n",
    "\n",
    "meta_data = pd.read_csv('./data/%s/meta_data_labeled_cells.csv'%folder, index_col=0)\n",
    "\n",
    "# get true labels\n",
    "labels = meta_data['cluster'].values -1\n",
    "labels[labels < 0] = no_label\n",
    "true_labels = torch.Tensor(labels.astype(int)).to(torch.long)"
   ]
  },
  {
   "cell_type": "code",
   "execution_count": 20,
   "metadata": {},
   "outputs": [],
   "source": [
    "folder = 'urban_data'\n",
    "MASKING_ELEMENT = 0\n",
    "N_train = 184\n",
    "N_val = 37\n",
    "no_label = -100\n",
    "transform = None\n"
   ]
  },
  {
   "cell_type": "code",
   "execution_count": 21,
   "metadata": {},
   "outputs": [
    {
     "data": {
      "text/plain": [
       "'urban_data'"
      ]
     },
     "execution_count": 21,
     "metadata": {},
     "output_type": "execute_result"
    }
   ],
   "source": [
    "folder"
   ]
  },
  {
   "cell_type": "code",
   "execution_count": 22,
   "metadata": {},
   "outputs": [],
   "source": [
    "import multiprocessing\n",
    "import numpy as np\n",
    "\n",
    "from utils.rw_utils import get_rw_representation, get_walk_representation"
   ]
  },
  {
   "cell_type": "code",
   "execution_count": 23,
   "metadata": {},
   "outputs": [],
   "source": [
    "path = \"./data/urban_data/walks/soma_centered/\"\n",
    "path2 = \"./data/urban_data/neurons/soma_centered/\"\n",
    "path3 = \"./data/urban_data/iterator/soma_centered\"\n",
    "import os \n",
    "os.makedirs(path, exist_ok=True)\n",
    "os.makedirs(path2, exist_ok=True)\n",
    "os.makedirs(path3, exist_ok=True)"
   ]
  },
  {
   "cell_type": "code",
   "execution_count": 24,
   "metadata": {},
   "outputs": [
    {
     "name": "stdout",
     "output_type": "stream",
     "text": [
      "(235, 256, 16, 3)\n",
      "(235, 256, 16, 3)\n"
     ]
    }
   ],
   "source": [
    "BATCH_SIZE = 128\n",
    "for c in [('soma_centered')]:\n",
    "    \n",
    "    for transform, prefix in [(None, ''), (transform, 'scaling_')]:\n",
    "        with open('./data/%s/walks/%s/walk_representation_8.npy'%(folder, c), 'rb') as f:\n",
    "            walk_representation = np.load(f)\n",
    "\n",
    "        # create SeqDS\n",
    "        SeqDS = create_Seq2SeqDataset(walk_representation, true_labels, MASKING_ELEMENT, transform=transform)\n",
    "\n",
    "        mask = walk_representation[:,:,:,0] != np.infty*-1\n",
    "        seq_lengths = torch.Tensor(mask.sum(axis=2))\n",
    "\n",
    "        np.random.seed(17)\n",
    "        N, n_walks, walk_length, output_dim = walk_representation.shape\n",
    "\n",
    "        train_index = np.random.choice(range(N), size=N_train, replace=False)\n",
    "        val_index = np.random.choice(list(set(range(N)) - set(train_index)), size=N_val, replace=False)\n",
    "        test_index = list(set(range(N)) - set(train_index) -set(val_index))\n",
    "\n",
    "        train_sampler = SubsetRandomSampler(train_index)\n",
    "        val_sampler = SubsetRandomSampler(val_index)\n",
    "        test_sampler = SubsetRandomSampler(test_index)\n",
    "\n",
    "\n",
    "        train_iterator = torch.utils.data.DataLoader(SeqDS, batch_size=BATCH_SIZE, \n",
    "                                                   sampler=train_sampler)\n",
    "\n",
    "        val_iterator = torch.utils.data.DataLoader(SeqDS, batch_size=len(val_index), \n",
    "                                                   sampler=val_sampler)\n",
    "        test_iterator= torch.utils.data.DataLoader(SeqDS, batch_size=len(test_index), \n",
    "                                                   sampler=test_sampler)\n",
    "\n",
    "        with open('./data/%s/iterator/%s/%strain_iterator.pkl'%(folder, c, prefix), 'wb') as f:\n",
    "            pickle.dump(train_iterator, f)\n",
    "\n",
    "        with open('./data/%s/iterator/%s/%sval_iterator.pkl'%(folder, c, prefix), 'wb') as f:\n",
    "            pickle.dump(val_iterator, f)\n",
    "\n",
    "        with open('./data/%s/iterator/%s/%stest_iterator.pkl'%(folder, c, prefix), 'wb') as f:\n",
    "            pickle.dump(test_iterator, f)"
   ]
  },
  {
   "cell_type": "code",
   "execution_count": 14,
   "metadata": {},
   "outputs": [],
   "source": [
    "# sample RANDOM walks\n",
    "\n",
    "np.random.seed(17)\n",
    "\n",
    "n_walks=256\n",
    "N = len(neurons)\n",
    "NUM_CORES = 15\n",
    "\n",
    "for walk_length in [8,16,32]:\n",
    "    rw_list = []\n",
    "    with multiprocessing.Pool(NUM_CORES) as pool:\n",
    "        rw_list += pool.map(get_rw_representation, neurons)\n",
    "    RW_representation = np.array([e[0] for e in rw_list])\n",
    "    \n",
    "    with open(path+'/walk_representation_%i.npy'%walk_length, 'wb') as f:\n",
    "        #np.save(f, walk_representation)\n",
    "        np.save(f, RW_representation)"
   ]
  },
  {
   "cell_type": "code",
   "execution_count": null,
   "metadata": {},
   "outputs": [],
   "source": [
    "import os\n",
    "from utils.rw_utils import load_neurons\n",
    "\n",
    "neurons = load_neurons('./data/urban_data/neurons/soma_centered/', sort=False)\n",
    "\n",
    "root, _, files = list(os.walk('./data/urban_data/neurons/soma_centered/'))[0]\n",
    "sort_index = np.array(files).argsort()\n",
    "\n",
    "neurons = np.array(neurons)[sort_index]"
   ]
  },
  {
   "cell_type": "code",
   "execution_count": 12,
   "metadata": {},
   "outputs": [],
   "source": [
    "PATH = './data/urban_data/walks/'\n",
    "#os.makedirs(PATH, exist_ok=True)folder"
   ]
  },
  {
   "cell_type": "code",
   "execution_count": null,
   "metadata": {},
   "outputs": [],
   "source": []
  },
  {
   "cell_type": "code",
   "execution_count": null,
   "metadata": {},
   "outputs": [],
   "source": []
  }
 ],
 "metadata": {
  "kernelspec": {
   "display_name": "Py3-basic",
   "language": "python",
   "name": "python3"
  },
  "language_info": {
   "codemirror_mode": {
    "name": "ipython",
    "version": 3
   },
   "file_extension": ".py",
   "mimetype": "text/x-python",
   "name": "python",
   "nbconvert_exporter": "python",
   "pygments_lexer": "ipython3",
   "version": "3.9.4"
  }
 },
 "nbformat": 4,
 "nbformat_minor": 4
}
