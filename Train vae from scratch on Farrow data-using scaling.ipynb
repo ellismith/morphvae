{
 "cells": [
  {
   "cell_type": "code",
   "execution_count": 6,
   "metadata": {},
   "outputs": [],
   "source": [
    "import torch\n",
    "import torch.optim as optim\n",
    "import pickle \n",
    "import os\n",
    "\n",
    "import numpy as np\n",
    "import pandas as pd\n",
    "from utils.vmf_batch import vMF\n",
    "\n",
    "from models import SeqEncoder, SeqDecoder, Seq2Seq_VAE, PoolingClassifier, init_weights\n",
    "from utils.training_utils import train, evaluate\n",
    "\n",
    "## plotting ###\n",
    "\n",
    "import warnings\n",
    "warnings.filterwarnings(\"ignore\")\n",
    "\n",
    "import matplotlib.pyplot as plt\n",
    "import seaborn as sns\n",
    "\n",
    "%matplotlib inline"
   ]
  },
  {
   "cell_type": "code",
   "execution_count": 2,
   "metadata": {},
   "outputs": [],
   "source": [
    "SEED = 17\n",
    "device = torch.device('cuda' if torch.cuda.is_available() else 'cpu')"
   ]
  },
  {
   "cell_type": "code",
   "execution_count": 3,
   "metadata": {},
   "outputs": [
    {
     "data": {
      "text/plain": [
       "device(type='cuda')"
      ]
     },
     "execution_count": 3,
     "metadata": {},
     "output_type": "execute_result"
    }
   ],
   "source": [
    "device"
   ]
  },
  {
   "cell_type": "code",
   "execution_count": 4,
   "metadata": {},
   "outputs": [],
   "source": [
    "def scale(X,scale=(.1,3)):\n",
    "    a = scale[0]\n",
    "    b = scale[1]\n",
    "    s = a + (b-a)*torch.rand(1)\n",
    "    return X*s"
   ]
  },
  {
   "cell_type": "markdown",
   "metadata": {},
   "source": [
    "### load iterator"
   ]
  },
  {
   "cell_type": "code",
   "execution_count": 5,
   "metadata": {},
   "outputs": [],
   "source": [
    "path = './data/%s/iterator/%s/%s%s.pkl'\n",
    "part = 'soma_centered'\n",
    "folder = 'Farrow_data'\n",
    "prefix = 'scaling_'\n",
    "\n",
    "with open(path%(folder, part, prefix, 'train_iterator'), 'rb') as f:\n",
    "    train_iterator = pickle.load(f)\n",
    "    \n",
    "with open(path%(folder, part, prefix, 'val_iterator'), 'rb') as f:\n",
    "    val_iterator = pickle.load(f)    "
   ]
  },
  {
   "cell_type": "code",
   "execution_count": 6,
   "metadata": {},
   "outputs": [],
   "source": [
    "src_data, trg_data, seq_len, indices, labels = list(train_iterator)[0]\n",
    "bs, n_walks, walk_length, output_dim = src_data.shape\n",
    "\n",
    "N_train = len(train_iterator.sampler.indices)\n",
    "N_val = len(val_iterator.sampler.indices)"
   ]
  },
  {
   "cell_type": "markdown",
   "metadata": {},
   "source": [
    "### load model"
   ]
  },
  {
   "cell_type": "code",
   "execution_count": 7,
   "metadata": {},
   "outputs": [],
   "source": [
    "emb_dim = 32\n",
    "latent_dim = 32\n",
    "NUM_LAYERS = 2\n",
    "dpout = .1\n",
    "kap = 500\n",
    "pool = 'max'\n",
    "lr = 0.01\n",
    "MASKING_ELEMENT = train_iterator.dataset.masking_el\n",
    "\n",
    "# get number of labels, ignore -100 index\n",
    "l = list(np.unique(labels))\n",
    "if -100 in l:\n",
    "    l.remove(-100)\n",
    "NUM_CLASSES = len(l)"
   ]
  },
  {
   "cell_type": "code",
   "execution_count": 8,
   "metadata": {},
   "outputs": [
    {
     "data": {
      "text/plain": [
       "14"
      ]
     },
     "execution_count": 8,
     "metadata": {},
     "output_type": "execute_result"
    }
   ],
   "source": [
    "NUM_CLASSES"
   ]
  },
  {
   "cell_type": "code",
   "execution_count": 9,
   "metadata": {},
   "outputs": [
    {
     "name": "stdout",
     "output_type": "stream",
     "text": [
      "KLD: 45.709938049316406\n"
     ]
    }
   ],
   "source": [
    "enc = SeqEncoder(output_dim, emb_dim, emb_dim, NUM_LAYERS, dpout)\n",
    "dec = SeqDecoder(output_dim, emb_dim, emb_dim, NUM_LAYERS, dpout)\n",
    "dist = vMF(latent_dim, kappa=kap)\n",
    "model = Seq2Seq_VAE(enc, dec, dist, device).to(device)\n",
    "classifier = PoolingClassifier(latent_dim, NUM_CLASSES, n_walks,dpout,pooling=pool).to(device)"
   ]
  },
  {
   "cell_type": "code",
   "execution_count": 10,
   "metadata": {},
   "outputs": [],
   "source": [
    "def calculate_loss(x, reconstructed_x, ignore_el=MASKING_ELEMENT):\n",
    "    # reconstruction loss\n",
    "    # x = [trg len, batch size * n walks, output dim]\n",
    "\n",
    "    seq_len , bs, output_dim = x.shape\n",
    "    mask = x[:,:,0] != ignore_el\n",
    "    RCL = 0\n",
    "    for d in range(output_dim):\n",
    "        RCL += mse_loss(reconstructed_x[:,:,d][mask], x[:,:,d][mask])\n",
    "    RCL /= output_dim\n",
    "    \n",
    "    return RCL"
   ]
  },
  {
   "cell_type": "code",
   "execution_count": 11,
   "metadata": {},
   "outputs": [],
   "source": [
    "torch.cuda.empty_cache()"
   ]
  },
  {
   "cell_type": "code",
   "execution_count": 12,
   "metadata": {},
   "outputs": [],
   "source": [
    "path = \"./models/Farrow/scratch/soma_centered\"\n",
    "import os \n",
    "os.makedirs(path, exist_ok=True)"
   ]
  },
  {
   "cell_type": "code",
   "execution_count": 13,
   "metadata": {
    "scrolled": false
   },
   "outputs": [
    {
     "name": "stdout",
     "output_type": "stream",
     "text": [
      "Epoch 145, Train Loss: 30.17, Val Loss: 596.68,                   Time elapsed [s]: 18.85\n",
      "Epoch 146, Train Loss: 30.35, Val Loss: 610.89,                   Time elapsed [s]: 18.67\n",
      "Epoch 147, Train Loss: 30.83, Val Loss: 592.44,                   Time elapsed [s]: 18.74\n",
      "Epoch 148, Train Loss: 30.00, Val Loss: 590.40,                   Time elapsed [s]: 18.74\n",
      "Epoch 149, Train Loss: 29.48, Val Loss: 601.28,                   Time elapsed [s]: 18.71\n",
      "Epoch 147, Train Loss: 29.56, Val Loss: 597.78,                   Time elapsed [s]: 18.81\n",
      "Epoch 148, Train Loss: 29.97, Val Loss: 575.87,                   Time elapsed [s]: 18.77\n",
      "Epoch 149, Train Loss: 31.97, Val Loss: 579.90,                   Time elapsed [s]: 18.78\n",
      "Epoch 139, Train Loss: 27.88, Val Loss: 582.65,                   Time elapsed [s]: 18.81\n",
      "Epoch 140, Train Loss: 27.25, Val Loss: 581.87,                   Time elapsed [s]: 18.81\n",
      "Epoch 141, Train Loss: 26.59, Val Loss: 588.51,                   Time elapsed [s]: 18.83\n",
      "Epoch 142, Train Loss: 28.34, Val Loss: 584.14,                   Time elapsed [s]: 18.81\n",
      "Epoch 143, Train Loss: 27.30, Val Loss: 619.87,                   Time elapsed [s]: 18.82\n",
      "Epoch 144, Train Loss: 28.89, Val Loss: 617.64,                   Time elapsed [s]: 18.90\n",
      "Epoch 145, Train Loss: 33.66, Val Loss: 578.82,                   Time elapsed [s]: 18.73\n",
      "Epoch 146, Train Loss: 31.67, Val Loss: 595.18,                   Time elapsed [s]: 18.71\n",
      "Epoch 147, Train Loss: 26.48, Val Loss: 583.37,                   Time elapsed [s]: 18.74\n",
      "Epoch 148, Train Loss: 27.97, Val Loss: 588.01,                   Time elapsed [s]: 18.69\n",
      "Epoch 149, Train Loss: 25.83, Val Loss: 582.76,                   Time elapsed [s]: 18.78\n"
     ]
    }
   ],
   "source": [
    "\n",
    "N_EPOCHS= 150\n",
    "save_path_model= './models/Farrow/scratch/%s/vae_frac%.1f_scaled_best_run%i.pt'\n",
    "save_path_losses = './models/Farrow/scratch/%s/losses_frac%.1f_scaled_run%i.npy'\n",
    "save_path_elapsed_time = './models/Farrow/scratch/%s/elapsed_time_frac%.1f_scaled_run%i.npy'\n",
    "\n",
    "start = torch.cuda.Event(enable_timing=True)\n",
    "end = torch.cuda.Event(enable_timing=True)\n",
    "\n",
    "\n",
    "for frac in [0.]:  \n",
    "    runs = range(1,4)\n",
    "        \n",
    "    for run in runs:\n",
    "        \n",
    "        \n",
    "        if os.path.exists(save_path_model%(part,frac,run)):\n",
    "            state_dict = torch.load(save_path_model%(part,frac,run))\n",
    "        else:\n",
    "            state_dict = None\n",
    "        #optimizer\n",
    "        optimizer = optim.Adam(list(model.parameters()) + list(classifier.parameters()), lr=lr)\n",
    "        # load pre-trained model\n",
    "        if state_dict is not None:\n",
    "            model.load_state_dict(state_dict['model_state_dict'])\n",
    "            \n",
    "            optimizer.load_state_dict(state_dict['optimizer_state_dict'])\n",
    "            classifier.load_state_dict(state_dict['classifier_state_dict'])\n",
    "            losses = np.load(save_path_losses%(part, frac, run))\n",
    "            elapsed_time = np.load(save_path_elapsed_time%(part, frac, run))\n",
    "            \n",
    "            last_epoch = state_dict['epoch']\n",
    "            training = list(losses[:last_epoch,:2])\n",
    "            validation = list(losses[:last_epoch,2:])\n",
    "            \n",
    "            best_test_loss = losses[:,2].min()\n",
    "            \n",
    "        else:\n",
    "            model.apply(init_weights)\n",
    "            classifier.apply(init_weights)\n",
    "            best_test_loss = np.infty\n",
    "            \n",
    "            training = []\n",
    "            validation=[]\n",
    "            last_epoch = 0\n",
    "            elapsed_time = np.zeros((N_EPOCHS,))\n",
    "            \n",
    "        \n",
    "        cross_entropy_loss = torch.nn.CrossEntropyLoss(reduction='sum', ignore_index=-100)\n",
    "        mse_loss = torch.nn.MSELoss(reduction='sum')\n",
    "\n",
    "        \n",
    "        for e in range(last_epoch, N_EPOCHS):\n",
    "            start.record()\n",
    "            train_loss, train_class_loss = train(model, classifier, train_iterator, optimizer, \n",
    "                                               calculate_loss,cross_entropy_loss, clip=1, norm_p=None,\n",
    "                                                 class_fraction=frac)\n",
    "            val_loss, val_class_loss = evaluate(model,classifier, val_iterator,\n",
    "                                                 calculate_loss, cross_entropy_loss, norm_p=None)\n",
    "            \n",
    "            end.record()\n",
    "\n",
    "            # Waits for everything to finish running\n",
    "            torch.cuda.synchronize()\n",
    "            elapsed_time[e] = start.elapsed_time(end) # milliseconds\n",
    "\n",
    "            train_loss /= N_train\n",
    "            train_class_loss /= N_train\n",
    "            val_loss /= N_val\n",
    "            val_class_loss /=N_val\n",
    "\n",
    "            training += [[train_loss,train_class_loss]]\n",
    "            validation += [[val_loss, val_class_loss]]\n",
    "            print(f'Epoch {e}, Train Loss: {train_loss:.2f}, Val Loss: {val_loss:.2f}, \\\n",
    "                  Time elapsed [s]: {elapsed_time[e]/1000:.2f}')\n",
    "            \n",
    "            \n",
    "\n",
    "            if e % 50 == 0 and e > 0:\n",
    "                optimizer.param_groups[0]['lr'] = optimizer.param_groups[0]['lr']/2\n",
    "\n",
    "            if best_test_loss > val_loss:\n",
    "                best_test_loss = val_loss\n",
    "                torch.save({'epoch': e,\n",
    "                            'model_state_dict': model.state_dict(),\n",
    "                            'optimizer_state_dict': optimizer.state_dict(),\n",
    "                            'classifier_state_dict': classifier.state_dict()\n",
    "                               },save_path_model%(part,frac, run))\n",
    "\n",
    "                validation_ = np.array(validation)\n",
    "                training_ = np.array(training)\n",
    "                # [:,0] = training loss, [:,1] = training classification losss\n",
    "                # [:,2] validation loss, [:,3] validation classification loss\n",
    "                losses = np.hstack((training_, validation_))\n",
    "                np.save(save_path_losses%(part,frac, run),losses)\n",
    "                np.save(save_path_elapsed_time%(part,frac, run),elapsed_time)\n",
    "                \n",
    "            \n",
    "            \n",
    "        validation = np.array(validation)\n",
    "        training = np.array(training)\n",
    "        losses = np.hstack((training, validation))\n",
    "        np.save(save_path_losses%(part,frac, run), losses)\n",
    "        np.save(save_path_elapsed_time%(part,frac, run),elapsed_time)\n",
    "        \n",
    "torch.cuda.empty_cache()"
   ]
  },
  {
   "cell_type": "code",
   "execution_count": 4,
   "metadata": {},
   "outputs": [],
   "source": [
    "import torch\n",
    "z = torch.load('./models/Farrow/scratch/soma_centered/vae_frac0.0_scaled_best_run2.pt')"
   ]
  },
  {
   "cell_type": "code",
   "execution_count": 5,
   "metadata": {},
   "outputs": [
    {
     "data": {
      "text/plain": [
       "148"
      ]
     },
     "execution_count": 5,
     "metadata": {},
     "output_type": "execute_result"
    }
   ],
   "source": [
    "z['epoch']"
   ]
  },
  {
   "cell_type": "code",
   "execution_count": 14,
   "metadata": {
    "scrolled": true
   },
   "outputs": [
    {
     "data": {
      "text/plain": [
       "[<matplotlib.lines.Line2D at 0x2b003291e710>]"
      ]
     },
     "execution_count": 14,
     "metadata": {},
     "output_type": "execute_result"
    },
    {
     "data": {
      "image/png": "[encoded data removed]",
      "text/plain": [
       "<Figure size 432x288 with 1 Axes>"
      ]
     },
     "metadata": {
      "needs_background": "light"
     },
     "output_type": "display_data"
    }
   ],
   "source": [
    "plt.plot(elapsed_time/1000)"
   ]
  },
  {
   "cell_type": "code",
   "execution_count": 15,
   "metadata": {},
   "outputs": [
    {
     "name": "stdout",
     "output_type": "stream",
     "text": [
      "19.01770216145833\n",
      "0.1001709483872186\n"
     ]
    }
   ],
   "source": [
    "print(elapsed_time.mean()/1000)\n",
    "print(elapsed_time.std()/1000)\n"
   ]
  }
 ],
 "metadata": {
  "kernelspec": {
   "display_name": "Py3-basic",
   "language": "python",
   "name": "python3"
  },
  "language_info": {
   "codemirror_mode": {
    "name": "ipython",
    "version": 3
   },
   "file_extension": ".py",
   "mimetype": "text/x-python",
   "name": "python",
   "nbconvert_exporter": "python",
   "pygments_lexer": "ipython3",
   "version": "3.7.2"
  }
 },
 "nbformat": 4,
 "nbformat_minor": 4
}
