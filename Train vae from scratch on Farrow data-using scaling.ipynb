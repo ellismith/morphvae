{
 "cells": [
  {
   "cell_type": "code",
   "execution_count": 1,
   "metadata": {},
   "outputs": [],
   "source": [
    "import torch\n",
    "import torch.optim as optim\n",
    "import pickle \n",
    "import os\n",
    "\n",
    "import numpy as np\n",
    "import pandas as pd\n",
    "from utils.vmf_batch import vMF\n",
    "\n",
    "from models import SeqEncoder, SeqDecoder, Seq2Seq_VAE, PoolingClassifier, init_weights\n",
    "from utils.training_utils import train, evaluate\n",
    "\n",
    "## plotting ###\n",
    "\n",
    "import warnings\n",
    "warnings.filterwarnings(\"ignore\")\n",
    "\n",
    "import matplotlib.pyplot as plt\n",
    "import seaborn as sns\n",
    "\n",
    "%matplotlib inline"
   ]
  },
  {
   "cell_type": "code",
   "execution_count": 2,
   "metadata": {},
   "outputs": [],
   "source": [
    "SEED = 17\n",
    "device = torch.device('cuda' if torch.cuda.is_available() else 'cpu')"
   ]
  },
  {
   "cell_type": "code",
   "execution_count": 3,
   "metadata": {},
   "outputs": [],
   "source": [
    "def scale(X,scale=(.1,3)):\n",
    "    a = scale[0]\n",
    "    b = scale[1]\n",
    "    s = a + (b-a)*torch.rand(1)\n",
    "    return X*s"
   ]
  },
  {
   "cell_type": "markdown",
   "metadata": {},
   "source": [
    "### load iterator"
   ]
  },
  {
   "cell_type": "code",
   "execution_count": 12,
   "metadata": {},
   "outputs": [],
   "source": [
    "path = './data/%s/iterator/%s/%s%s.pkl'\n",
    "part = 'soma_centered'\n",
    "folder = 'Farrow_data'\n",
    "prefix = 'scaling_'\n",
    "\n",
    "with open(path%(folder, part, prefix, 'train_iterator'), 'rb') as f:\n",
    "    train_iterator = pickle.load(f)\n",
    "    \n",
    "with open(path%(folder, part, prefix, 'val_iterator'), 'rb') as f:\n",
    "    val_iterator = pickle.load(f)    "
   ]
  },
  {
   "cell_type": "code",
   "execution_count": 5,
   "metadata": {},
   "outputs": [],
   "source": [
    "src_data, trg_data, seq_len, indices, labels = list(train_iterator)[0]\n",
    "bs, n_walks, walk_length, output_dim = src_data.shape\n",
    "\n",
    "N_train = len(train_iterator.sampler.indices)\n",
    "N_val = len(val_iterator.sampler.indices)"
   ]
  },
  {
   "cell_type": "markdown",
   "metadata": {},
   "source": [
    "### load model"
   ]
  },
  {
   "cell_type": "code",
   "execution_count": 6,
   "metadata": {},
   "outputs": [],
   "source": [
    "emb_dim = 32\n",
    "latent_dim = 32\n",
    "NUM_LAYERS = 2\n",
    "dpout = .1\n",
    "kap = 500\n",
    "pool = 'max'\n",
    "lr = 0.01\n",
    "MASKING_ELEMENT = train_iterator.dataset.masking_el\n",
    "\n",
    "# get number of labels, ignore -100 index\n",
    "l = list(np.unique(labels))\n",
    "if -100 in l:\n",
    "    l.remove(-100)\n",
    "NUM_CLASSES = len(l)"
   ]
  },
  {
   "cell_type": "code",
   "execution_count": 7,
   "metadata": {},
   "outputs": [
    {
     "data": {
      "text/plain": [
       "14"
      ]
     },
     "execution_count": 7,
     "metadata": {},
     "output_type": "execute_result"
    }
   ],
   "source": [
    "NUM_CLASSES"
   ]
  },
  {
   "cell_type": "code",
   "execution_count": 8,
   "metadata": {},
   "outputs": [
    {
     "name": "stdout",
     "output_type": "stream",
     "text": [
      "KLD: 45.709938049316406\n"
     ]
    }
   ],
   "source": [
    "enc = SeqEncoder(output_dim, emb_dim, emb_dim, NUM_LAYERS, dpout)\n",
    "dec = SeqDecoder(output_dim, emb_dim, emb_dim, NUM_LAYERS, dpout)\n",
    "dist = vMF(latent_dim, kappa=kap)\n",
    "model = Seq2Seq_VAE(enc, dec, dist, device).to(device)\n",
    "classifier = PoolingClassifier(latent_dim, NUM_CLASSES, n_walks,dpout,pooling=pool).to(device)"
   ]
  },
  {
   "cell_type": "code",
   "execution_count": 9,
   "metadata": {},
   "outputs": [],
   "source": [
    "def calculate_loss(x, reconstructed_x, ignore_el=MASKING_ELEMENT):\n",
    "    # reconstruction loss\n",
    "    # x = [trg len, batch size * n walks, output dim]\n",
    "\n",
    "    seq_len , bs, output_dim = x.shape\n",
    "    mask = x[:,:,0] != ignore_el\n",
    "    RCL = 0\n",
    "    for d in range(output_dim):\n",
    "        RCL += mse_loss(reconstructed_x[:,:,d][mask], x[:,:,d][mask])\n",
    "    RCL /= output_dim\n",
    "    \n",
    "    return RCL"
   ]
  },
  {
   "cell_type": "code",
   "execution_count": 10,
   "metadata": {},
   "outputs": [],
   "source": [
    "torch.cuda.empty_cache()"
   ]
  },
  {
   "cell_type": "code",
   "execution_count": 11,
   "metadata": {
    "scrolled": false
   },
   "outputs": [
    {
     "ename": "RuntimeError",
     "evalue": "Found no NVIDIA driver on your system. Please check that you have an NVIDIA GPU and installed a driver from http://www.nvidia.com/Download/index.aspx",
     "output_type": "error",
     "traceback": [
      "\u001b[0;31m---------------------------------------------------------------------------\u001b[0m",
      "\u001b[0;31mRuntimeError\u001b[0m                              Traceback (most recent call last)",
      "\u001b[1;32m/home/ellismith/morphvae/Train vae from scratch on Farrow data-using scaling.ipynb Cell 13'\u001b[0m in \u001b[0;36m<cell line: 10>\u001b[0;34m()\u001b[0m\n\u001b[1;32m     <a href='vscode-notebook-cell://ssh-remote%2Bspike/home/ellismith/morphvae/Train%20vae%20from%20scratch%20on%20Farrow%20data-using%20scaling.ipynb#ch0000012vscode-remote?line=48'>49</a>\u001b[0m mse_loss \u001b[39m=\u001b[39m torch\u001b[39m.\u001b[39mnn\u001b[39m.\u001b[39mMSELoss(reduction\u001b[39m=\u001b[39m\u001b[39m'\u001b[39m\u001b[39msum\u001b[39m\u001b[39m'\u001b[39m)\n\u001b[1;32m     <a href='vscode-notebook-cell://ssh-remote%2Bspike/home/ellismith/morphvae/Train%20vae%20from%20scratch%20on%20Farrow%20data-using%20scaling.ipynb#ch0000012vscode-remote?line=51'>52</a>\u001b[0m \u001b[39mfor\u001b[39;00m e \u001b[39min\u001b[39;00m \u001b[39mrange\u001b[39m(last_epoch, N_EPOCHS):\n\u001b[0;32m---> <a href='vscode-notebook-cell://ssh-remote%2Bspike/home/ellismith/morphvae/Train%20vae%20from%20scratch%20on%20Farrow%20data-using%20scaling.ipynb#ch0000012vscode-remote?line=52'>53</a>\u001b[0m     start\u001b[39m.\u001b[39;49mrecord()\n\u001b[1;32m     <a href='vscode-notebook-cell://ssh-remote%2Bspike/home/ellismith/morphvae/Train%20vae%20from%20scratch%20on%20Farrow%20data-using%20scaling.ipynb#ch0000012vscode-remote?line=53'>54</a>\u001b[0m     train_loss, train_class_loss \u001b[39m=\u001b[39m train(model, classifier, train_iterator, optimizer, \n\u001b[1;32m     <a href='vscode-notebook-cell://ssh-remote%2Bspike/home/ellismith/morphvae/Train%20vae%20from%20scratch%20on%20Farrow%20data-using%20scaling.ipynb#ch0000012vscode-remote?line=54'>55</a>\u001b[0m                                        calculate_loss,cross_entropy_loss, clip\u001b[39m=\u001b[39m\u001b[39m1\u001b[39m, norm_p\u001b[39m=\u001b[39m\u001b[39mNone\u001b[39;00m,\n\u001b[1;32m     <a href='vscode-notebook-cell://ssh-remote%2Bspike/home/ellismith/morphvae/Train%20vae%20from%20scratch%20on%20Farrow%20data-using%20scaling.ipynb#ch0000012vscode-remote?line=55'>56</a>\u001b[0m                                          class_fraction\u001b[39m=\u001b[39mfrac)\n\u001b[1;32m     <a href='vscode-notebook-cell://ssh-remote%2Bspike/home/ellismith/morphvae/Train%20vae%20from%20scratch%20on%20Farrow%20data-using%20scaling.ipynb#ch0000012vscode-remote?line=56'>57</a>\u001b[0m     val_loss, val_class_loss \u001b[39m=\u001b[39m evaluate(model,classifier, val_iterator,\n\u001b[1;32m     <a href='vscode-notebook-cell://ssh-remote%2Bspike/home/ellismith/morphvae/Train%20vae%20from%20scratch%20on%20Farrow%20data-using%20scaling.ipynb#ch0000012vscode-remote?line=57'>58</a>\u001b[0m                                          calculate_loss, cross_entropy_loss, norm_p\u001b[39m=\u001b[39m\u001b[39mNone\u001b[39;00m)\n",
      "File \u001b[0;32m/opt/mambaforge/lib/python3.9/site-packages/torch/cuda/streams.py:153\u001b[0m, in \u001b[0;36mEvent.record\u001b[0;34m(self, stream)\u001b[0m\n\u001b[1;32m    <a href='file:///opt/mambaforge/lib/python3.9/site-packages/torch/cuda/streams.py?line=147'>148</a>\u001b[0m \u001b[39mr\u001b[39m\u001b[39m\"\"\"Records the event in a given stream.\u001b[39;00m\n\u001b[1;32m    <a href='file:///opt/mambaforge/lib/python3.9/site-packages/torch/cuda/streams.py?line=148'>149</a>\u001b[0m \n\u001b[1;32m    <a href='file:///opt/mambaforge/lib/python3.9/site-packages/torch/cuda/streams.py?line=149'>150</a>\u001b[0m \u001b[39mUses ``torch.cuda.current_stream()`` if no stream is specified. The\u001b[39;00m\n\u001b[1;32m    <a href='file:///opt/mambaforge/lib/python3.9/site-packages/torch/cuda/streams.py?line=150'>151</a>\u001b[0m \u001b[39mstream's device must match the event's device.\"\"\"\u001b[39;00m\n\u001b[1;32m    <a href='file:///opt/mambaforge/lib/python3.9/site-packages/torch/cuda/streams.py?line=151'>152</a>\u001b[0m \u001b[39mif\u001b[39;00m stream \u001b[39mis\u001b[39;00m \u001b[39mNone\u001b[39;00m:\n\u001b[0;32m--> <a href='file:///opt/mambaforge/lib/python3.9/site-packages/torch/cuda/streams.py?line=152'>153</a>\u001b[0m     stream \u001b[39m=\u001b[39m torch\u001b[39m.\u001b[39;49mcuda\u001b[39m.\u001b[39;49mcurrent_stream()\n\u001b[1;32m    <a href='file:///opt/mambaforge/lib/python3.9/site-packages/torch/cuda/streams.py?line=153'>154</a>\u001b[0m \u001b[39msuper\u001b[39m(Event, \u001b[39mself\u001b[39m)\u001b[39m.\u001b[39mrecord(stream)\n",
      "File \u001b[0;32m/opt/mambaforge/lib/python3.9/site-packages/torch/cuda/__init__.py:427\u001b[0m, in \u001b[0;36mcurrent_stream\u001b[0;34m(device)\u001b[0m\n\u001b[1;32m    <a href='file:///opt/mambaforge/lib/python3.9/site-packages/torch/cuda/__init__.py?line=417'>418</a>\u001b[0m \u001b[39mdef\u001b[39;00m \u001b[39mcurrent_stream\u001b[39m(device: Optional[_device_t] \u001b[39m=\u001b[39m \u001b[39mNone\u001b[39;00m) \u001b[39m-\u001b[39m\u001b[39m>\u001b[39m Stream:\n\u001b[1;32m    <a href='file:///opt/mambaforge/lib/python3.9/site-packages/torch/cuda/__init__.py?line=418'>419</a>\u001b[0m     \u001b[39mr\u001b[39m\u001b[39m\"\"\"Returns the currently selected :class:`Stream` for a given device.\u001b[39;00m\n\u001b[1;32m    <a href='file:///opt/mambaforge/lib/python3.9/site-packages/torch/cuda/__init__.py?line=419'>420</a>\u001b[0m \n\u001b[1;32m    <a href='file:///opt/mambaforge/lib/python3.9/site-packages/torch/cuda/__init__.py?line=420'>421</a>\u001b[0m \u001b[39m    Args:\u001b[39;00m\n\u001b[0;32m   (...)\u001b[0m\n\u001b[1;32m    <a href='file:///opt/mambaforge/lib/python3.9/site-packages/torch/cuda/__init__.py?line=424'>425</a>\u001b[0m \u001b[39m            (default).\u001b[39;00m\n\u001b[1;32m    <a href='file:///opt/mambaforge/lib/python3.9/site-packages/torch/cuda/__init__.py?line=425'>426</a>\u001b[0m \u001b[39m    \"\"\"\u001b[39;00m\n\u001b[0;32m--> <a href='file:///opt/mambaforge/lib/python3.9/site-packages/torch/cuda/__init__.py?line=426'>427</a>\u001b[0m     _lazy_init()\n\u001b[1;32m    <a href='file:///opt/mambaforge/lib/python3.9/site-packages/torch/cuda/__init__.py?line=427'>428</a>\u001b[0m     \u001b[39mreturn\u001b[39;00m Stream(_cdata\u001b[39m=\u001b[39mtorch\u001b[39m.\u001b[39m_C\u001b[39m.\u001b[39m_cuda_getCurrentStream(\n\u001b[1;32m    <a href='file:///opt/mambaforge/lib/python3.9/site-packages/torch/cuda/__init__.py?line=428'>429</a>\u001b[0m         _get_device_index(device, optional\u001b[39m=\u001b[39m\u001b[39mTrue\u001b[39;00m)))\n",
      "File \u001b[0;32m/opt/mambaforge/lib/python3.9/site-packages/torch/cuda/__init__.py:170\u001b[0m, in \u001b[0;36m_lazy_init\u001b[0;34m()\u001b[0m\n\u001b[1;32m    <a href='file:///opt/mambaforge/lib/python3.9/site-packages/torch/cuda/__init__.py?line=165'>166</a>\u001b[0m     \u001b[39mraise\u001b[39;00m \u001b[39mAssertionError\u001b[39;00m(\n\u001b[1;32m    <a href='file:///opt/mambaforge/lib/python3.9/site-packages/torch/cuda/__init__.py?line=166'>167</a>\u001b[0m         \u001b[39m\"\u001b[39m\u001b[39mlibcudart functions unavailable. It looks like you have a broken build?\u001b[39m\u001b[39m\"\u001b[39m)\n\u001b[1;32m    <a href='file:///opt/mambaforge/lib/python3.9/site-packages/torch/cuda/__init__.py?line=167'>168</a>\u001b[0m \u001b[39m# This function throws if there's a driver initialization error, no GPUs\u001b[39;00m\n\u001b[1;32m    <a href='file:///opt/mambaforge/lib/python3.9/site-packages/torch/cuda/__init__.py?line=168'>169</a>\u001b[0m \u001b[39m# are found or any other error occurs\u001b[39;00m\n\u001b[0;32m--> <a href='file:///opt/mambaforge/lib/python3.9/site-packages/torch/cuda/__init__.py?line=169'>170</a>\u001b[0m torch\u001b[39m.\u001b[39;49m_C\u001b[39m.\u001b[39;49m_cuda_init()\n\u001b[1;32m    <a href='file:///opt/mambaforge/lib/python3.9/site-packages/torch/cuda/__init__.py?line=170'>171</a>\u001b[0m \u001b[39m# Some of the queued calls may reentrantly call _lazy_init();\u001b[39;00m\n\u001b[1;32m    <a href='file:///opt/mambaforge/lib/python3.9/site-packages/torch/cuda/__init__.py?line=171'>172</a>\u001b[0m \u001b[39m# we need to just return without initializing in that case.\u001b[39;00m\n\u001b[1;32m    <a href='file:///opt/mambaforge/lib/python3.9/site-packages/torch/cuda/__init__.py?line=172'>173</a>\u001b[0m \u001b[39m# However, we must not let any *other* threads in!\u001b[39;00m\n\u001b[1;32m    <a href='file:///opt/mambaforge/lib/python3.9/site-packages/torch/cuda/__init__.py?line=173'>174</a>\u001b[0m _tls\u001b[39m.\u001b[39mis_initializing \u001b[39m=\u001b[39m \u001b[39mTrue\u001b[39;00m\n",
      "\u001b[0;31mRuntimeError\u001b[0m: Found no NVIDIA driver on your system. Please check that you have an NVIDIA GPU and installed a driver from http://www.nvidia.com/Download/index.aspx"
     ]
    }
   ],
   "source": [
    "\n",
    "N_EPOCHS= 150\n",
    "save_path_model= './models/Farrow/scratch/%s/vae_frac%.1f_scaled_best_run%i.pt'\n",
    "save_path_losses = './models/Farrow/scratch/%s/losses_frac%.1f_scaled_run%i.npy'\n",
    "save_path_elapsed_time = './models/Farrow/scratch/%s/elapsed_time_frac%.1f_scaled_run%i.npy'\n",
    "\n",
    "start = torch.cuda.Event(enable_timing=True)\n",
    "end = torch.cuda.Event(enable_timing=True)\n",
    "\n",
    "\n",
    "for frac in [0.]:  \n",
    "    runs = range(1,4)\n",
    "        \n",
    "    for run in runs:\n",
    "        \n",
    "        \n",
    "        if os.path.exists(save_path_model%(part,frac,run)):\n",
    "            state_dict = torch.load(save_path_model%(part,frac,run))\n",
    "        else:\n",
    "            state_dict = None\n",
    "        #optimizer\n",
    "        optimizer = optim.Adam(list(model.parameters()) + list(classifier.parameters()), lr=lr)\n",
    "        # load pre-trained model\n",
    "        if state_dict is not None:\n",
    "            model.load_state_dict(state_dict['model_state_dict'])\n",
    "            \n",
    "            optimizer.load_state_dict(state_dict['optimizer_state_dict'])\n",
    "            classifier.load_state_dict(state_dict['classifier_state_dict'])\n",
    "            losses = np.load(save_path_losses%(part, frac, run))\n",
    "            elapsed_time = np.load(save_path_elapsed_time%(part, frac, run))\n",
    "            \n",
    "            last_epoch = state_dict['epoch']\n",
    "            training = list(losses[:last_epoch,:2])\n",
    "            validation = list(losses[:last_epoch,2:])\n",
    "            \n",
    "            best_test_loss = losses[:,2].min()\n",
    "            \n",
    "        else:\n",
    "            model.apply(init_weights)\n",
    "            classifier.apply(init_weights)\n",
    "            best_test_loss = np.infty\n",
    "            \n",
    "            training = []\n",
    "            validation=[]\n",
    "            last_epoch = 0\n",
    "            elapsed_time = np.zeros((N_EPOCHS,))\n",
    "            \n",
    "        \n",
    "        cross_entropy_loss = torch.nn.CrossEntropyLoss(reduction='sum', ignore_index=-100)\n",
    "        mse_loss = torch.nn.MSELoss(reduction='sum')\n",
    "\n",
    "        \n",
    "        for e in range(last_epoch, N_EPOCHS):\n",
    "            start.record()\n",
    "            train_loss, train_class_loss = train(model, classifier, train_iterator, optimizer, \n",
    "                                               calculate_loss,cross_entropy_loss, clip=1, norm_p=None,\n",
    "                                                 class_fraction=frac)\n",
    "            val_loss, val_class_loss = evaluate(model,classifier, val_iterator,\n",
    "                                                 calculate_loss, cross_entropy_loss, norm_p=None)\n",
    "            \n",
    "            end.record()\n",
    "\n",
    "            # Waits for everything to finish running\n",
    "            torch.cuda.synchronize()\n",
    "            elapsed_time[e] = start.elapsed_time(end) # milliseconds\n",
    "\n",
    "            train_loss /= N_train\n",
    "            train_class_loss /= N_train\n",
    "            val_loss /= N_val\n",
    "            val_class_loss /=N_val\n",
    "\n",
    "            training += [[train_loss,train_class_loss]]\n",
    "            validation += [[val_loss, val_class_loss]]\n",
    "            print(f'Epoch {e}, Train Loss: {train_loss:.2f}, Val Loss: {val_loss:.2f}, \\\n",
    "                  Time elapsed [s]: {elapsed_time[e]/1000:.2f}')\n",
    "            \n",
    "            \n",
    "\n",
    "            if e % 50 == 0 and e > 0:\n",
    "                optimizer.param_groups[0]['lr'] = optimizer.param_groups[0]['lr']/2\n",
    "\n",
    "            if best_test_loss > val_loss:\n",
    "                best_test_loss = val_loss\n",
    "                torch.save({'epoch': e,\n",
    "                            'model_state_dict': model.state_dict(),\n",
    "                            'optimizer_state_dict': optimizer.state_dict(),\n",
    "                            'classifier_state_dict': classifier.state_dict()\n",
    "                               },save_path_model%(part,frac, run))\n",
    "\n",
    "                validation_ = np.array(validation)\n",
    "                training_ = np.array(training)\n",
    "                # [:,0] = training loss, [:,1] = training classification losss\n",
    "                # [:,2] validation loss, [:,3] validation classification loss\n",
    "                losses = np.hstack((training_, validation_))\n",
    "                np.save(save_path_losses%(part,frac, run),losses)\n",
    "                np.save(save_path_elapsed_time%(part,frac, run),elapsed_time)\n",
    "                \n",
    "            \n",
    "            \n",
    "        validation = np.array(validation)\n",
    "        training = np.array(training)\n",
    "        losses = np.hstack((training, validation))\n",
    "        np.save(save_path_losses%(part,frac, run), losses)\n",
    "        np.save(save_path_elapsed_time%(part,frac, run),elapsed_time)\n",
    "        \n",
    "torch.cuda.empty_cache()"
   ]
  },
  {
   "cell_type": "code",
   "execution_count": null,
   "metadata": {
    "scrolled": true
   },
   "outputs": [
    {
     "data": {
      "text/plain": [
       "[<matplotlib.lines.Line2D at 0x7fa1c8eb1410>]"
      ]
     },
     "execution_count": 16,
     "metadata": {},
     "output_type": "execute_result"
    },
    {
     "data": {
      "image/png": "[encoded data removed]",
      "text/plain": [
       "<Figure size 432x288 with 1 Axes>"
      ]
     },
     "metadata": {
      "needs_background": "light"
     },
     "output_type": "display_data"
    }
   ],
   "source": [
    "plt.plot(elapsed_time/1000)"
   ]
  },
  {
   "cell_type": "code",
   "execution_count": null,
   "metadata": {},
   "outputs": [
    {
     "name": "stdout",
     "output_type": "stream",
     "text": [
      "28.025633125\n",
      "1.1423353606102364\n"
     ]
    }
   ],
   "source": [
    "print(elapsed_time.mean()/1000)\n",
    "print(elapsed_time.std()/1000)\n"
   ]
  }
 ],
 "metadata": {
  "kernelspec": {
   "display_name": "Python 3",
   "language": "python",
   "name": "python3"
  },
  "language_info": {
   "codemirror_mode": {
    "name": "ipython",
    "version": 3
   },
   "file_extension": ".py",
   "mimetype": "text/x-python",
   "name": "python",
   "nbconvert_exporter": "python",
   "pygments_lexer": "ipython3",
   "version": "3.9.4"
  }
 },
 "nbformat": 4,
 "nbformat_minor": 4
}
