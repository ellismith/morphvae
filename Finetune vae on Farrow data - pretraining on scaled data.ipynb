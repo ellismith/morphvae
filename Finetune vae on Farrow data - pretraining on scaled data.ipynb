{
 "cells": [
  {
   "cell_type": "code",
   "execution_count": 1,
   "metadata": {},
   "outputs": [],
   "source": [
    "import torch\n",
    "import torch.optim as optim\n",
    "\n",
    "import numpy as np\n",
    "import pandas as pd\n",
    "import pickle\n",
    "import os\n",
    "from utils.vmf_batch import vMF\n",
    "\n",
    "from models import SeqEncoder, SeqDecoder, Seq2Seq_VAE, PoolingClassifier, init_weights\n",
    "from utils.training_utils import train, evaluate\n",
    "\n",
    "## plotting ###\n",
    "\n",
    "import warnings\n",
    "warnings.filterwarnings(\"ignore\")\n",
    "\n",
    "import matplotlib.pyplot as plt\n",
    "import seaborn as sns\n",
    "\n",
    "%matplotlib inline"
   ]
  },
  {
   "cell_type": "code",
   "execution_count": 2,
   "metadata": {},
   "outputs": [],
   "source": [
    "SEED = 17\n",
    "device = torch.device('cuda' if torch.cuda.is_available() else 'cpu')"
   ]
  },
  {
   "cell_type": "code",
   "execution_count": 3,
   "metadata": {},
   "outputs": [],
   "source": [
    "with open('./data/Farrow_data/iterator/soma_centered/train_iterator.pkl', 'rb') as f:\n",
    "    train_iterator = pickle.load(f)\n",
    "\n",
    "with open('./data/Farrow_data/iterator/soma_centered/val_iterator.pkl', 'rb') as f:\n",
    "    val_iterator = pickle.load(f)\n",
    "   "
   ]
  },
  {
   "cell_type": "code",
   "execution_count": 4,
   "metadata": {},
   "outputs": [],
   "source": [
    "src_data, trg_data, seq_len, indices, labels = list(train_iterator)[0]\n",
    "bs, n_walks, walk_length, output_dim = src_data.shape\n",
    "\n",
    "N_train = len(train_iterator.sampler.indices)\n",
    "N_val = len(val_iterator.sampler.indices)\n",
    "\n",
    " \n",
    "MASKING_ELEMENT = train_iterator.dataset.masking_el\n",
    "\n",
    "# get number of labels, ignore -100 index\n",
    "l = list(np.unique(labels))\n",
    "if -100 in l:\n",
    "    l.remove(-100)\n",
    "NUM_CLASSES = len(l)"
   ]
  },
  {
   "cell_type": "code",
   "execution_count": 5,
   "metadata": {},
   "outputs": [
    {
     "data": {
      "text/plain": [
       "array([-100,    0,    1,    2,    3,    4,    5,    6,    7,    8,    9,\n",
       "         10,   11,   12,   13])"
      ]
     },
     "execution_count": 5,
     "metadata": {},
     "output_type": "execute_result"
    }
   ],
   "source": [
    "np.unique(train_iterator.dataset.labels[train_iterator.sampler.indices])"
   ]
  },
  {
   "cell_type": "markdown",
   "metadata": {},
   "source": [
    "### load model"
   ]
  },
  {
   "cell_type": "code",
   "execution_count": 6,
   "metadata": {},
   "outputs": [
    {
     "name": "stdout",
     "output_type": "stream",
     "text": [
      "KLD: 45.709938049316406\n"
     ]
    }
   ],
   "source": [
    "emb_dim = 32\n",
    "latent_dim = 32\n",
    "NUM_LAYERS = 2\n",
    "dpout = .1\n",
    "kap = 500\n",
    "pool = 'max'\n",
    "lr = 0.01\n",
    "\n",
    "enc = SeqEncoder(output_dim, emb_dim, emb_dim, NUM_LAYERS, dpout)\n",
    "dec = SeqDecoder(output_dim, emb_dim, emb_dim, NUM_LAYERS, dpout)\n",
    "dist = vMF(latent_dim, kappa=kap)\n",
    "model = Seq2Seq_VAE(enc, dec, dist, device).to(device)\n",
    "classifier = PoolingClassifier(latent_dim, NUM_CLASSES, n_walks,dpout,pooling=pool).to(device)"
   ]
  },
  {
   "cell_type": "code",
   "execution_count": 7,
   "metadata": {},
   "outputs": [],
   "source": [
    "def calculate_loss(x, reconstructed_x, ignore_el=MASKING_ELEMENT):\n",
    "    # reconstruction loss\n",
    "    # x = [trg len, batch size * n walks, output dim]\n",
    "\n",
    "    seq_len , bs, output_dim = x.shape\n",
    "    mask = x[:,:,0] != ignore_el\n",
    "    RCL = 0\n",
    "    for d in range(output_dim):\n",
    "        RCL += mse_loss(reconstructed_x[:,:,d][mask], x[:,:,d][mask])\n",
    "    RCL /= output_dim\n",
    "    \n",
    "    return RCL"
   ]
  },
  {
   "cell_type": "code",
   "execution_count": 8,
   "metadata": {},
   "outputs": [],
   "source": [
    "torch.cuda.empty_cache()"
   ]
  },
  {
   "cell_type": "code",
   "execution_count": 9,
   "metadata": {},
   "outputs": [],
   "source": [
    "path = \"./models/Farrow/finetuned/soma_centered\"\n",
    "import os \n",
    "os.makedirs(path, exist_ok=True)"
   ]
  },
  {
   "cell_type": "code",
   "execution_count": 10,
   "metadata": {
    "scrolled": true
   },
   "outputs": [
    {
     "name": "stdout",
     "output_type": "stream",
     "text": [
      "Epoch 0, Train Loss: 92.22, Val Loss: 453.24, Time elapsed [s]: 19.29\n",
      "Epoch 1, Train Loss: 84.54, Val Loss: 531.93, Time elapsed [s]: 19.15\n",
      "Epoch 2, Train Loss: 89.66, Val Loss: 524.30, Time elapsed [s]: 19.16\n",
      "Epoch 3, Train Loss: 88.45, Val Loss: 581.54, Time elapsed [s]: 19.13\n",
      "Epoch 4, Train Loss: 88.01, Val Loss: 497.69, Time elapsed [s]: 19.10\n",
      "Epoch 5, Train Loss: 88.95, Val Loss: 496.79, Time elapsed [s]: 19.13\n",
      "Epoch 6, Train Loss: 90.17, Val Loss: 454.09, Time elapsed [s]: 19.18\n",
      "Epoch 7, Train Loss: 93.00, Val Loss: 483.01, Time elapsed [s]: 19.07\n",
      "Epoch 8, Train Loss: 92.92, Val Loss: 472.11, Time elapsed [s]: 19.15\n",
      "Epoch 9, Train Loss: 90.21, Val Loss: 511.62, Time elapsed [s]: 19.11\n",
      "Epoch 10, Train Loss: 89.76, Val Loss: 513.01, Time elapsed [s]: 19.03\n",
      "Epoch 11, Train Loss: 90.33, Val Loss: 453.10, Time elapsed [s]: 19.15\n",
      "Epoch 12, Train Loss: 86.80, Val Loss: 484.51, Time elapsed [s]: 19.16\n",
      "Epoch 13, Train Loss: 81.86, Val Loss: 479.22, Time elapsed [s]: 19.20\n",
      "Epoch 14, Train Loss: 85.09, Val Loss: 488.64, Time elapsed [s]: 19.03\n",
      "Epoch 15, Train Loss: 87.97, Val Loss: 477.38, Time elapsed [s]: 19.09\n",
      "Epoch 16, Train Loss: 91.91, Val Loss: 514.16, Time elapsed [s]: 19.08\n",
      "Epoch 17, Train Loss: 89.87, Val Loss: 467.95, Time elapsed [s]: 18.97\n",
      "Epoch 18, Train Loss: 96.54, Val Loss: 502.50, Time elapsed [s]: 19.08\n",
      "Epoch 19, Train Loss: 94.11, Val Loss: 574.46, Time elapsed [s]: 19.08\n",
      "Epoch 20, Train Loss: 93.04, Val Loss: 587.65, Time elapsed [s]: 19.05\n",
      "Epoch 21, Train Loss: 93.70, Val Loss: 517.29, Time elapsed [s]: 19.23\n",
      "Epoch 22, Train Loss: 97.25, Val Loss: 520.55, Time elapsed [s]: 19.04\n",
      "Epoch 23, Train Loss: 91.34, Val Loss: 564.39, Time elapsed [s]: 19.09\n",
      "Epoch 24, Train Loss: 97.62, Val Loss: 568.08, Time elapsed [s]: 19.06\n",
      "Epoch 25, Train Loss: 110.25, Val Loss: 639.50, Time elapsed [s]: 18.98\n",
      "Epoch 26, Train Loss: 105.24, Val Loss: 541.84, Time elapsed [s]: 19.07\n",
      "Epoch 27, Train Loss: 96.41, Val Loss: 464.96, Time elapsed [s]: 19.13\n",
      "Epoch 28, Train Loss: 92.64, Val Loss: 448.42, Time elapsed [s]: 19.13\n",
      "Epoch 29, Train Loss: 78.48, Val Loss: 420.46, Time elapsed [s]: 19.04\n",
      "Epoch 30, Train Loss: 76.27, Val Loss: 460.38, Time elapsed [s]: 19.00\n",
      "Epoch 31, Train Loss: 77.76, Val Loss: 468.17, Time elapsed [s]: 19.14\n",
      "Epoch 32, Train Loss: 79.03, Val Loss: 474.66, Time elapsed [s]: 19.07\n",
      "Epoch 33, Train Loss: 81.01, Val Loss: 537.57, Time elapsed [s]: 19.09\n",
      "Epoch 34, Train Loss: 80.00, Val Loss: 539.57, Time elapsed [s]: 19.16\n",
      "Epoch 35, Train Loss: 90.32, Val Loss: 454.94, Time elapsed [s]: 19.09\n",
      "Epoch 36, Train Loss: 89.44, Val Loss: 551.43, Time elapsed [s]: 19.05\n",
      "Epoch 37, Train Loss: 95.10, Val Loss: 472.80, Time elapsed [s]: 19.12\n",
      "Epoch 38, Train Loss: 82.66, Val Loss: 515.72, Time elapsed [s]: 19.06\n",
      "Epoch 39, Train Loss: 89.92, Val Loss: 457.35, Time elapsed [s]: 19.09\n",
      "Epoch 40, Train Loss: 80.99, Val Loss: 462.10, Time elapsed [s]: 19.04\n",
      "Epoch 41, Train Loss: 77.79, Val Loss: 530.47, Time elapsed [s]: 19.03\n",
      "Epoch 42, Train Loss: 71.66, Val Loss: 431.14, Time elapsed [s]: 19.06\n",
      "Epoch 43, Train Loss: 67.40, Val Loss: 453.28, Time elapsed [s]: 19.14\n",
      "Epoch 44, Train Loss: 71.16, Val Loss: 438.15, Time elapsed [s]: 19.07\n",
      "Epoch 45, Train Loss: 71.99, Val Loss: 438.64, Time elapsed [s]: 19.05\n",
      "Epoch 46, Train Loss: 76.30, Val Loss: 442.39, Time elapsed [s]: 19.06\n",
      "Epoch 47, Train Loss: 72.15, Val Loss: 502.98, Time elapsed [s]: 19.16\n",
      "Epoch 48, Train Loss: 73.27, Val Loss: 459.39, Time elapsed [s]: 19.12\n",
      "Epoch 49, Train Loss: 74.46, Val Loss: 408.32, Time elapsed [s]: 19.13\n",
      "Epoch 0, Train Loss: 229.87, Val Loss: 1338.15, Time elapsed [s]: 19.11\n",
      "Epoch 1, Train Loss: 226.26, Val Loss: 1388.58, Time elapsed [s]: 19.11\n",
      "Epoch 2, Train Loss: 216.51, Val Loss: 1239.44, Time elapsed [s]: 19.10\n",
      "Epoch 3, Train Loss: 200.96, Val Loss: 996.00, Time elapsed [s]: 19.14\n",
      "Epoch 4, Train Loss: 201.85, Val Loss: 895.02, Time elapsed [s]: 19.01\n",
      "Epoch 5, Train Loss: 188.01, Val Loss: 1046.46, Time elapsed [s]: 19.07\n",
      "Epoch 6, Train Loss: 187.25, Val Loss: 1055.78, Time elapsed [s]: 19.08\n",
      "Epoch 7, Train Loss: 176.89, Val Loss: 1147.69, Time elapsed [s]: 19.04\n",
      "Epoch 8, Train Loss: 178.89, Val Loss: 1140.88, Time elapsed [s]: 19.16\n",
      "Epoch 9, Train Loss: 171.50, Val Loss: 1000.54, Time elapsed [s]: 19.11\n",
      "Epoch 10, Train Loss: 184.17, Val Loss: 778.64, Time elapsed [s]: 19.08\n",
      "Epoch 11, Train Loss: 172.38, Val Loss: 809.05, Time elapsed [s]: 19.10\n",
      "Epoch 12, Train Loss: 165.33, Val Loss: 770.66, Time elapsed [s]: 19.06\n",
      "Epoch 13, Train Loss: 162.06, Val Loss: 792.05, Time elapsed [s]: 19.02\n",
      "Epoch 14, Train Loss: 157.16, Val Loss: 888.42, Time elapsed [s]: 19.01\n",
      "Epoch 15, Train Loss: 159.48, Val Loss: 1101.45, Time elapsed [s]: 19.07\n",
      "Epoch 16, Train Loss: 157.17, Val Loss: 1137.16, Time elapsed [s]: 19.02\n",
      "Epoch 17, Train Loss: 162.53, Val Loss: 933.95, Time elapsed [s]: 19.02\n",
      "Epoch 18, Train Loss: 163.54, Val Loss: 733.41, Time elapsed [s]: 19.09\n",
      "Epoch 19, Train Loss: 156.92, Val Loss: 762.96, Time elapsed [s]: 19.03\n",
      "Epoch 20, Train Loss: 146.70, Val Loss: 753.02, Time elapsed [s]: 19.01\n",
      "Epoch 21, Train Loss: 145.19, Val Loss: 803.44, Time elapsed [s]: 19.02\n",
      "Epoch 22, Train Loss: 146.19, Val Loss: 716.21, Time elapsed [s]: 19.06\n",
      "Epoch 23, Train Loss: 137.57, Val Loss: 705.82, Time elapsed [s]: 19.04\n",
      "Epoch 24, Train Loss: 137.64, Val Loss: 705.43, Time elapsed [s]: 19.01\n",
      "Epoch 25, Train Loss: 138.45, Val Loss: 639.48, Time elapsed [s]: 18.94\n",
      "Epoch 26, Train Loss: 132.38, Val Loss: 583.32, Time elapsed [s]: 18.99\n",
      "Epoch 27, Train Loss: 136.66, Val Loss: 602.11, Time elapsed [s]: 19.01\n",
      "Epoch 28, Train Loss: 134.66, Val Loss: 588.22, Time elapsed [s]: 19.06\n",
      "Epoch 29, Train Loss: 130.78, Val Loss: 627.08, Time elapsed [s]: 19.04\n"
     ]
    },
    {
     "ename": "KeyboardInterrupt",
     "evalue": "",
     "output_type": "error",
     "traceback": [
      "\u001b[0;31m---------------------------------------------------------------------------\u001b[0m",
      "\u001b[0;31mKeyboardInterrupt\u001b[0m                         Traceback (most recent call last)",
      "\u001b[0;32m<ipython-input-10-9cdb9383f91f>\u001b[0m in \u001b[0;36m<module>\u001b[0;34m()\u001b[0m\n\u001b[1;32m     64\u001b[0m             train_loss, train_class_loss = train(model, classifier, train_iterator, optimizer, \n\u001b[1;32m     65\u001b[0m                                                \u001b[0mcalculate_loss\u001b[0m\u001b[0;34m,\u001b[0m\u001b[0mcross_entropy_loss\u001b[0m\u001b[0;34m,\u001b[0m \u001b[0mclip\u001b[0m\u001b[0;34m=\u001b[0m\u001b[0;36m1\u001b[0m\u001b[0;34m,\u001b[0m \u001b[0mnorm_p\u001b[0m\u001b[0;34m=\u001b[0m\u001b[0;32mNone\u001b[0m\u001b[0;34m,\u001b[0m\u001b[0;34m\u001b[0m\u001b[0;34m\u001b[0m\u001b[0m\n\u001b[0;32m---> 66\u001b[0;31m                                                  class_fraction=frac)\n\u001b[0m\u001b[1;32m     67\u001b[0m             val_loss, val_class_loss = evaluate(model,classifier, val_iterator,\n\u001b[1;32m     68\u001b[0m                                                  calculate_loss, cross_entropy_loss, norm_p=None)\n",
      "\u001b[0;32m~/morphvae/utils/training_utils.py\u001b[0m in \u001b[0;36mtrain\u001b[0;34m(model, classifier, iterator, optimizer, model_criterion, classifier_criterion, clip, norm_p, class_fraction, ignore_index)\u001b[0m\n\u001b[1;32m    104\u001b[0m             \u001b[0mnorm_loss\u001b[0m \u001b[0;34m=\u001b[0m \u001b[0;36m0\u001b[0m\u001b[0;34m\u001b[0m\u001b[0;34m\u001b[0m\u001b[0m\n\u001b[1;32m    105\u001b[0m         \u001b[0mloss\u001b[0m \u001b[0;34m=\u001b[0m \u001b[0mrec_loss\u001b[0m \u001b[0;34m+\u001b[0m \u001b[0mclass_vae_loss\u001b[0m \u001b[0;34m+\u001b[0m \u001b[0mnorm_loss\u001b[0m\u001b[0;34m\u001b[0m\u001b[0;34m\u001b[0m\u001b[0m\n\u001b[0;32m--> 106\u001b[0;31m         \u001b[0mloss\u001b[0m\u001b[0;34m.\u001b[0m\u001b[0mbackward\u001b[0m\u001b[0;34m(\u001b[0m\u001b[0;34m)\u001b[0m\u001b[0;34m\u001b[0m\u001b[0;34m\u001b[0m\u001b[0m\n\u001b[0m\u001b[1;32m    107\u001b[0m \u001b[0;34m\u001b[0m\u001b[0m\n\u001b[1;32m    108\u001b[0m         \u001b[0mtorch\u001b[0m\u001b[0;34m.\u001b[0m\u001b[0mnn\u001b[0m\u001b[0;34m.\u001b[0m\u001b[0mutils\u001b[0m\u001b[0;34m.\u001b[0m\u001b[0mclip_grad_norm_\u001b[0m\u001b[0;34m(\u001b[0m\u001b[0mmodel\u001b[0m\u001b[0;34m.\u001b[0m\u001b[0mparameters\u001b[0m\u001b[0;34m(\u001b[0m\u001b[0;34m)\u001b[0m\u001b[0;34m,\u001b[0m \u001b[0mclip\u001b[0m\u001b[0;34m)\u001b[0m\u001b[0;34m\u001b[0m\u001b[0;34m\u001b[0m\u001b[0m\n",
      "\u001b[0;32m/packages/7x/anaconda3/5.3.0/lib/python3.7/site-packages/torch/tensor.py\u001b[0m in \u001b[0;36mbackward\u001b[0;34m(self, gradient, retain_graph, create_graph)\u001b[0m\n\u001b[1;32m    116\u001b[0m                 \u001b[0mproducts\u001b[0m\u001b[0;34m.\u001b[0m \u001b[0mDefaults\u001b[0m \u001b[0mto\u001b[0m\u001b[0;31m \u001b[0m\u001b[0;31m`\u001b[0m\u001b[0;31m`\u001b[0m\u001b[0;32mFalse\u001b[0m\u001b[0;31m`\u001b[0m\u001b[0;31m`\u001b[0m\u001b[0;34m.\u001b[0m\u001b[0;34m\u001b[0m\u001b[0;34m\u001b[0m\u001b[0m\n\u001b[1;32m    117\u001b[0m         \"\"\"\n\u001b[0;32m--> 118\u001b[0;31m         \u001b[0mtorch\u001b[0m\u001b[0;34m.\u001b[0m\u001b[0mautograd\u001b[0m\u001b[0;34m.\u001b[0m\u001b[0mbackward\u001b[0m\u001b[0;34m(\u001b[0m\u001b[0mself\u001b[0m\u001b[0;34m,\u001b[0m \u001b[0mgradient\u001b[0m\u001b[0;34m,\u001b[0m \u001b[0mretain_graph\u001b[0m\u001b[0;34m,\u001b[0m \u001b[0mcreate_graph\u001b[0m\u001b[0;34m)\u001b[0m\u001b[0;34m\u001b[0m\u001b[0;34m\u001b[0m\u001b[0m\n\u001b[0m\u001b[1;32m    119\u001b[0m \u001b[0;34m\u001b[0m\u001b[0m\n\u001b[1;32m    120\u001b[0m     \u001b[0;32mdef\u001b[0m \u001b[0mregister_hook\u001b[0m\u001b[0;34m(\u001b[0m\u001b[0mself\u001b[0m\u001b[0;34m,\u001b[0m \u001b[0mhook\u001b[0m\u001b[0;34m)\u001b[0m\u001b[0;34m:\u001b[0m\u001b[0;34m\u001b[0m\u001b[0;34m\u001b[0m\u001b[0m\n",
      "\u001b[0;32m/packages/7x/anaconda3/5.3.0/lib/python3.7/site-packages/torch/autograd/__init__.py\u001b[0m in \u001b[0;36mbackward\u001b[0;34m(tensors, grad_tensors, retain_graph, create_graph, grad_variables)\u001b[0m\n\u001b[1;32m     91\u001b[0m     Variable._execution_engine.run_backward(\n\u001b[1;32m     92\u001b[0m         \u001b[0mtensors\u001b[0m\u001b[0;34m,\u001b[0m \u001b[0mgrad_tensors\u001b[0m\u001b[0;34m,\u001b[0m \u001b[0mretain_graph\u001b[0m\u001b[0;34m,\u001b[0m \u001b[0mcreate_graph\u001b[0m\u001b[0;34m,\u001b[0m\u001b[0;34m\u001b[0m\u001b[0;34m\u001b[0m\u001b[0m\n\u001b[0;32m---> 93\u001b[0;31m         allow_unreachable=True)  # allow_unreachable flag\n\u001b[0m\u001b[1;32m     94\u001b[0m \u001b[0;34m\u001b[0m\u001b[0m\n\u001b[1;32m     95\u001b[0m \u001b[0;34m\u001b[0m\u001b[0m\n",
      "\u001b[0;31mKeyboardInterrupt\u001b[0m: "
     ]
    }
   ],
   "source": [
    "\n",
    "N_EPOCHS= 50\n",
    "save_path_model= './models/Farrow/finetuned/soma_centered/finetuned_scaled_vae_frac%.1f_best_run%i.pt'\n",
    "save_path_losses = './models/Farrow/finetuned/soma_centered/finetuned_scaled_losses_frac%.1f_run%i.npy'\n",
    "save_path_elapsed_time = './models/Farrow/finetuned/soma_centered/finetuned_scaled_elapsed_time_frac%.1f_run%i.npy'\n",
    "# state_dict = torch.load('./models/5_populations/emb32_hid32_lat32_dp0.1_k500_max_frac1.0_scaled_sum_run1_best.pt')\n",
    "\n",
    "start = torch.cuda.Event(enable_timing=True)\n",
    "end = torch.cuda.Event(enable_timing=True)\n",
    "\n",
    "for frac in [1., .9, .5, .1, 0.]:\n",
    "    \n",
    "  \n",
    "    runs = range(1,4)\n",
    "        \n",
    "    for run in runs:\n",
    "        \n",
    "        #optimizer\n",
    "        optimizer = optim.Adam(list(model.parameters()) + list(classifier.parameters()), lr=lr)\n",
    "        \n",
    "        if os.path.exists(save_path_model%(frac,run)):\n",
    "            state_dict = torch.load(save_path_model%(frac,run))\n",
    "            \n",
    "            # load model\n",
    "            model.load_state_dict(state_dict['model_state_dict'])\n",
    "            \n",
    "            # overwrite optimizer if the model had been trained already\n",
    "            optimizer.load_state_dict(state_dict['optimizer_state_dict'])\n",
    "            classifier.load_state_dict(state_dict['classifier_state_dict'])\n",
    "            losses = np.load(save_path_losses%(frac, run))\n",
    "            elapsed_time = np.load(save_path_elapsed_time%(frac, run))\n",
    "            \n",
    "            last_epoch = state_dict['epoch']\n",
    "            training = list(losses[:last_epoch,:2])\n",
    "            validation = list(losses[:last_epoch,2:])\n",
    "            elapsed_time = elapsed_time[:last_epoch]\n",
    "            elapsed_time = np.hstack((elapsed_time, np.zeros((N_EPOCHS))))\n",
    "            best_test_loss = losses[:,2].min()\n",
    "            \n",
    "        else:\n",
    "            # load pre-trained model\n",
    "            state_dict = torch.load('./models/Farrow/scratch/soma_centered/vae_frac0.0_scaled_best_run%i.pt'%run)\n",
    "            # the first run was the best\n",
    "            model.load_state_dict(state_dict['model_state_dict'])\n",
    "            classifier.apply(init_weights)\n",
    "            best_test_loss = np.infty\n",
    "\n",
    "            losses = np.load('./models/Farrow/scratch/soma_centered/losses_frac0.0_scaled_run%i.npy'%run)\n",
    "            elapsed_time = np.load('./models/Farrow/scratch/soma_centered/elapsed_time_frac0.0_scaled_run%i.npy'%run)\n",
    "            last_epoch = len(elapsed_time)\n",
    "            elapsed_time = np.hstack((elapsed_time, np.zeros((N_EPOCHS))))\n",
    "            training = list(losses[:,:2])\n",
    "            validation = list(losses[:,2:])\n",
    "        \n",
    "        \n",
    "        cross_entropy_loss = torch.nn.CrossEntropyLoss(reduction='sum', ignore_index=-100)\n",
    "        mse_loss = torch.nn.MSELoss(reduction='sum')\n",
    "\n",
    "\n",
    "        \n",
    "        \n",
    "        for e in range(N_EPOCHS):\n",
    "            start.record()\n",
    "            train_loss, train_class_loss = train(model, classifier, train_iterator, optimizer, \n",
    "                                               calculate_loss,cross_entropy_loss, clip=1, norm_p=None,\n",
    "                                                 class_fraction=frac)\n",
    "            val_loss, val_class_loss = evaluate(model,classifier, val_iterator,\n",
    "                                                 calculate_loss, cross_entropy_loss, norm_p=None)\n",
    "\n",
    "            train_loss /= N_train\n",
    "            train_class_loss /= N_train\n",
    "            val_loss /= N_val\n",
    "            val_class_loss /=N_val\n",
    "            \n",
    "            end.record()\n",
    "\n",
    "            # Waits for everything to finish running\n",
    "            torch.cuda.synchronize()\n",
    "            elapsed_time[e+last_epoch] = start.elapsed_time(end) # milliseconds\n",
    "            \n",
    "            training += [[train_loss,train_class_loss]]\n",
    "            validation += [[val_loss, val_class_loss]]\n",
    "            print(f'Epoch {e}, Train Loss: {train_loss:.2f}, Val Loss: {val_loss:.2f}, Time elapsed [s]: {elapsed_time[e]/1000:.2f}')\n",
    "\n",
    "\n",
    "            if e % 50 == 0 and e > 0:\n",
    "                optimizer.param_groups[0]['lr'] = optimizer.param_groups[0]['lr']/2\n",
    "\n",
    "            if best_test_loss > val_loss:\n",
    "                best_test_loss = val_loss\n",
    "                torch.save({'epoch': e + last_epoch,\n",
    "                            'model_state_dict': model.state_dict(),\n",
    "                            'optimizer_state_dict': optimizer.state_dict(),\n",
    "                            'classifier_state_dict': classifier.state_dict()\n",
    "                               },save_path_model%(frac, run))\n",
    "\n",
    "                validation_ = np.array(validation)\n",
    "                training_ = np.array(training)\n",
    "                # [:,0] = training loss, [:,1] = training classification loss \n",
    "                # [:,2] validation loss, [:,3] validation classification loss\n",
    "                losses = np.hstack((training_, validation_))\n",
    "                np.save(save_path_losses%(frac, run),losses)\n",
    "                np.save(save_path_elapsed_time%(frac,run),elapsed_time)\n",
    "        validation = np.array(validation)\n",
    "        training = np.array(training)\n",
    "        losses = np.hstack((training, validation))\n",
    "        np.save(save_path_losses%(frac, run), losses)\n",
    "        np.save(save_path_elapsed_time%(frac,run),elapsed_time)"
   ]
  },
  {
   "cell_type": "code",
   "execution_count": null,
   "metadata": {},
   "outputs": [],
   "source": [
    "plt.plot(np.array(validation)[:,0])"
   ]
  },
  {
   "cell_type": "code",
   "execution_count": 23,
   "metadata": {},
   "outputs": [
    {
     "data": {
      "text/plain": [
       "26.72294771484375"
      ]
     },
     "execution_count": 23,
     "metadata": {},
     "output_type": "execute_result"
    }
   ],
   "source": [
    "elapsed_time.mean()/1000\n"
   ]
  }
 ],
 "metadata": {
  "kernelspec": {
   "display_name": "Py3-basic",
   "language": "python",
   "name": "python3"
  },
  "language_info": {
   "codemirror_mode": {
    "name": "ipython",
    "version": 3
   },
   "file_extension": ".py",
   "mimetype": "text/x-python",
   "name": "python",
   "nbconvert_exporter": "python",
   "pygments_lexer": "ipython3",
   "version": "3.7.2"
  }
 },
 "nbformat": 4,
 "nbformat_minor": 4
}
