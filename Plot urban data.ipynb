{
 "cells": [
  {
   "cell_type": "code",
   "execution_count": 1,
   "metadata": {},
   "outputs": [],
   "source": [
    "import os\n",
    "\n",
    "import pandas as pd\n",
    "import numpy as np\n",
    "from scipy.io import savemat\n",
    "\n",
    "\n",
    "## plotting ###\n",
    "\n",
    "import matplotlib.pyplot as plt\n",
    "import seaborn as sns\n",
    "\n",
    "%matplotlib inline"
   ]
  },
  {
   "cell_type": "markdown",
   "metadata": {},
   "source": [
    "### plot data"
   ]
  },
  {
   "cell_type": "code",
   "execution_count": 2,
   "metadata": {},
   "outputs": [],
   "source": [
    "import warnings\n",
    "\n",
    "warnings.filterwarnings('ignore')\n",
    "import numpy as np"
   ]
  },
  {
   "cell_type": "code",
   "execution_count": 8,
   "metadata": {},
   "outputs": [],
   "source": [
    "from utils.rw_utils import load_neurons\n",
    "import os\n",
    "\n",
    "neurons = load_neurons('./data/urban_data/neurons/soma_centered/', sort=False)\n",
    "\n",
    "root, _, files = list(os.walk('./data/urban_data/neurons/soma_centered/'))[0]\n",
    "sort_index = np.array(files).argsort()\n",
    "\n",
    "neurons = np.array(neurons)[sort_index]\n",
    "\n",
    "labels = pd.read_csv(\"./data/urban_data/meta_data_labeled_cells_urban.csv\")"
   ]
  },
  {
   "cell_type": "code",
   "execution_count": 5,
   "metadata": {},
   "outputs": [],
   "source": [
    "path_angles = np.concatenate([list(n.get_path_angles().values()) for n in neurons])\n",
    "branch_angles = np.concatenate([list(n.get_branch_angles().values()) for n in neurons])"
   ]
  },
  {
   "cell_type": "code",
   "execution_count": 6,
   "metadata": {},
   "outputs": [
    {
     "data": {
      "text/plain": [
       "145.5714280353125"
      ]
     },
     "execution_count": 6,
     "metadata": {},
     "output_type": "execute_result"
    }
   ],
   "source": [
    "np.percentile(branch_angles,95)"
   ]
  },
  {
   "cell_type": "code",
   "execution_count": 7,
   "metadata": {},
   "outputs": [
    {
     "ename": "NameError",
     "evalue": "name 'labels' is not defined",
     "output_type": "error",
     "traceback": [
      "\u001b[0;31m---------------------------------------------------------------------------\u001b[0m",
      "\u001b[0;31mNameError\u001b[0m                                 Traceback (most recent call last)",
      "\u001b[1;32m/home/ellismith/morphvae/Plot urban data.ipynb Cell 8'\u001b[0m in \u001b[0;36m<cell line: 3>\u001b[0;34m()\u001b[0m\n\u001b[1;32m      <a href='vscode-notebook-cell://ssh-remote%2Bspike/home/ellismith/morphvae/Plot%20urban%20data.ipynb#ch0000006vscode-remote?line=0'>1</a>\u001b[0m np\u001b[39m.\u001b[39mrandom\u001b[39m.\u001b[39mseed(\u001b[39m42\u001b[39m)\n\u001b[1;32m      <a href='vscode-notebook-cell://ssh-remote%2Bspike/home/ellismith/morphvae/Plot%20urban%20data.ipynb#ch0000006vscode-remote?line=1'>2</a>\u001b[0m n_samples \u001b[39m=\u001b[39m \u001b[39m1\u001b[39m\n\u001b[0;32m----> <a href='vscode-notebook-cell://ssh-remote%2Bspike/home/ellismith/morphvae/Plot%20urban%20data.ipynb#ch0000006vscode-remote?line=2'>3</a>\u001b[0m onoffds_index \u001b[39m=\u001b[39m np\u001b[39m.\u001b[39mrandom\u001b[39m.\u001b[39mchoice(np\u001b[39m.\u001b[39mwhere(labels[\u001b[39m'\u001b[39m\u001b[39mclusterA\u001b[39m\u001b[39m'\u001b[39m] \u001b[39m==\u001b[39m \u001b[39m'\u001b[39m\u001b[39mclus4\u001b[39m\u001b[39m'\u001b[39m)[\u001b[39m0\u001b[39m], size\u001b[39m=\u001b[39mn_samples, replace\u001b[39m=\u001b[39m\u001b[39mFalse\u001b[39;00m)\n\u001b[1;32m      <a href='vscode-notebook-cell://ssh-remote%2Bspike/home/ellismith/morphvae/Plot%20urban%20data.ipynb#ch0000006vscode-remote?line=3'>4</a>\u001b[0m soffa_index \u001b[39m=\u001b[39m np\u001b[39m.\u001b[39mrandom\u001b[39m.\u001b[39mchoice(np\u001b[39m.\u001b[39mwhere(labels[\u001b[39m'\u001b[39m\u001b[39mclusterA\u001b[39m\u001b[39m'\u001b[39m] \u001b[39m==\u001b[39m \u001b[39m'\u001b[39m\u001b[39mclus1\u001b[39m\u001b[39m'\u001b[39m)[\u001b[39m0\u001b[39m], size\u001b[39m=\u001b[39mn_samples, replace\u001b[39m=\u001b[39m\u001b[39mFalse\u001b[39;00m)\n\u001b[1;32m      <a href='vscode-notebook-cell://ssh-remote%2Bspike/home/ellismith/morphvae/Plot%20urban%20data.ipynb#ch0000006vscode-remote?line=4'>5</a>\u001b[0m tona_index \u001b[39m=\u001b[39m np\u001b[39m.\u001b[39mrandom\u001b[39m.\u001b[39mchoice(np\u001b[39m.\u001b[39mwhere(labels[\u001b[39m'\u001b[39m\u001b[39mclusterA\u001b[39m\u001b[39m'\u001b[39m] \u001b[39m==\u001b[39m \u001b[39m'\u001b[39m\u001b[39mclus11\u001b[39m\u001b[39m'\u001b[39m)[\u001b[39m0\u001b[39m], size\u001b[39m=\u001b[39mn_samples, replace\u001b[39m=\u001b[39m\u001b[39mFalse\u001b[39;00m) \n",
      "\u001b[0;31mNameError\u001b[0m: name 'labels' is not defined"
     ]
    }
   ],
   "source": [
    "np.random.seed(42)\n",
    "n_samples = 1\n",
    "onoffds_index = np.random.choice(np.where(labels['clusterA'] == 'clus4')[0], size=n_samples, replace=False)\n",
    "soffa_index = np.random.choice(np.where(labels['clusterA'] == 'clus1')[0], size=n_samples, replace=False)\n",
    "tona_index = np.random.choice(np.where(labels['clusterA'] == 'clus11')[0], size=n_samples, replace=False) \n",
    "fminion_index = np.random.choice(np.where(labels['clusterA'] == 'clus9')[0], size=n_samples, replace=False) \n",
    "type_indices = np.concatenate((soffa_index, onoffds_index, tona_index,fminion_index))"
   ]
  },
  {
   "cell_type": "code",
   "execution_count": 17,
   "metadata": {},
   "outputs": [
    {
     "ename": "ValueError",
     "evalue": "'a' cannot be empty unless no samples are taken",
     "output_type": "error",
     "traceback": [
      "\u001b[0;31m---------------------------------------------------------------------------\u001b[0m",
      "\u001b[0;31mValueError\u001b[0m                                Traceback (most recent call last)",
      "\u001b[1;32m/home/ellismith/morphvae/Plot urban data.ipynb Cell 8'\u001b[0m in \u001b[0;36m<cell line: 3>\u001b[0;34m()\u001b[0m\n\u001b[1;32m      <a href='vscode-notebook-cell://ssh-remote%2Bspike/home/ellismith/morphvae/Plot%20urban%20data.ipynb#ch0000007vscode-remote?line=1'>2</a>\u001b[0m type_indices \u001b[39m=\u001b[39m []\n\u001b[1;32m      <a href='vscode-notebook-cell://ssh-remote%2Bspike/home/ellismith/morphvae/Plot%20urban%20data.ipynb#ch0000007vscode-remote?line=2'>3</a>\u001b[0m \u001b[39mfor\u001b[39;00m c \u001b[39min\u001b[39;00m [\u001b[39m'\u001b[39m\u001b[39mclus1\u001b[39m\u001b[39m'\u001b[39m, \u001b[39m'\u001b[39m\u001b[39mclus2\u001b[39m\u001b[39m'\u001b[39m,\u001b[39m'\u001b[39m\u001b[39mclus4\u001b[39m\u001b[39m'\u001b[39m, \u001b[39m'\u001b[39m\u001b[39mclus5\u001b[39m\u001b[39m'\u001b[39m, \u001b[39m'\u001b[39m\u001b[39mclus6\u001b[39m\u001b[39m'\u001b[39m, \u001b[39m'\u001b[39m\u001b[39mclus8\u001b[39m\u001b[39m'\u001b[39m, \u001b[39m'\u001b[39m\u001b[39mclus10\u001b[39m\u001b[39m'\u001b[39m, \u001b[39m'\u001b[39m\u001b[39mclus13\u001b[39m\u001b[39m'\u001b[39m]:\n\u001b[0;32m----> <a href='vscode-notebook-cell://ssh-remote%2Bspike/home/ellismith/morphvae/Plot%20urban%20data.ipynb#ch0000007vscode-remote?line=3'>4</a>\u001b[0m     c_index \u001b[39m=\u001b[39m np\u001b[39m.\u001b[39;49mrandom\u001b[39m.\u001b[39;49mchoice(np\u001b[39m.\u001b[39;49mwhere(labels[\u001b[39m'\u001b[39;49m\u001b[39mcluster\u001b[39;49m\u001b[39m'\u001b[39;49m] \u001b[39m==\u001b[39;49m c)[\u001b[39m0\u001b[39;49m], size\u001b[39m=\u001b[39;49m\u001b[39m1\u001b[39;49m, replace\u001b[39m=\u001b[39;49m\u001b[39mFalse\u001b[39;49;00m)\n\u001b[1;32m      <a href='vscode-notebook-cell://ssh-remote%2Bspike/home/ellismith/morphvae/Plot%20urban%20data.ipynb#ch0000007vscode-remote?line=4'>5</a>\u001b[0m     type_indices \u001b[39m=\u001b[39m np\u001b[39m.\u001b[39mconcatenate((type_indices, c_index))\n\u001b[1;32m      <a href='vscode-notebook-cell://ssh-remote%2Bspike/home/ellismith/morphvae/Plot%20urban%20data.ipynb#ch0000007vscode-remote?line=5'>6</a>\u001b[0m type_indices \u001b[39m=\u001b[39m type_indices\u001b[39m.\u001b[39mastype(\u001b[39mint\u001b[39m)\n",
      "File \u001b[0;32mmtrand.pyx:908\u001b[0m, in \u001b[0;36mnumpy.random.mtrand.RandomState.choice\u001b[0;34m()\u001b[0m\n",
      "\u001b[0;31mValueError\u001b[0m: 'a' cannot be empty unless no samples are taken"
     ]
    }
   ],
   "source": [
    "np.random.seed(17)\n",
    "type_indices = []\n",
    "for c in ['clus1', 'clus2','clus4', 'clus5', 'clus6', 'clus8', 'clus10', 'clus13']:\n",
    "    c_index = np.random.choice(np.where(labels['cluster'] == c)[0], size=1, replace=False)\n",
    "    type_indices = np.concatenate((type_indices, c_index))\n",
    "type_indices = type_indices.astype(int)"
   ]
  },
  {
   "cell_type": "code",
   "execution_count": 20,
   "metadata": {},
   "outputs": [],
   "source": [
    "#cluster_ids = [int(f[4:]) for f in np.unique(labels['cluster'])[17:]]\n",
    "cluster_ids = np.unique(labels['cluster'])\n",
    "##cluster_ids.sort()\n",
    "colors = dict(zip(['clus%i'%i for i in cluster_ids ],sns.color_palette('icefire', n_colors=15)))"
   ]
  },
  {
   "cell_type": "code",
   "execution_count": 21,
   "metadata": {},
   "outputs": [
    {
     "data": {
      "text/plain": [
       "{'clus1': (0.56349779, 0.78357215, 0.81834861),\n",
       " 'clus2': (0.37523981, 0.67057537, 0.80420832),\n",
       " 'clus3': (0.23526251, 0.54739477, 0.8115939),\n",
       " 'clus4': (0.25423116, 0.40433127, 0.78155831),\n",
       " 'clus5': (0.28233561, 0.28527482, 0.58742866)}"
      ]
     },
     "execution_count": 21,
     "metadata": {},
     "output_type": "execute_result"
    }
   ],
   "source": [
    "colors"
   ]
  },
  {
   "cell_type": "code",
   "execution_count": 23,
   "metadata": {},
   "outputs": [
    {
     "data": {
      "text/plain": [
       "1"
      ]
     },
     "execution_count": 23,
     "metadata": {},
     "output_type": "execute_result"
    }
   ],
   "source": [
    "labels.iloc[ix_]['cluster']"
   ]
  },
  {
   "cell_type": "code",
   "execution_count": 12,
   "metadata": {},
   "outputs": [
    {
     "data": {
      "text/plain": [
       "array([0, 1, 2, 3, 4])"
      ]
     },
     "execution_count": 12,
     "metadata": {},
     "output_type": "execute_result"
    }
   ],
   "source": [
    "type_indices = np.array(range(5))\n",
    "type_indices"
   ]
  },
  {
   "cell_type": "code",
   "execution_count": 39,
   "metadata": {},
   "outputs": [
    {
     "data": {
      "image/png": "[encoded data removed]",
      "text/plain": [
       "<Figure size 720x360 with 1 Axes>"
      ]
     },
     "metadata": {
      "needs_background": "light"
     },
     "output_type": "display_data"
    }
   ],
   "source": [
    "fig = plt.figure(figsize=(10,5))\n",
    "ax1 = plt.subplot(121)\n",
    "neurons[0].draw_2D(fig, ax=ax1, projection='xy')"
   ]
  },
  {
   "cell_type": "code",
   "execution_count": 36,
   "metadata": {
    "scrolled": false
   },
   "outputs": [
    {
     "data": {
      "image/png": "[encoded data removed]",
      "text/plain": [
       "<Figure size 864x288 with 5 Axes>"
      ]
     },
     "metadata": {
      "needs_background": "light"
     },
     "output_type": "display_data"
    }
   ],
   "source": [
    "\n",
    "fig, axes = plt.subplots(1,5, sharex=True, sharey=True, figsize=(12,4))\n",
    "\n",
    "for k, ix_ in enumerate(type_indices):\n",
    "    \n",
    "    c = colors[labels.iloc[ix_]['cluster']]\n",
    "    print(c)\n",
    "    neurons[ix_].draw_2D(ax=axes[k], dendrite_color=c, projection='xy')\n",
    "    axes[k].axis('off')\n",
    "    axes[k].set_aspect('equal')\n",
    "    axes[k].scatter(0, 0, c='k', marker='s', zorder=10, s=8)\n",
    "    \n",
    "    inset_axis = axes[k].inset_axes([.6,.8,.4,.4])\n",
    "    neurons[ix_].draw_2D(ax=inset_axis, dendrite_color=c, projection='xz')\n",
    "    inset_axis.axis('off')\n",
    "    inset_axis.set_aspect('equal')\n",
    "    \n",
    "    if k == 1:\n",
    "        axes[1].plot([-2,-1], [-3,-3], c='k', linewidth=2)\n",
    "#         inset_axis.plot([-2,-1], [-1.5,-1.5], c='k', linewidth=3)\n",
    "\n",
    "plt.tight_layout()\n",
    "fig.subplots_adjust(wspace=-.15)\n",
    "plt.savefig('./data/urban_data/Fig_urban.svg', format='svg')"
   ]
  },
  {
   "cell_type": "code",
   "execution_count": null,
   "metadata": {},
   "outputs": [],
   "source": []
  }
 ],
 "metadata": {
  "kernelspec": {
   "display_name": "Python 3",
   "language": "python",
   "name": "python3"
  },
  "language_info": {
   "codemirror_mode": {
    "name": "ipython",
    "version": 3
   },
   "file_extension": ".py",
   "mimetype": "text/x-python",
   "name": "python",
   "nbconvert_exporter": "python",
   "pygments_lexer": "ipython3",
   "version": "3.9.4"
  },
  "varInspector": {
   "cols": {
    "lenName": 16,
    "lenType": 16,
    "lenVar": 40
   },
   "kernels_config": {
    "python": {
     "delete_cmd_postfix": "",
     "delete_cmd_prefix": "del ",
     "library": "var_list.py",
     "varRefreshCmd": "print(var_dic_list())"
    },
    "r": {
     "delete_cmd_postfix": ") ",
     "delete_cmd_prefix": "rm(",
     "library": "var_list.r",
     "varRefreshCmd": "cat(var_dic_list()) "
    }
   },
   "types_to_exclude": [
    "module",
    "function",
    "builtin_function_or_method",
    "instance",
    "_Feature"
   ],
   "window_display": false
  }
 },
 "nbformat": 4,
 "nbformat_minor": 4
}
