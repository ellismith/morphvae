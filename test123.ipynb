{
 "cells": [
  {
   "cell_type": "code",
   "execution_count": 6,
   "metadata": {},
   "outputs": [],
   "source": [
    "from time import time, sleep\n",
    "from datetime import datetime"
   ]
  },
  {
   "cell_type": "code",
   "execution_count": 4,
   "metadata": {},
   "outputs": [],
   "source": [
    "path = \"./test_123\"\n",
    "import os \n",
    "os.makedirs(path, exist_ok=True)"
   ]
  },
  {
   "cell_type": "code",
   "execution_count": 2,
   "metadata": {},
   "outputs": [
    {
     "data": {
      "text/plain": [
       "'./test123'"
      ]
     },
     "execution_count": 2,
     "metadata": {},
     "output_type": "execute_result"
    }
   ],
   "source": [
    "path"
   ]
  },
  {
   "cell_type": "code",
   "execution_count": null,
   "metadata": {},
   "outputs": [
    {
     "name": "stdout",
     "output_type": "stream",
     "text": [
      "Current Time = 21:59:20\n",
      "Current Time = 21:59:30\n",
      "Current Time = 21:59:40\n",
      "Current Time = 21:59:50\n",
      "Current Time = 22:00:00\n",
      "Current Time = 22:00:10\n",
      "Current Time = 22:00:20\n",
      "Current Time = 22:00:30\n",
      "Current Time = 22:00:40\n",
      "Current Time = 22:00:50\n",
      "Current Time = 22:01:00\n",
      "Current Time = 22:01:10\n",
      "Current Time = 22:01:20\n",
      "Current Time = 22:01:30\n",
      "Current Time = 22:01:40\n",
      "Current Time = 22:01:50\n",
      "Current Time = 22:02:00\n",
      "Current Time = 22:02:10\n",
      "Current Time = 22:02:20\n",
      "Current Time = 22:02:30\n",
      "Current Time = 22:02:40\n",
      "Current Time = 22:02:50\n",
      "Current Time = 22:03:00\n",
      "Current Time = 22:03:10\n",
      "Current Time = 22:03:20\n",
      "Current Time = 22:03:30\n",
      "Current Time = 22:03:40\n",
      "Current Time = 22:03:50\n",
      "Current Time = 22:04:00\n",
      "Current Time = 22:04:10\n",
      "Current Time = 22:04:20\n",
      "Current Time = 22:04:30\n",
      "Current Time = 22:04:40\n",
      "Current Time = 22:04:50\n",
      "Current Time = 22:05:00\n",
      "Current Time = 22:05:10\n",
      "Current Time = 22:05:20\n",
      "Current Time = 22:05:30\n",
      "Current Time = 22:05:40\n",
      "Current Time = 22:05:50\n",
      "Current Time = 22:06:00\n",
      "Current Time = 22:06:10\n",
      "Current Time = 22:06:20\n",
      "Current Time = 22:06:30\n",
      "Current Time = 22:06:40\n",
      "Current Time = 22:06:50\n",
      "Current Time = 22:07:00\n",
      "Current Time = 22:07:10\n",
      "Current Time = 22:07:20\n",
      "Current Time = 22:07:30\n",
      "Current Time = 22:07:40\n",
      "Current Time = 22:07:50\n",
      "Current Time = 22:08:00\n",
      "Current Time = 22:08:10\n",
      "Current Time = 22:08:20\n",
      "Current Time = 22:08:30\n",
      "Current Time = 22:08:40\n",
      "Current Time = 22:08:50\n",
      "Current Time = 22:09:00\n",
      "Current Time = 22:09:10\n",
      "Current Time = 22:09:20\n",
      "Current Time = 22:09:30\n",
      "Current Time = 22:09:40\n",
      "Current Time = 22:09:50\n",
      "Current Time = 22:10:00\n",
      "Current Time = 22:10:10\n",
      "Current Time = 22:10:20\n",
      "Current Time = 22:10:30\n",
      "Current Time = 22:10:40\n",
      "Current Time = 22:10:50\n",
      "Current Time = 22:11:00\n",
      "Current Time = 22:11:10\n",
      "Current Time = 22:11:20\n",
      "Current Time = 22:11:30\n",
      "Current Time = 22:11:40\n",
      "Current Time = 22:11:50\n",
      "Current Time = 22:12:00\n",
      "Current Time = 22:12:10\n",
      "Current Time = 22:12:20\n",
      "Current Time = 22:12:30\n",
      "Current Time = 22:12:40\n"
     ]
    }
   ],
   "source": [
    "while True:\n",
    "    sleep(10 - time() % 10)\n",
    "    now = datetime.now()\n",
    "\n",
    "    current_time = now.strftime(\"%H:%M:%S\")\n",
    "    print(\"Current Time =\", current_time)"
   ]
  },
  {
   "cell_type": "code",
   "execution_count": null,
   "metadata": {},
   "outputs": [],
   "source": []
  }
 ],
 "metadata": {
  "kernelspec": {
   "display_name": "Py3-basic",
   "language": "python",
   "name": "python3"
  },
  "language_info": {
   "codemirror_mode": {
    "name": "ipython",
    "version": 3
   },
   "file_extension": ".py",
   "mimetype": "text/x-python",
   "name": "python",
   "nbconvert_exporter": "python",
   "pygments_lexer": "ipython3",
   "version": "3.7.2"
  }
 },
 "nbformat": 4,
 "nbformat_minor": 2
}
